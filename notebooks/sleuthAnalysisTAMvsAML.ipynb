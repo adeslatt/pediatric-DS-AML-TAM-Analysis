{
 "cells": [
  {
   "cell_type": "markdown",
   "id": "7d99a304-3ff3-4b4a-a09b-7fcaf6210cb4",
   "metadata": {},
   "source": [
    "# Pediatric DS AML vs TAM\n",
    "\n",
    "Sleuth Analysis with Kallisto Quantitation Input\n",
    "\n",
    "## Following the Pachterlab walkthrough\n",
    "[Using p-value aggregation to obtain gene differential expression in datasets with multiple experimental conditions](\n",
    "https://pachterlab.github.io/sleuth_walkthroughs/pval_agg/analysis.html)\n",
    "\n",
    "\n"
   ]
  },
  {
   "cell_type": "markdown",
   "id": "7ac92837-8970-4820-8557-342a4993df84",
   "metadata": {},
   "source": [
    "### Getting started with Sleuth\n",
    "\n",
    "**sleuth** is a tool for the analysis and comparison of multiple related RNA-Seq experiments. Key features include:\n",
    "\n",
    "* The ability to perform both transcript-level and gene-level analysis.\n",
    "* Compatibility with kallisto enabling a fast and accurate workflow from reads to results.\n",
    "* The use of boostraps to ascertain and correct for technical variation in experiments.\n",
    "* An interactive app for exploratory data analysis.\n",
    "\n",
    "To use sleuth, RNA-Seq data must first be quantified with kallisto ( which we did so with the CAVATICA workflow), which is a program for very fast RNA-Seq quantification based on pseudo-alignment. An important feature of kallisto is that it outputs bootstraps along with the estimates of transcript abundances. These can serve as proxies for technical replicates, allowing for an ascertainment of the variability in estimates due to the random processes underlying RNA-Seq as well as the statistical procedure of read assignment. kallisto can quantify 30 million human reads in less than 3 minutes on a Mac desktop computer using only the read sequences and a transcriptome index that itself takes less than 10 minutes to build. sleuth has been designed to work seamlessly and efficiently with kallisto, and therefore RNA-Seq analysis with kallisto and sleuth is tractable on a laptop computer in a matter of minutes. More details about kallisto and sleuth are provided the papers describing the methods:\n",
    "\n",
    "#### Citations\n",
    "\n",
    "* Nicolas L Bray, Harold Pimentel, Páll Melsted and Lior Pachter, Near-optimal probabilistic RNA-seq quantification, Nature Biotechnology 34, 525–527 (2016), doi:10.1038/nbt.3519\n",
    "\n",
    "* Harold Pimentel, Nicolas L Bray, Suzette Puente, Páll Melsted and Lior Pachter, Differential analysis of RNA-seq incorporating quantification uncertainty, in press.\n",
    "\n",
    "sleuth has been designed to facilitate the exploration of RNA-Seq data by utilizing the Shiny web application framework by RStudio. The worked example below illustrates how to load data into sleuth and how to open Shiny plots for exploratory data analysis. The code underlying all plots is available via the Shiny interface so that analyses can be fully “open source”.\n",
    "\n"
   ]
  },
  {
   "cell_type": "markdown",
   "id": "42a7cbed-f424-4492-b290-da466df30841",
   "metadata": {},
   "source": [
    "### Introduction\n",
    "\n",
    "Applying the same techniques used in the walk through - apply it to our own AML vs TAM\n",
    "\n",
    "We need to set up our working directory.\n",
    "And we need \n",
    "\n",
    "* `cowplot` - for making prettier plots and plots with grids.  and \n",
    "* `biomaRt` - for extracting the Ensembl transcript to gene mapping\n",
    "\n"
   ]
  },
  {
   "cell_type": "code",
   "execution_count": 1,
   "id": "d119c278-75b7-45e3-abb5-67a053799801",
   "metadata": {},
   "outputs": [
    {
     "name": "stderr",
     "output_type": "stream",
     "text": [
      "Updating HTML index of packages in '.Library'\n",
      "\n",
      "Making 'packages.html' ...\n",
      " done\n",
      "\n"
     ]
    }
   ],
   "source": [
    "install.packages(\"cowplot\")\n"
   ]
  },
  {
   "cell_type": "code",
   "execution_count": 2,
   "id": "3f11fb1c-4377-42a2-84ec-48029872462a",
   "metadata": {},
   "outputs": [
    {
     "name": "stderr",
     "output_type": "stream",
     "text": [
      "Bioconductor version '3.14' is out-of-date; the current release version '3.15'\n",
      "  is available with R version '4.2'; see https://bioconductor.org/install\n",
      "\n",
      "'getOption(\"repos\")' replaces Bioconductor standard repositories, see\n",
      "'?repositories' for details\n",
      "\n",
      "replacement repositories:\n",
      "    CRAN: https://cran.r-project.org\n",
      "\n",
      "\n",
      "Bioconductor version 3.14 (BiocManager 1.30.18), R 4.1.1 (2021-08-10)\n",
      "\n",
      "Old packages: 'backports', 'blob', 'brew', 'brio', 'broom', 'bslib', 'callr',\n",
      "  'caret', 'class', 'clipr', 'conflicted', 'covr', 'credentials', 'crosstalk',\n",
      "  'curl', 'DBI', 'dbplyr', 'desc', 'devtools', 'dials', 'diffobj', 'dplyr',\n",
      "  'DT', 'dtplyr', 'e1071', 'evaluate', 'forcats', 'foreach', 'forecast',\n",
      "  'furrr', 'future', 'future.apply', 'gargle', 'gert', 'ggplot2', 'gh',\n",
      "  'git2r', 'gitcreds', 'globals', 'googlesheets4', 'gower', 'hardhat', 'haven',\n",
      "  'hms', 'httpuv', 'httr', 'infer', 'ipred', 'IRdisplay', 'IRkernel',\n",
      "  'iterators', 'knitr', 'lattice', 'lhs', 'lmtest', 'lubridate', 'MASS',\n",
      "  'Matrix', 'mgcv', 'modeldata', 'modelr', 'nlme', 'nnet', 'objectProperties',\n",
      "  'objectSignals', 'openssl', 'parallelly', 'parsnip', 'patchwork', 'pbdZMQ',\n",
      "  'pillar', 'pkgbuild', 'pkgload', 'plyr', 'processx', 'progressr', 'proxy',\n",
      "  'ps', 'purrr', 'quantmod', 'randomForest', 'rcmdcheck', 'RcppArmadillo',\n",
      "  'RCurl', 'readr', 'readxl', 'recipes', 'remotes', 'repr', 'reprex', 'rex',\n",
      "  'rmarkdown', 'RODBC', 'roxygen2', 'rpart', 'rprojroot', 'rsample', 'RSQLite',\n",
      "  'rstudioapi', 'rversions', 'rvest', 'S4Vectors', 'sass', 'scales',\n",
      "  'sessioninfo', 'sevenbridges', 'shiny', 'survival', 'testthat', 'tibble',\n",
      "  'tidymodels', 'tidyr', 'tidyselect', 'tidyverse', 'timeDate', 'tinytex',\n",
      "  'tseries', 'TTR', 'tune', 'tzdb', 'urca', 'usethis', 'uuid', 'vctrs',\n",
      "  'vroom', 'waldo', 'workflows', 'workflowsets', 'xfun', 'xml2', 'xts', 'yaml',\n",
      "  'yardstick', 'zip', 'zoo'\n",
      "\n"
     ]
    }
   ],
   "source": [
    "if (!require(\"BiocManager\", quietly = TRUE))\n",
    "    install.packages(\"BiocManager\")\n",
    "BiocManager::install(version = \"3.14\")\n"
   ]
  },
  {
   "cell_type": "code",
   "execution_count": 3,
   "id": "4e3340e5-8b57-4eab-8191-d12240296a3b",
   "metadata": {},
   "outputs": [
    {
     "name": "stderr",
     "output_type": "stream",
     "text": [
      "'getOption(\"repos\")' replaces Bioconductor standard repositories, see\n",
      "'?repositories' for details\n",
      "\n",
      "replacement repositories:\n",
      "    CRAN: https://cran.r-project.org\n",
      "\n",
      "\n",
      "Bioconductor version 3.14 (BiocManager 1.30.18), R 4.1.1 (2021-08-10)\n",
      "\n",
      "Warning message:\n",
      "“package(s) not installed when version(s) same as current; use `force = TRUE` to\n",
      "  re-install: 'biomaRt'”\n",
      "Old packages: 'backports', 'blob', 'brew', 'brio', 'broom', 'bslib', 'callr',\n",
      "  'caret', 'class', 'clipr', 'conflicted', 'covr', 'credentials', 'crosstalk',\n",
      "  'curl', 'DBI', 'dbplyr', 'desc', 'devtools', 'dials', 'diffobj', 'dplyr',\n",
      "  'DT', 'dtplyr', 'e1071', 'evaluate', 'forcats', 'foreach', 'forecast',\n",
      "  'furrr', 'future', 'future.apply', 'gargle', 'gert', 'ggplot2', 'gh',\n",
      "  'git2r', 'gitcreds', 'globals', 'googlesheets4', 'gower', 'hardhat', 'haven',\n",
      "  'hms', 'httpuv', 'httr', 'infer', 'ipred', 'IRdisplay', 'IRkernel',\n",
      "  'iterators', 'knitr', 'lattice', 'lhs', 'lmtest', 'lubridate', 'MASS',\n",
      "  'Matrix', 'mgcv', 'modeldata', 'modelr', 'nlme', 'nnet', 'objectProperties',\n",
      "  'objectSignals', 'openssl', 'parallelly', 'parsnip', 'patchwork', 'pbdZMQ',\n",
      "  'pillar', 'pkgbuild', 'pkgload', 'plyr', 'processx', 'progressr', 'proxy',\n",
      "  'ps', 'purrr', 'quantmod', 'randomForest', 'rcmdcheck', 'RcppArmadillo',\n",
      "  'RCurl', 'readr', 'readxl', 'recipes', 'remotes', 'repr', 'reprex', 'rex',\n",
      "  'rmarkdown', 'RODBC', 'roxygen2', 'rpart', 'rprojroot', 'rsample', 'RSQLite',\n",
      "  'rstudioapi', 'rversions', 'rvest', 'S4Vectors', 'sass', 'scales',\n",
      "  'sessioninfo', 'sevenbridges', 'shiny', 'survival', 'testthat', 'tibble',\n",
      "  'tidymodels', 'tidyr', 'tidyselect', 'tidyverse', 'timeDate', 'tinytex',\n",
      "  'tseries', 'TTR', 'tune', 'tzdb', 'urca', 'usethis', 'uuid', 'vctrs',\n",
      "  'vroom', 'waldo', 'workflows', 'workflowsets', 'xfun', 'xml2', 'xts', 'yaml',\n",
      "  'yardstick', 'zip', 'zoo'\n",
      "\n"
     ]
    }
   ],
   "source": [
    "BiocManager::install(\"biomaRt\")"
   ]
  },
  {
   "cell_type": "code",
   "execution_count": 4,
   "id": "e5d10168-4933-411c-98f7-289eb247447a",
   "metadata": {},
   "outputs": [
    {
     "name": "stderr",
     "output_type": "stream",
     "text": [
      "Loading required package: usethis\n",
      "\n",
      "\n",
      "Attaching package: ‘devtools’\n",
      "\n",
      "\n",
      "The following object is masked from ‘package:BiocManager’:\n",
      "\n",
      "    install\n",
      "\n",
      "\n"
     ]
    }
   ],
   "source": [
    "library(\"devtools\")"
   ]
  },
  {
   "cell_type": "markdown",
   "id": "05532e3f-6097-4f15-816b-6571a5993a91",
   "metadata": {},
   "source": [
    "#### First time through - Received a Warning that rhdf5 not available for this version of R\n",
    "\n",
    "Looked up our version and google searched R 4.1.1 rhdf5\n",
    "    \n",
    "Can install using `BiocManager::install(\"rhdf5\")`\n",
    "\n",
    "Pactherlab says to install `*rhdf5*` first"
   ]
  },
  {
   "cell_type": "code",
   "execution_count": 5,
   "id": "0a43a9e1-7ce6-4b68-860b-5e3e1876ab3a",
   "metadata": {},
   "outputs": [
    {
     "name": "stderr",
     "output_type": "stream",
     "text": [
      "'getOption(\"repos\")' replaces Bioconductor standard repositories, see\n",
      "'?repositories' for details\n",
      "\n",
      "replacement repositories:\n",
      "    CRAN: https://cran.r-project.org\n",
      "\n",
      "\n",
      "Bioconductor version 3.14 (BiocManager 1.30.18), R 4.1.1 (2021-08-10)\n",
      "\n",
      "Warning message:\n",
      "“package(s) not installed when version(s) same as current; use `force = TRUE` to\n",
      "  re-install: 'rhdf5'”\n",
      "Old packages: 'backports', 'blob', 'brew', 'brio', 'broom', 'bslib', 'callr',\n",
      "  'caret', 'class', 'clipr', 'conflicted', 'covr', 'credentials', 'crosstalk',\n",
      "  'curl', 'DBI', 'dbplyr', 'desc', 'devtools', 'dials', 'diffobj', 'dplyr',\n",
      "  'DT', 'dtplyr', 'e1071', 'evaluate', 'forcats', 'foreach', 'forecast',\n",
      "  'furrr', 'future', 'future.apply', 'gargle', 'gert', 'ggplot2', 'gh',\n",
      "  'git2r', 'gitcreds', 'globals', 'googlesheets4', 'gower', 'hardhat', 'haven',\n",
      "  'hms', 'httpuv', 'httr', 'infer', 'ipred', 'IRdisplay', 'IRkernel',\n",
      "  'iterators', 'knitr', 'lattice', 'lhs', 'lmtest', 'lubridate', 'MASS',\n",
      "  'Matrix', 'mgcv', 'modeldata', 'modelr', 'nlme', 'nnet', 'objectProperties',\n",
      "  'objectSignals', 'openssl', 'parallelly', 'parsnip', 'patchwork', 'pbdZMQ',\n",
      "  'pillar', 'pkgbuild', 'pkgload', 'plyr', 'processx', 'progressr', 'proxy',\n",
      "  'ps', 'purrr', 'quantmod', 'randomForest', 'rcmdcheck', 'RcppArmadillo',\n",
      "  'RCurl', 'readr', 'readxl', 'recipes', 'remotes', 'repr', 'reprex', 'rex',\n",
      "  'rmarkdown', 'RODBC', 'roxygen2', 'rpart', 'rprojroot', 'rsample', 'RSQLite',\n",
      "  'rstudioapi', 'rversions', 'rvest', 'S4Vectors', 'sass', 'scales',\n",
      "  'sessioninfo', 'sevenbridges', 'shiny', 'survival', 'testthat', 'tibble',\n",
      "  'tidymodels', 'tidyr', 'tidyselect', 'tidyverse', 'timeDate', 'tinytex',\n",
      "  'tseries', 'TTR', 'tune', 'tzdb', 'urca', 'usethis', 'uuid', 'vctrs',\n",
      "  'vroom', 'waldo', 'workflows', 'workflowsets', 'xfun', 'xml2', 'xts', 'yaml',\n",
      "  'yardstick', 'zip', 'zoo'\n",
      "\n"
     ]
    }
   ],
   "source": [
    "BiocManager::install(\"rhdf5\")"
   ]
  },
  {
   "cell_type": "code",
   "execution_count": 9,
   "id": "d7d13154-63c7-45bd-86c1-a1f39dd592e3",
   "metadata": {},
   "outputs": [
    {
     "name": "stderr",
     "output_type": "stream",
     "text": [
      "Downloading GitHub repo pachterlab/sleuth@HEAD\n",
      "\n"
     ]
    },
    {
     "name": "stdout",
     "output_type": "stream",
     "text": [
      "sass        (0.4.0 -> 0.4.2 ) [CRAN]\n",
      "pillar      (1.6.2 -> 1.8.1 ) [CRAN]\n",
      "vctrs       (0.3.8 -> 0.4.2 ) [CRAN]\n",
      "tidyselect  (1.1.1 -> 1.2.0 ) [CRAN]\n",
      "tibble      (3.1.4 -> 3.1.8 ) [CRAN]\n",
      "bslib       (0.3.0 -> 0.4.0 ) [CRAN]\n",
      "fontawesome (NA    -> 0.3.0 ) [CRAN]\n",
      "httpuv      (1.6.3 -> 1.6.6 ) [CRAN]\n",
      "scales      (1.1.1 -> 1.2.1 ) [CRAN]\n",
      "plyr        (1.8.6 -> 1.8.7 ) [CRAN]\n",
      "purrr       (0.3.4 -> 0.3.5 ) [CRAN]\n",
      "dplyr       (1.0.7 -> 1.0.10) [CRAN]\n",
      "shiny       (1.6.0 -> 1.7.2 ) [CRAN]\n",
      "tidyr       (1.1.3 -> 1.2.1 ) [CRAN]\n",
      "ggplot2     (3.3.5 -> 3.3.6 ) [CRAN]\n"
     ]
    },
    {
     "name": "stderr",
     "output_type": "stream",
     "text": [
      "Skipping 1 packages not available: rhdf5\n",
      "\n",
      "Installing 15 packages: sass, pillar, vctrs, tidyselect, tibble, bslib, fontawesome, httpuv, scales, plyr, purrr, dplyr, shiny, tidyr, ggplot2\n",
      "\n",
      "Updating HTML index of packages in '.Library'\n",
      "\n",
      "Making 'packages.html' ...\n",
      " done\n",
      "\n"
     ]
    },
    {
     "name": "stdout",
     "output_type": "stream",
     "text": [
      "\u001b[32m✔\u001b[39m  \u001b[90mchecking for file ‘/tmp/RtmpD7VLyX/remotes485d2a7914f/pachterlab-sleuth-1f3760a/DESCRIPTION’\u001b[39m\u001b[36m\u001b[39m\n",
      "\u001b[90m─\u001b[39m\u001b[90m  \u001b[39m\u001b[90mpreparing ‘sleuth’:\u001b[39m\u001b[36m\u001b[39m\n",
      "\u001b[32m✔\u001b[39m  \u001b[90mchecking DESCRIPTION meta-information\u001b[39m\u001b[36m\u001b[39m\n",
      "\u001b[90m─\u001b[39m\u001b[90m  \u001b[39m\u001b[90mchecking for LF line-endings in source and make files and shell scripts\u001b[39m\u001b[36m\u001b[39m\n",
      "\u001b[90m─\u001b[39m\u001b[90m  \u001b[39m\u001b[90mchecking for empty or unneeded directories\u001b[39m\u001b[36m\u001b[39m\n",
      "   Omitted ‘LazyData’ from DESCRIPTION\n",
      "\u001b[90m─\u001b[39m\u001b[90m  \u001b[39m\u001b[90mbuilding ‘sleuth_0.30.0.tar.gz’\u001b[39m\u001b[36m\u001b[39m\n",
      "   \n",
      "\r"
     ]
    }
   ],
   "source": [
    "devtools::install_github(\"pachterlab/sleuth\")"
   ]
  },
  {
   "cell_type": "code",
   "execution_count": 10,
   "id": "87d4df88-a328-4191-b19a-e4c37443f1d0",
   "metadata": {},
   "outputs": [],
   "source": [
    "library(sleuth)"
   ]
  },
  {
   "cell_type": "markdown",
   "id": "09f66a8d-241c-4f86-8b23-3fcf14859d4f",
   "metadata": {},
   "source": [
    "#### If this fails ...\n",
    "\n",
    "Noted in issues https://github.com/pachterlab/sleuth/issues/259 -- follow the instructions from [Paast](https://github.com/pachterlab/sleuth/issues/259#issuecomment-966270599)"
   ]
  },
  {
   "cell_type": "markdown",
   "id": "a5947268-42ff-49ef-903b-980d1427b68a",
   "metadata": {},
   "source": [
    "We have successfully run Kallisto with Kallisto Quantitation.\n",
    "\n",
    "Results may be found after running an application on Cavatica here:\n",
    "\n",
    "```bash\n",
    "/sbgenomics/project-files/\n",
    "```\n",
    "\n",
    "For this analysis we will use the results from the run using `metadata_ten_samples_only_txt`\n",
    "\n",
    "Results are in:\n",
    "\n",
    "```bash\n",
    "/sbgenomics/project-files/ten_samples_expression_matrix.tpm.txt\n",
    "```"
   ]
  },
  {
   "cell_type": "markdown",
   "id": "ea7bc5b5-9e72-4bb8-92bd-d24143bb2479",
   "metadata": {},
   "source": [
    "### Parsing metadata\n",
    "\n",
    "A sleuth analysis is dependent on a metadata file, which describes the experimental design, the sample names, conditions and covariates. The metadata file is external to sleuth, and must be prepared prior to analysis. A metadata file should have been downloaded along with the kallisto quantifications. The first step in a sleuth analysis is loading of the metadata file. You might need the path in read_table below to where you have downloaded the kallisto dataset, so that the path directs to the sample_table.txt. We then select the relevant columns of the metadata.\n",
    "\n",
    "In our case, I used:\n",
    "\n",
    "```bash\n",
    "/sbgenomics/project-files/metadata_ten_samples_only.csv\n",
    "```"
   ]
  },
  {
   "cell_type": "code",
   "execution_count": 17,
   "id": "a430a324-b6b5-4255-81eb-b15734e115bd",
   "metadata": {},
   "outputs": [],
   "source": [
    "metadata <- read.table('/sbgenomics/project-files/metadata_ten_samples_only.csv', sep=\",\", header=TRUE, stringsAsFactors = FALSE)"
   ]
  },
  {
   "cell_type": "code",
   "execution_count": 18,
   "id": "809234a4-57cf-441d-a2c4-e1fd97127e90",
   "metadata": {},
   "outputs": [
    {
     "data": {
      "text/html": [
       "<table class=\"dataframe\">\n",
       "<caption>A data.frame: 20 × 8</caption>\n",
       "<thead>\n",
       "\t<tr><th></th><th scope=col>File.name</th><th scope=col>Case.ID</th><th scope=col>subject</th><th scope=col>Sample.ID</th><th scope=col>sample</th><th scope=col>Gender</th><th scope=col>Disease.type</th><th scope=col>Paired.end</th></tr>\n",
       "\t<tr><th></th><th scope=col>&lt;chr&gt;</th><th scope=col>&lt;chr&gt;</th><th scope=col>&lt;chr&gt;</th><th scope=col>&lt;chr&gt;</th><th scope=col>&lt;chr&gt;</th><th scope=col>&lt;chr&gt;</th><th scope=col>&lt;chr&gt;</th><th scope=col>&lt;int&gt;</th></tr>\n",
       "</thead>\n",
       "<tbody>\n",
       "\t<tr><th scope=row>1</th><td>PAXSBH-03A-01R_RBS_withJunctionsOnGenome_dupsFlagged_r2.fq.gz</td><td>PAXSBH</td><td>PAXSBH</td><td>PAXSBH-03A-01R</td><td>PAXSBH-03A-01R</td><td>Female</td><td>TAM   </td><td> 1</td></tr>\n",
       "\t<tr><th scope=row>2</th><td>PAXSBH-03A-01R_RBS_withJunctionsOnGenome_dupsFlagged_r1.fq.gz</td><td>PAXSBH</td><td>PAXSBH</td><td>PAXSBH-03A-01R</td><td>PAXSBH-03A-01R</td><td>Female</td><td>TAM   </td><td> 2</td></tr>\n",
       "\t<tr><th scope=row>3</th><td>PAXWGW-03A-01R_RBS_withJunctionsOnGenome_dupsFlagged_r2.fq.gz</td><td>PAXWGW</td><td>PAXWGW</td><td>PAXWGW-03A-01R</td><td>PAXWGW-03A-01R</td><td>Female</td><td>TAM   </td><td> 1</td></tr>\n",
       "\t<tr><th scope=row>4</th><td>PAXWGW-03A-01R_RBS_withJunctionsOnGenome_dupsFlagged_r1.fq.gz</td><td>PAXWGW</td><td>PAXWGW</td><td>PAXWGW-03A-01R</td><td>PAXWGW-03A-01R</td><td>Female</td><td>TAM   </td><td> 2</td></tr>\n",
       "\t<tr><th scope=row>5</th><td>PASNSP-03A-01R_RBS_withJunctionsOnGenome_dupsFlagged_r1.fq.gz</td><td>PASNSP</td><td>PASNSP</td><td>PASNSP-03A-01R</td><td>PASNSP-03A-01R</td><td>Male  </td><td>TAM   </td><td> 1</td></tr>\n",
       "\t<tr><th scope=row>6</th><td>PASNSP-03A-01R_RBS_withJunctionsOnGenome_dupsFlagged_r2.fq.gz</td><td>PASNSP</td><td>PASNSP</td><td>PASNSP-03A-01R</td><td>PASNSP-03A-01R</td><td>Male  </td><td>TAM   </td><td> 2</td></tr>\n",
       "\t<tr><th scope=row>7</th><td>PASWXF-03A-01R_RBS_withJunctionsOnGenome_dupsFlagged_r1.fq.gz</td><td>PASWXF</td><td>PASWXF</td><td>PASWXF-03A-01R</td><td>PASWXF-03A-01R</td><td>Male  </td><td>TAM   </td><td> 1</td></tr>\n",
       "\t<tr><th scope=row>8</th><td>PASWXF-03A-01R_RBS_withJunctionsOnGenome_dupsFlagged_r2.fq.gz</td><td>PASWXF</td><td>PASWXF</td><td>PASWXF-03A-01R</td><td>PASWXF-03A-01R</td><td>Male  </td><td>TAM   </td><td> 2</td></tr>\n",
       "\t<tr><th scope=row>9</th><td>PASXCL-03A-01R_RBS_withJunctionsOnGenome_dupsFlagged_r2.fq.gz</td><td>PASXCL</td><td>PASXCL</td><td>PASXCL-03A-01R</td><td>PASXCL-03A-01R</td><td>Male  </td><td>TAM   </td><td> 1</td></tr>\n",
       "\t<tr><th scope=row>10</th><td>PASXCL-03A-01R_RBS_withJunctionsOnGenome_dupsFlagged_r1.fq.gz</td><td>PASXCL</td><td>PASXCL</td><td>PASXCL-03A-01R</td><td>PASXCL-03A-01R</td><td>Male  </td><td>TAM   </td><td> 2</td></tr>\n",
       "\t<tr><th scope=row>11</th><td>PAVZTK-09A-01R_RBS_withJunctionsOnGenome_dupsFlagged_r1.fq.gz</td><td>PAVZTK</td><td>PAVZTK</td><td>PAVZTK-09A-01R</td><td>PAVZTK-09A-01R</td><td>Female</td><td>DS-AML</td><td> 1</td></tr>\n",
       "\t<tr><th scope=row>12</th><td>PAVZTK-09A-01R_RBS_withJunctionsOnGenome_dupsFlagged_r2.fq.gz</td><td>PAVZTK</td><td>PAVZTK</td><td>PAVZTK-09A-01R</td><td>PAVZTK-09A-01R</td><td>Female</td><td>DS-AML</td><td> 2</td></tr>\n",
       "\t<tr><th scope=row>13</th><td>PAWIYJ-09A-01R_RBS_withJunctionsOnGenome_dupsFlagged_r1.fq.gz</td><td>PAWIYJ</td><td>PAWIYJ</td><td>PAWIYJ-09A-01R</td><td>PAWIYJ-09A-01R</td><td>Male  </td><td>DS-AML</td><td> 1</td></tr>\n",
       "\t<tr><th scope=row>14</th><td>PAWIYJ-09A-01R_RBS_withJunctionsOnGenome_dupsFlagged_r2.fq.gz</td><td>PAWIYJ</td><td>PAWIYJ</td><td>PAWIYJ-09A-01R</td><td>PAWIYJ-09A-01R</td><td>Male  </td><td>DS-AML</td><td> 2</td></tr>\n",
       "\t<tr><th scope=row>15</th><td>PAXCGV-09A-01R_RBS_withJunctionsOnGenome_dupsFlagged_r1.fq.gz</td><td>PAXCGV</td><td>PAXCGV</td><td>PAXCGV-09A-01R</td><td>PAXCGV-09A-01R</td><td>Female</td><td>DS-AML</td><td> 1</td></tr>\n",
       "\t<tr><th scope=row>16</th><td>PAXCGV-09A-01R_RBS_withJunctionsOnGenome_dupsFlagged_r2.fq.gz</td><td>PAXCGV</td><td>PAXCGV</td><td>PAXCGV-09A-01R</td><td>PAXCGV-09A-01R</td><td>Female</td><td>DS-AML</td><td> 2</td></tr>\n",
       "\t<tr><th scope=row>17</th><td>PAXLGI-09A-01R_RBS_withJunctionsOnGenome_dupsFlagged_r1.fq.gz</td><td>PAXLGI</td><td>PAXLGI</td><td>PAXLGI-09A-01R</td><td>PAXLGI-09A-01R</td><td>Female</td><td>DS-AML</td><td> 1</td></tr>\n",
       "\t<tr><th scope=row>18</th><td>PAXLGI-09A-01R_RBS_withJunctionsOnGenome_dupsFlagged_r2.fq.gz</td><td>PAXLGI</td><td>PAXLGI</td><td>PAXLGI-09A-01R</td><td>PAXLGI-09A-01R</td><td>Female</td><td>DS-AML</td><td> 2</td></tr>\n",
       "\t<tr><th scope=row>19</th><td>PAXPEY-09A-01R_RBS_withJunctionsOnGenome_dupsFlagged_r1.fq.gz</td><td>PAXPEY</td><td>PAXPEY</td><td>PAXPEY-09A-01R</td><td>PAXPEY-09A-01R</td><td>Male  </td><td>DS-AML</td><td> 1</td></tr>\n",
       "\t<tr><th scope=row>20</th><td>PAXPEY-09A-01R_RBS_withJunctionsOnGenome_dupsFlagged_r2.fq.gz</td><td>PAXPEY</td><td>PAXPEY</td><td>PAXPEY-09A-01R</td><td>PAXPEY-09A-01R</td><td>Male  </td><td>DS-AML</td><td>NA</td></tr>\n",
       "</tbody>\n",
       "</table>\n"
      ],
      "text/latex": [
       "A data.frame: 20 × 8\n",
       "\\begin{tabular}{r|llllllll}\n",
       "  & File.name & Case.ID & subject & Sample.ID & sample & Gender & Disease.type & Paired.end\\\\\n",
       "  & <chr> & <chr> & <chr> & <chr> & <chr> & <chr> & <chr> & <int>\\\\\n",
       "\\hline\n",
       "\t1 & PAXSBH-03A-01R\\_RBS\\_withJunctionsOnGenome\\_dupsFlagged\\_r2.fq.gz & PAXSBH & PAXSBH & PAXSBH-03A-01R & PAXSBH-03A-01R & Female & TAM    &  1\\\\\n",
       "\t2 & PAXSBH-03A-01R\\_RBS\\_withJunctionsOnGenome\\_dupsFlagged\\_r1.fq.gz & PAXSBH & PAXSBH & PAXSBH-03A-01R & PAXSBH-03A-01R & Female & TAM    &  2\\\\\n",
       "\t3 & PAXWGW-03A-01R\\_RBS\\_withJunctionsOnGenome\\_dupsFlagged\\_r2.fq.gz & PAXWGW & PAXWGW & PAXWGW-03A-01R & PAXWGW-03A-01R & Female & TAM    &  1\\\\\n",
       "\t4 & PAXWGW-03A-01R\\_RBS\\_withJunctionsOnGenome\\_dupsFlagged\\_r1.fq.gz & PAXWGW & PAXWGW & PAXWGW-03A-01R & PAXWGW-03A-01R & Female & TAM    &  2\\\\\n",
       "\t5 & PASNSP-03A-01R\\_RBS\\_withJunctionsOnGenome\\_dupsFlagged\\_r1.fq.gz & PASNSP & PASNSP & PASNSP-03A-01R & PASNSP-03A-01R & Male   & TAM    &  1\\\\\n",
       "\t6 & PASNSP-03A-01R\\_RBS\\_withJunctionsOnGenome\\_dupsFlagged\\_r2.fq.gz & PASNSP & PASNSP & PASNSP-03A-01R & PASNSP-03A-01R & Male   & TAM    &  2\\\\\n",
       "\t7 & PASWXF-03A-01R\\_RBS\\_withJunctionsOnGenome\\_dupsFlagged\\_r1.fq.gz & PASWXF & PASWXF & PASWXF-03A-01R & PASWXF-03A-01R & Male   & TAM    &  1\\\\\n",
       "\t8 & PASWXF-03A-01R\\_RBS\\_withJunctionsOnGenome\\_dupsFlagged\\_r2.fq.gz & PASWXF & PASWXF & PASWXF-03A-01R & PASWXF-03A-01R & Male   & TAM    &  2\\\\\n",
       "\t9 & PASXCL-03A-01R\\_RBS\\_withJunctionsOnGenome\\_dupsFlagged\\_r2.fq.gz & PASXCL & PASXCL & PASXCL-03A-01R & PASXCL-03A-01R & Male   & TAM    &  1\\\\\n",
       "\t10 & PASXCL-03A-01R\\_RBS\\_withJunctionsOnGenome\\_dupsFlagged\\_r1.fq.gz & PASXCL & PASXCL & PASXCL-03A-01R & PASXCL-03A-01R & Male   & TAM    &  2\\\\\n",
       "\t11 & PAVZTK-09A-01R\\_RBS\\_withJunctionsOnGenome\\_dupsFlagged\\_r1.fq.gz & PAVZTK & PAVZTK & PAVZTK-09A-01R & PAVZTK-09A-01R & Female & DS-AML &  1\\\\\n",
       "\t12 & PAVZTK-09A-01R\\_RBS\\_withJunctionsOnGenome\\_dupsFlagged\\_r2.fq.gz & PAVZTK & PAVZTK & PAVZTK-09A-01R & PAVZTK-09A-01R & Female & DS-AML &  2\\\\\n",
       "\t13 & PAWIYJ-09A-01R\\_RBS\\_withJunctionsOnGenome\\_dupsFlagged\\_r1.fq.gz & PAWIYJ & PAWIYJ & PAWIYJ-09A-01R & PAWIYJ-09A-01R & Male   & DS-AML &  1\\\\\n",
       "\t14 & PAWIYJ-09A-01R\\_RBS\\_withJunctionsOnGenome\\_dupsFlagged\\_r2.fq.gz & PAWIYJ & PAWIYJ & PAWIYJ-09A-01R & PAWIYJ-09A-01R & Male   & DS-AML &  2\\\\\n",
       "\t15 & PAXCGV-09A-01R\\_RBS\\_withJunctionsOnGenome\\_dupsFlagged\\_r1.fq.gz & PAXCGV & PAXCGV & PAXCGV-09A-01R & PAXCGV-09A-01R & Female & DS-AML &  1\\\\\n",
       "\t16 & PAXCGV-09A-01R\\_RBS\\_withJunctionsOnGenome\\_dupsFlagged\\_r2.fq.gz & PAXCGV & PAXCGV & PAXCGV-09A-01R & PAXCGV-09A-01R & Female & DS-AML &  2\\\\\n",
       "\t17 & PAXLGI-09A-01R\\_RBS\\_withJunctionsOnGenome\\_dupsFlagged\\_r1.fq.gz & PAXLGI & PAXLGI & PAXLGI-09A-01R & PAXLGI-09A-01R & Female & DS-AML &  1\\\\\n",
       "\t18 & PAXLGI-09A-01R\\_RBS\\_withJunctionsOnGenome\\_dupsFlagged\\_r2.fq.gz & PAXLGI & PAXLGI & PAXLGI-09A-01R & PAXLGI-09A-01R & Female & DS-AML &  2\\\\\n",
       "\t19 & PAXPEY-09A-01R\\_RBS\\_withJunctionsOnGenome\\_dupsFlagged\\_r1.fq.gz & PAXPEY & PAXPEY & PAXPEY-09A-01R & PAXPEY-09A-01R & Male   & DS-AML &  1\\\\\n",
       "\t20 & PAXPEY-09A-01R\\_RBS\\_withJunctionsOnGenome\\_dupsFlagged\\_r2.fq.gz & PAXPEY & PAXPEY & PAXPEY-09A-01R & PAXPEY-09A-01R & Male   & DS-AML & NA\\\\\n",
       "\\end{tabular}\n"
      ],
      "text/markdown": [
       "\n",
       "A data.frame: 20 × 8\n",
       "\n",
       "| <!--/--> | File.name &lt;chr&gt; | Case.ID &lt;chr&gt; | subject &lt;chr&gt; | Sample.ID &lt;chr&gt; | sample &lt;chr&gt; | Gender &lt;chr&gt; | Disease.type &lt;chr&gt; | Paired.end &lt;int&gt; |\n",
       "|---|---|---|---|---|---|---|---|---|\n",
       "| 1 | PAXSBH-03A-01R_RBS_withJunctionsOnGenome_dupsFlagged_r2.fq.gz | PAXSBH | PAXSBH | PAXSBH-03A-01R | PAXSBH-03A-01R | Female | TAM    |  1 |\n",
       "| 2 | PAXSBH-03A-01R_RBS_withJunctionsOnGenome_dupsFlagged_r1.fq.gz | PAXSBH | PAXSBH | PAXSBH-03A-01R | PAXSBH-03A-01R | Female | TAM    |  2 |\n",
       "| 3 | PAXWGW-03A-01R_RBS_withJunctionsOnGenome_dupsFlagged_r2.fq.gz | PAXWGW | PAXWGW | PAXWGW-03A-01R | PAXWGW-03A-01R | Female | TAM    |  1 |\n",
       "| 4 | PAXWGW-03A-01R_RBS_withJunctionsOnGenome_dupsFlagged_r1.fq.gz | PAXWGW | PAXWGW | PAXWGW-03A-01R | PAXWGW-03A-01R | Female | TAM    |  2 |\n",
       "| 5 | PASNSP-03A-01R_RBS_withJunctionsOnGenome_dupsFlagged_r1.fq.gz | PASNSP | PASNSP | PASNSP-03A-01R | PASNSP-03A-01R | Male   | TAM    |  1 |\n",
       "| 6 | PASNSP-03A-01R_RBS_withJunctionsOnGenome_dupsFlagged_r2.fq.gz | PASNSP | PASNSP | PASNSP-03A-01R | PASNSP-03A-01R | Male   | TAM    |  2 |\n",
       "| 7 | PASWXF-03A-01R_RBS_withJunctionsOnGenome_dupsFlagged_r1.fq.gz | PASWXF | PASWXF | PASWXF-03A-01R | PASWXF-03A-01R | Male   | TAM    |  1 |\n",
       "| 8 | PASWXF-03A-01R_RBS_withJunctionsOnGenome_dupsFlagged_r2.fq.gz | PASWXF | PASWXF | PASWXF-03A-01R | PASWXF-03A-01R | Male   | TAM    |  2 |\n",
       "| 9 | PASXCL-03A-01R_RBS_withJunctionsOnGenome_dupsFlagged_r2.fq.gz | PASXCL | PASXCL | PASXCL-03A-01R | PASXCL-03A-01R | Male   | TAM    |  1 |\n",
       "| 10 | PASXCL-03A-01R_RBS_withJunctionsOnGenome_dupsFlagged_r1.fq.gz | PASXCL | PASXCL | PASXCL-03A-01R | PASXCL-03A-01R | Male   | TAM    |  2 |\n",
       "| 11 | PAVZTK-09A-01R_RBS_withJunctionsOnGenome_dupsFlagged_r1.fq.gz | PAVZTK | PAVZTK | PAVZTK-09A-01R | PAVZTK-09A-01R | Female | DS-AML |  1 |\n",
       "| 12 | PAVZTK-09A-01R_RBS_withJunctionsOnGenome_dupsFlagged_r2.fq.gz | PAVZTK | PAVZTK | PAVZTK-09A-01R | PAVZTK-09A-01R | Female | DS-AML |  2 |\n",
       "| 13 | PAWIYJ-09A-01R_RBS_withJunctionsOnGenome_dupsFlagged_r1.fq.gz | PAWIYJ | PAWIYJ | PAWIYJ-09A-01R | PAWIYJ-09A-01R | Male   | DS-AML |  1 |\n",
       "| 14 | PAWIYJ-09A-01R_RBS_withJunctionsOnGenome_dupsFlagged_r2.fq.gz | PAWIYJ | PAWIYJ | PAWIYJ-09A-01R | PAWIYJ-09A-01R | Male   | DS-AML |  2 |\n",
       "| 15 | PAXCGV-09A-01R_RBS_withJunctionsOnGenome_dupsFlagged_r1.fq.gz | PAXCGV | PAXCGV | PAXCGV-09A-01R | PAXCGV-09A-01R | Female | DS-AML |  1 |\n",
       "| 16 | PAXCGV-09A-01R_RBS_withJunctionsOnGenome_dupsFlagged_r2.fq.gz | PAXCGV | PAXCGV | PAXCGV-09A-01R | PAXCGV-09A-01R | Female | DS-AML |  2 |\n",
       "| 17 | PAXLGI-09A-01R_RBS_withJunctionsOnGenome_dupsFlagged_r1.fq.gz | PAXLGI | PAXLGI | PAXLGI-09A-01R | PAXLGI-09A-01R | Female | DS-AML |  1 |\n",
       "| 18 | PAXLGI-09A-01R_RBS_withJunctionsOnGenome_dupsFlagged_r2.fq.gz | PAXLGI | PAXLGI | PAXLGI-09A-01R | PAXLGI-09A-01R | Female | DS-AML |  2 |\n",
       "| 19 | PAXPEY-09A-01R_RBS_withJunctionsOnGenome_dupsFlagged_r1.fq.gz | PAXPEY | PAXPEY | PAXPEY-09A-01R | PAXPEY-09A-01R | Male   | DS-AML |  1 |\n",
       "| 20 | PAXPEY-09A-01R_RBS_withJunctionsOnGenome_dupsFlagged_r2.fq.gz | PAXPEY | PAXPEY | PAXPEY-09A-01R | PAXPEY-09A-01R | Male   | DS-AML | NA |\n",
       "\n"
      ],
      "text/plain": [
       "   File.name                                                     Case.ID\n",
       "1  PAXSBH-03A-01R_RBS_withJunctionsOnGenome_dupsFlagged_r2.fq.gz PAXSBH \n",
       "2  PAXSBH-03A-01R_RBS_withJunctionsOnGenome_dupsFlagged_r1.fq.gz PAXSBH \n",
       "3  PAXWGW-03A-01R_RBS_withJunctionsOnGenome_dupsFlagged_r2.fq.gz PAXWGW \n",
       "4  PAXWGW-03A-01R_RBS_withJunctionsOnGenome_dupsFlagged_r1.fq.gz PAXWGW \n",
       "5  PASNSP-03A-01R_RBS_withJunctionsOnGenome_dupsFlagged_r1.fq.gz PASNSP \n",
       "6  PASNSP-03A-01R_RBS_withJunctionsOnGenome_dupsFlagged_r2.fq.gz PASNSP \n",
       "7  PASWXF-03A-01R_RBS_withJunctionsOnGenome_dupsFlagged_r1.fq.gz PASWXF \n",
       "8  PASWXF-03A-01R_RBS_withJunctionsOnGenome_dupsFlagged_r2.fq.gz PASWXF \n",
       "9  PASXCL-03A-01R_RBS_withJunctionsOnGenome_dupsFlagged_r2.fq.gz PASXCL \n",
       "10 PASXCL-03A-01R_RBS_withJunctionsOnGenome_dupsFlagged_r1.fq.gz PASXCL \n",
       "11 PAVZTK-09A-01R_RBS_withJunctionsOnGenome_dupsFlagged_r1.fq.gz PAVZTK \n",
       "12 PAVZTK-09A-01R_RBS_withJunctionsOnGenome_dupsFlagged_r2.fq.gz PAVZTK \n",
       "13 PAWIYJ-09A-01R_RBS_withJunctionsOnGenome_dupsFlagged_r1.fq.gz PAWIYJ \n",
       "14 PAWIYJ-09A-01R_RBS_withJunctionsOnGenome_dupsFlagged_r2.fq.gz PAWIYJ \n",
       "15 PAXCGV-09A-01R_RBS_withJunctionsOnGenome_dupsFlagged_r1.fq.gz PAXCGV \n",
       "16 PAXCGV-09A-01R_RBS_withJunctionsOnGenome_dupsFlagged_r2.fq.gz PAXCGV \n",
       "17 PAXLGI-09A-01R_RBS_withJunctionsOnGenome_dupsFlagged_r1.fq.gz PAXLGI \n",
       "18 PAXLGI-09A-01R_RBS_withJunctionsOnGenome_dupsFlagged_r2.fq.gz PAXLGI \n",
       "19 PAXPEY-09A-01R_RBS_withJunctionsOnGenome_dupsFlagged_r1.fq.gz PAXPEY \n",
       "20 PAXPEY-09A-01R_RBS_withJunctionsOnGenome_dupsFlagged_r2.fq.gz PAXPEY \n",
       "   subject Sample.ID      sample         Gender Disease.type Paired.end\n",
       "1  PAXSBH  PAXSBH-03A-01R PAXSBH-03A-01R Female TAM           1        \n",
       "2  PAXSBH  PAXSBH-03A-01R PAXSBH-03A-01R Female TAM           2        \n",
       "3  PAXWGW  PAXWGW-03A-01R PAXWGW-03A-01R Female TAM           1        \n",
       "4  PAXWGW  PAXWGW-03A-01R PAXWGW-03A-01R Female TAM           2        \n",
       "5  PASNSP  PASNSP-03A-01R PASNSP-03A-01R Male   TAM           1        \n",
       "6  PASNSP  PASNSP-03A-01R PASNSP-03A-01R Male   TAM           2        \n",
       "7  PASWXF  PASWXF-03A-01R PASWXF-03A-01R Male   TAM           1        \n",
       "8  PASWXF  PASWXF-03A-01R PASWXF-03A-01R Male   TAM           2        \n",
       "9  PASXCL  PASXCL-03A-01R PASXCL-03A-01R Male   TAM           1        \n",
       "10 PASXCL  PASXCL-03A-01R PASXCL-03A-01R Male   TAM           2        \n",
       "11 PAVZTK  PAVZTK-09A-01R PAVZTK-09A-01R Female DS-AML        1        \n",
       "12 PAVZTK  PAVZTK-09A-01R PAVZTK-09A-01R Female DS-AML        2        \n",
       "13 PAWIYJ  PAWIYJ-09A-01R PAWIYJ-09A-01R Male   DS-AML        1        \n",
       "14 PAWIYJ  PAWIYJ-09A-01R PAWIYJ-09A-01R Male   DS-AML        2        \n",
       "15 PAXCGV  PAXCGV-09A-01R PAXCGV-09A-01R Female DS-AML        1        \n",
       "16 PAXCGV  PAXCGV-09A-01R PAXCGV-09A-01R Female DS-AML        2        \n",
       "17 PAXLGI  PAXLGI-09A-01R PAXLGI-09A-01R Female DS-AML        1        \n",
       "18 PAXLGI  PAXLGI-09A-01R PAXLGI-09A-01R Female DS-AML        2        \n",
       "19 PAXPEY  PAXPEY-09A-01R PAXPEY-09A-01R Male   DS-AML        1        \n",
       "20 PAXPEY  PAXPEY-09A-01R PAXPEY-09A-01R Male   DS-AML       NA        "
      ]
     },
     "metadata": {},
     "output_type": "display_data"
    }
   ],
   "source": [
    "head(metadata, n=20)"
   ]
  },
  {
   "cell_type": "markdown",
   "id": "83d55633-bf9e-4b00-90d0-ef75788cef3a",
   "metadata": {},
   "source": [
    "There is an error in the last sample detail - where the paired should read `2` and not NA.  So I copied the file to a local directory and corrected it -- it is corrected permanently now - but for this run through you can see:\n",
    "```bash\n",
    "cp /sbgenomics/project-files/metadata_ten_samples_only.csv /sbgenomics/workspace/pediatric-DS-AML-TAM-Analysis/data\n",
    "```\n",
    "\n",
    "where I edited the file and now will read this one in."
   ]
  },
  {
   "cell_type": "code",
   "execution_count": 21,
   "id": "b472bc7c-f87a-4894-9b58-900ceaf03d42",
   "metadata": {},
   "outputs": [],
   "source": [
    "metadata <- read.table('/sbgenomics/workspace/pediatric-DS-AML-TAM-Analysis/data/metadata_ten_samples_only.csv', sep=\",\", header=TRUE, stringsAsFactors = FALSE)"
   ]
  },
  {
   "cell_type": "code",
   "execution_count": 22,
   "id": "b85ecdf2-0f58-44a6-8c6a-e6eac4df65c2",
   "metadata": {},
   "outputs": [
    {
     "data": {
      "text/html": [
       "<table class=\"dataframe\">\n",
       "<caption>A data.frame: 6 × 8</caption>\n",
       "<thead>\n",
       "\t<tr><th></th><th scope=col>File.name</th><th scope=col>Case.ID</th><th scope=col>subject</th><th scope=col>Sample.ID</th><th scope=col>sample</th><th scope=col>Gender</th><th scope=col>Disease.type</th><th scope=col>Paired.end</th></tr>\n",
       "\t<tr><th></th><th scope=col>&lt;chr&gt;</th><th scope=col>&lt;chr&gt;</th><th scope=col>&lt;chr&gt;</th><th scope=col>&lt;chr&gt;</th><th scope=col>&lt;chr&gt;</th><th scope=col>&lt;chr&gt;</th><th scope=col>&lt;chr&gt;</th><th scope=col>&lt;int&gt;</th></tr>\n",
       "</thead>\n",
       "<tbody>\n",
       "\t<tr><th scope=row>1</th><td>PAXSBH-03A-01R_RBS_withJunctionsOnGenome_dupsFlagged_r2.fq.gz</td><td>PAXSBH</td><td>PAXSBH</td><td>PAXSBH-03A-01R</td><td>PAXSBH-03A-01R</td><td>Female</td><td>TAM</td><td>1</td></tr>\n",
       "\t<tr><th scope=row>2</th><td>PAXSBH-03A-01R_RBS_withJunctionsOnGenome_dupsFlagged_r1.fq.gz</td><td>PAXSBH</td><td>PAXSBH</td><td>PAXSBH-03A-01R</td><td>PAXSBH-03A-01R</td><td>Female</td><td>TAM</td><td>2</td></tr>\n",
       "\t<tr><th scope=row>3</th><td>PAXWGW-03A-01R_RBS_withJunctionsOnGenome_dupsFlagged_r2.fq.gz</td><td>PAXWGW</td><td>PAXWGW</td><td>PAXWGW-03A-01R</td><td>PAXWGW-03A-01R</td><td>Female</td><td>TAM</td><td>1</td></tr>\n",
       "\t<tr><th scope=row>4</th><td>PAXWGW-03A-01R_RBS_withJunctionsOnGenome_dupsFlagged_r1.fq.gz</td><td>PAXWGW</td><td>PAXWGW</td><td>PAXWGW-03A-01R</td><td>PAXWGW-03A-01R</td><td>Female</td><td>TAM</td><td>2</td></tr>\n",
       "\t<tr><th scope=row>5</th><td>PASNSP-03A-01R_RBS_withJunctionsOnGenome_dupsFlagged_r1.fq.gz</td><td>PASNSP</td><td>PASNSP</td><td>PASNSP-03A-01R</td><td>PASNSP-03A-01R</td><td>Male  </td><td>TAM</td><td>1</td></tr>\n",
       "\t<tr><th scope=row>6</th><td>PASNSP-03A-01R_RBS_withJunctionsOnGenome_dupsFlagged_r2.fq.gz</td><td>PASNSP</td><td>PASNSP</td><td>PASNSP-03A-01R</td><td>PASNSP-03A-01R</td><td>Male  </td><td>TAM</td><td>2</td></tr>\n",
       "</tbody>\n",
       "</table>\n"
      ],
      "text/latex": [
       "A data.frame: 6 × 8\n",
       "\\begin{tabular}{r|llllllll}\n",
       "  & File.name & Case.ID & subject & Sample.ID & sample & Gender & Disease.type & Paired.end\\\\\n",
       "  & <chr> & <chr> & <chr> & <chr> & <chr> & <chr> & <chr> & <int>\\\\\n",
       "\\hline\n",
       "\t1 & PAXSBH-03A-01R\\_RBS\\_withJunctionsOnGenome\\_dupsFlagged\\_r2.fq.gz & PAXSBH & PAXSBH & PAXSBH-03A-01R & PAXSBH-03A-01R & Female & TAM & 1\\\\\n",
       "\t2 & PAXSBH-03A-01R\\_RBS\\_withJunctionsOnGenome\\_dupsFlagged\\_r1.fq.gz & PAXSBH & PAXSBH & PAXSBH-03A-01R & PAXSBH-03A-01R & Female & TAM & 2\\\\\n",
       "\t3 & PAXWGW-03A-01R\\_RBS\\_withJunctionsOnGenome\\_dupsFlagged\\_r2.fq.gz & PAXWGW & PAXWGW & PAXWGW-03A-01R & PAXWGW-03A-01R & Female & TAM & 1\\\\\n",
       "\t4 & PAXWGW-03A-01R\\_RBS\\_withJunctionsOnGenome\\_dupsFlagged\\_r1.fq.gz & PAXWGW & PAXWGW & PAXWGW-03A-01R & PAXWGW-03A-01R & Female & TAM & 2\\\\\n",
       "\t5 & PASNSP-03A-01R\\_RBS\\_withJunctionsOnGenome\\_dupsFlagged\\_r1.fq.gz & PASNSP & PASNSP & PASNSP-03A-01R & PASNSP-03A-01R & Male   & TAM & 1\\\\\n",
       "\t6 & PASNSP-03A-01R\\_RBS\\_withJunctionsOnGenome\\_dupsFlagged\\_r2.fq.gz & PASNSP & PASNSP & PASNSP-03A-01R & PASNSP-03A-01R & Male   & TAM & 2\\\\\n",
       "\\end{tabular}\n"
      ],
      "text/markdown": [
       "\n",
       "A data.frame: 6 × 8\n",
       "\n",
       "| <!--/--> | File.name &lt;chr&gt; | Case.ID &lt;chr&gt; | subject &lt;chr&gt; | Sample.ID &lt;chr&gt; | sample &lt;chr&gt; | Gender &lt;chr&gt; | Disease.type &lt;chr&gt; | Paired.end &lt;int&gt; |\n",
       "|---|---|---|---|---|---|---|---|---|\n",
       "| 1 | PAXSBH-03A-01R_RBS_withJunctionsOnGenome_dupsFlagged_r2.fq.gz | PAXSBH | PAXSBH | PAXSBH-03A-01R | PAXSBH-03A-01R | Female | TAM | 1 |\n",
       "| 2 | PAXSBH-03A-01R_RBS_withJunctionsOnGenome_dupsFlagged_r1.fq.gz | PAXSBH | PAXSBH | PAXSBH-03A-01R | PAXSBH-03A-01R | Female | TAM | 2 |\n",
       "| 3 | PAXWGW-03A-01R_RBS_withJunctionsOnGenome_dupsFlagged_r2.fq.gz | PAXWGW | PAXWGW | PAXWGW-03A-01R | PAXWGW-03A-01R | Female | TAM | 1 |\n",
       "| 4 | PAXWGW-03A-01R_RBS_withJunctionsOnGenome_dupsFlagged_r1.fq.gz | PAXWGW | PAXWGW | PAXWGW-03A-01R | PAXWGW-03A-01R | Female | TAM | 2 |\n",
       "| 5 | PASNSP-03A-01R_RBS_withJunctionsOnGenome_dupsFlagged_r1.fq.gz | PASNSP | PASNSP | PASNSP-03A-01R | PASNSP-03A-01R | Male   | TAM | 1 |\n",
       "| 6 | PASNSP-03A-01R_RBS_withJunctionsOnGenome_dupsFlagged_r2.fq.gz | PASNSP | PASNSP | PASNSP-03A-01R | PASNSP-03A-01R | Male   | TAM | 2 |\n",
       "\n"
      ],
      "text/plain": [
       "  File.name                                                     Case.ID subject\n",
       "1 PAXSBH-03A-01R_RBS_withJunctionsOnGenome_dupsFlagged_r2.fq.gz PAXSBH  PAXSBH \n",
       "2 PAXSBH-03A-01R_RBS_withJunctionsOnGenome_dupsFlagged_r1.fq.gz PAXSBH  PAXSBH \n",
       "3 PAXWGW-03A-01R_RBS_withJunctionsOnGenome_dupsFlagged_r2.fq.gz PAXWGW  PAXWGW \n",
       "4 PAXWGW-03A-01R_RBS_withJunctionsOnGenome_dupsFlagged_r1.fq.gz PAXWGW  PAXWGW \n",
       "5 PASNSP-03A-01R_RBS_withJunctionsOnGenome_dupsFlagged_r1.fq.gz PASNSP  PASNSP \n",
       "6 PASNSP-03A-01R_RBS_withJunctionsOnGenome_dupsFlagged_r2.fq.gz PASNSP  PASNSP \n",
       "  Sample.ID      sample         Gender Disease.type Paired.end\n",
       "1 PAXSBH-03A-01R PAXSBH-03A-01R Female TAM          1         \n",
       "2 PAXSBH-03A-01R PAXSBH-03A-01R Female TAM          2         \n",
       "3 PAXWGW-03A-01R PAXWGW-03A-01R Female TAM          1         \n",
       "4 PAXWGW-03A-01R PAXWGW-03A-01R Female TAM          2         \n",
       "5 PASNSP-03A-01R PASNSP-03A-01R Male   TAM          1         \n",
       "6 PASNSP-03A-01R PASNSP-03A-01R Male   TAM          2         "
      ]
     },
     "metadata": {},
     "output_type": "display_data"
    }
   ],
   "source": [
    "head(metadata)"
   ]
  },
  {
   "cell_type": "code",
   "execution_count": 31,
   "id": "bea9a17b-fe29-4a0c-b849-4299d99d709a",
   "metadata": {},
   "outputs": [],
   "source": [
    "metadata <- dplyr::select(metadata, c('Case.ID', 'Sample.ID', 'Gender', 'Disease.type'))"
   ]
  },
  {
   "cell_type": "code",
   "execution_count": 32,
   "id": "9562583f-514a-4de7-80aa-da2b6b7430c4",
   "metadata": {},
   "outputs": [
    {
     "data": {
      "text/html": [
       "<table class=\"dataframe\">\n",
       "<caption>A data.frame: 6 × 4</caption>\n",
       "<thead>\n",
       "\t<tr><th></th><th scope=col>Case.ID</th><th scope=col>Sample.ID</th><th scope=col>Gender</th><th scope=col>Disease.type</th></tr>\n",
       "\t<tr><th></th><th scope=col>&lt;chr&gt;</th><th scope=col>&lt;chr&gt;</th><th scope=col>&lt;chr&gt;</th><th scope=col>&lt;chr&gt;</th></tr>\n",
       "</thead>\n",
       "<tbody>\n",
       "\t<tr><th scope=row>1</th><td>PAXSBH</td><td>PAXSBH-03A-01R</td><td>Female</td><td>TAM</td></tr>\n",
       "\t<tr><th scope=row>2</th><td>PAXSBH</td><td>PAXSBH-03A-01R</td><td>Female</td><td>TAM</td></tr>\n",
       "\t<tr><th scope=row>3</th><td>PAXWGW</td><td>PAXWGW-03A-01R</td><td>Female</td><td>TAM</td></tr>\n",
       "\t<tr><th scope=row>4</th><td>PAXWGW</td><td>PAXWGW-03A-01R</td><td>Female</td><td>TAM</td></tr>\n",
       "\t<tr><th scope=row>5</th><td>PASNSP</td><td>PASNSP-03A-01R</td><td>Male  </td><td>TAM</td></tr>\n",
       "\t<tr><th scope=row>6</th><td>PASNSP</td><td>PASNSP-03A-01R</td><td>Male  </td><td>TAM</td></tr>\n",
       "</tbody>\n",
       "</table>\n"
      ],
      "text/latex": [
       "A data.frame: 6 × 4\n",
       "\\begin{tabular}{r|llll}\n",
       "  & Case.ID & Sample.ID & Gender & Disease.type\\\\\n",
       "  & <chr> & <chr> & <chr> & <chr>\\\\\n",
       "\\hline\n",
       "\t1 & PAXSBH & PAXSBH-03A-01R & Female & TAM\\\\\n",
       "\t2 & PAXSBH & PAXSBH-03A-01R & Female & TAM\\\\\n",
       "\t3 & PAXWGW & PAXWGW-03A-01R & Female & TAM\\\\\n",
       "\t4 & PAXWGW & PAXWGW-03A-01R & Female & TAM\\\\\n",
       "\t5 & PASNSP & PASNSP-03A-01R & Male   & TAM\\\\\n",
       "\t6 & PASNSP & PASNSP-03A-01R & Male   & TAM\\\\\n",
       "\\end{tabular}\n"
      ],
      "text/markdown": [
       "\n",
       "A data.frame: 6 × 4\n",
       "\n",
       "| <!--/--> | Case.ID &lt;chr&gt; | Sample.ID &lt;chr&gt; | Gender &lt;chr&gt; | Disease.type &lt;chr&gt; |\n",
       "|---|---|---|---|---|\n",
       "| 1 | PAXSBH | PAXSBH-03A-01R | Female | TAM |\n",
       "| 2 | PAXSBH | PAXSBH-03A-01R | Female | TAM |\n",
       "| 3 | PAXWGW | PAXWGW-03A-01R | Female | TAM |\n",
       "| 4 | PAXWGW | PAXWGW-03A-01R | Female | TAM |\n",
       "| 5 | PASNSP | PASNSP-03A-01R | Male   | TAM |\n",
       "| 6 | PASNSP | PASNSP-03A-01R | Male   | TAM |\n",
       "\n"
      ],
      "text/plain": [
       "  Case.ID Sample.ID      Gender Disease.type\n",
       "1 PAXSBH  PAXSBH-03A-01R Female TAM         \n",
       "2 PAXSBH  PAXSBH-03A-01R Female TAM         \n",
       "3 PAXWGW  PAXWGW-03A-01R Female TAM         \n",
       "4 PAXWGW  PAXWGW-03A-01R Female TAM         \n",
       "5 PASNSP  PASNSP-03A-01R Male   TAM         \n",
       "6 PASNSP  PASNSP-03A-01R Male   TAM         "
      ]
     },
     "metadata": {},
     "output_type": "display_data"
    }
   ],
   "source": [
    "head(metadata)"
   ]
  },
  {
   "cell_type": "markdown",
   "id": "a954ab8d-cb02-4c4d-b752-35536c51e2cc",
   "metadata": {},
   "source": [
    "This file describes the `experimental` design.   We have cases, samples, reads, gender, disease and paired\n"
   ]
  },
  {
   "cell_type": "code",
   "execution_count": 34,
   "id": "d3e62d22-d875-4426-9a3e-6c1e74da51db",
   "metadata": {},
   "outputs": [],
   "source": [
    "metadata <- dplyr::distinct(metadata)"
   ]
  },
  {
   "cell_type": "code",
   "execution_count": 35,
   "id": "1db72a37-1d26-4e75-9094-a33446e95634",
   "metadata": {},
   "outputs": [
    {
     "data": {
      "text/html": [
       "<table class=\"dataframe\">\n",
       "<caption>A data.frame: 6 × 4</caption>\n",
       "<thead>\n",
       "\t<tr><th></th><th scope=col>Case.ID</th><th scope=col>Sample.ID</th><th scope=col>Gender</th><th scope=col>Disease.type</th></tr>\n",
       "\t<tr><th></th><th scope=col>&lt;chr&gt;</th><th scope=col>&lt;chr&gt;</th><th scope=col>&lt;chr&gt;</th><th scope=col>&lt;chr&gt;</th></tr>\n",
       "</thead>\n",
       "<tbody>\n",
       "\t<tr><th scope=row>1</th><td>PAXSBH</td><td>PAXSBH-03A-01R</td><td>Female</td><td>TAM   </td></tr>\n",
       "\t<tr><th scope=row>2</th><td>PAXWGW</td><td>PAXWGW-03A-01R</td><td>Female</td><td>TAM   </td></tr>\n",
       "\t<tr><th scope=row>3</th><td>PASNSP</td><td>PASNSP-03A-01R</td><td>Male  </td><td>TAM   </td></tr>\n",
       "\t<tr><th scope=row>4</th><td>PASWXF</td><td>PASWXF-03A-01R</td><td>Male  </td><td>TAM   </td></tr>\n",
       "\t<tr><th scope=row>5</th><td>PASXCL</td><td>PASXCL-03A-01R</td><td>Male  </td><td>TAM   </td></tr>\n",
       "\t<tr><th scope=row>6</th><td>PAVZTK</td><td>PAVZTK-09A-01R</td><td>Female</td><td>DS-AML</td></tr>\n",
       "</tbody>\n",
       "</table>\n"
      ],
      "text/latex": [
       "A data.frame: 6 × 4\n",
       "\\begin{tabular}{r|llll}\n",
       "  & Case.ID & Sample.ID & Gender & Disease.type\\\\\n",
       "  & <chr> & <chr> & <chr> & <chr>\\\\\n",
       "\\hline\n",
       "\t1 & PAXSBH & PAXSBH-03A-01R & Female & TAM   \\\\\n",
       "\t2 & PAXWGW & PAXWGW-03A-01R & Female & TAM   \\\\\n",
       "\t3 & PASNSP & PASNSP-03A-01R & Male   & TAM   \\\\\n",
       "\t4 & PASWXF & PASWXF-03A-01R & Male   & TAM   \\\\\n",
       "\t5 & PASXCL & PASXCL-03A-01R & Male   & TAM   \\\\\n",
       "\t6 & PAVZTK & PAVZTK-09A-01R & Female & DS-AML\\\\\n",
       "\\end{tabular}\n"
      ],
      "text/markdown": [
       "\n",
       "A data.frame: 6 × 4\n",
       "\n",
       "| <!--/--> | Case.ID &lt;chr&gt; | Sample.ID &lt;chr&gt; | Gender &lt;chr&gt; | Disease.type &lt;chr&gt; |\n",
       "|---|---|---|---|---|\n",
       "| 1 | PAXSBH | PAXSBH-03A-01R | Female | TAM    |\n",
       "| 2 | PAXWGW | PAXWGW-03A-01R | Female | TAM    |\n",
       "| 3 | PASNSP | PASNSP-03A-01R | Male   | TAM    |\n",
       "| 4 | PASWXF | PASWXF-03A-01R | Male   | TAM    |\n",
       "| 5 | PASXCL | PASXCL-03A-01R | Male   | TAM    |\n",
       "| 6 | PAVZTK | PAVZTK-09A-01R | Female | DS-AML |\n",
       "\n"
      ],
      "text/plain": [
       "  Case.ID Sample.ID      Gender Disease.type\n",
       "1 PAXSBH  PAXSBH-03A-01R Female TAM         \n",
       "2 PAXWGW  PAXWGW-03A-01R Female TAM         \n",
       "3 PASNSP  PASNSP-03A-01R Male   TAM         \n",
       "4 PASWXF  PASWXF-03A-01R Male   TAM         \n",
       "5 PASXCL  PASXCL-03A-01R Male   TAM         \n",
       "6 PAVZTK  PAVZTK-09A-01R Female DS-AML      "
      ]
     },
     "metadata": {},
     "output_type": "display_data"
    }
   ],
   "source": [
    "head(metadata)"
   ]
  },
  {
   "cell_type": "code",
   "execution_count": 37,
   "id": "53d05849-9e74-45cc-a315-220c39a69eb9",
   "metadata": {},
   "outputs": [
    {
     "data": {
      "text/html": [
       "<style>\n",
       ".list-inline {list-style: none; margin:0; padding: 0}\n",
       ".list-inline>li {display: inline-block}\n",
       ".list-inline>li:not(:last-child)::after {content: \"\\00b7\"; padding: 0 .5ex}\n",
       "</style>\n",
       "<ol class=list-inline><li>10</li><li>4</li></ol>\n"
      ],
      "text/latex": [
       "\\begin{enumerate*}\n",
       "\\item 10\n",
       "\\item 4\n",
       "\\end{enumerate*}\n"
      ],
      "text/markdown": [
       "1. 10\n",
       "2. 4\n",
       "\n",
       "\n"
      ],
      "text/plain": [
       "[1] 10  4"
      ]
     },
     "metadata": {},
     "output_type": "display_data"
    }
   ],
   "source": [
    "dim(metadata)"
   ]
  },
  {
   "cell_type": "markdown",
   "id": "bd19d970-328f-4c82-9e16-95a55fd3717e",
   "metadata": {},
   "source": [
    "now that we de-duplicated the file - and the workflow run previously was smart enough to just give a single abundance for the samples (recognizing the pair-endedness of the sample).   We add the path names to the samples -- I will do this in the external file that I copied (since I am not following how to do this with the dplyr command!).\n",
    "\n",
    "I created a macro in Emacs that copied the Sample.ID and added the directory and the abundance details.\n",
    "Lets re-read and de-duplicate.\n"
   ]
  },
  {
   "cell_type": "code",
   "execution_count": 57,
   "id": "6d94ba4a-a191-494e-b2ed-d589c47843c1",
   "metadata": {},
   "outputs": [],
   "source": [
    "metadata <- read.table('/sbgenomics/workspace/pediatric-DS-AML-TAM-Analysis/data/metadata_ten_samples_only.csv', sep=\",\", header=TRUE, stringsAsFactors = FALSE)"
   ]
  },
  {
   "cell_type": "code",
   "execution_count": 58,
   "id": "cf79d1bc-1a14-48c8-a57a-83f8116bd9ce",
   "metadata": {},
   "outputs": [
    {
     "data": {
      "text/html": [
       "<table class=\"dataframe\">\n",
       "<caption>A data.frame: 6 × 9</caption>\n",
       "<thead>\n",
       "\t<tr><th></th><th scope=col>File.name</th><th scope=col>Case.ID</th><th scope=col>subject</th><th scope=col>Sample.ID</th><th scope=col>sample</th><th scope=col>Gender</th><th scope=col>Disease.type</th><th scope=col>Paired.end</th><th scope=col>Abundance</th></tr>\n",
       "\t<tr><th></th><th scope=col>&lt;chr&gt;</th><th scope=col>&lt;chr&gt;</th><th scope=col>&lt;chr&gt;</th><th scope=col>&lt;chr&gt;</th><th scope=col>&lt;chr&gt;</th><th scope=col>&lt;chr&gt;</th><th scope=col>&lt;chr&gt;</th><th scope=col>&lt;int&gt;</th><th scope=col>&lt;chr&gt;</th></tr>\n",
       "</thead>\n",
       "<tbody>\n",
       "\t<tr><th scope=row>1</th><td>PAXSBH-03A-01R_RBS_withJunctionsOnGenome_dupsFlagged_r1.fq.gz</td><td>PAXSBH</td><td>PAXSBH</td><td>PAXSBH-03A-01R</td><td>PAXSBH-03A-01R</td><td>Female</td><td>TAM</td><td>1</td><td>/sbgenomics/project-files/PAXSBH-03A-01R.kallisto_quant.abundance.h5</td></tr>\n",
       "\t<tr><th scope=row>2</th><td>PAXSBH-03A-01R_RBS_withJunctionsOnGenome_dupsFlagged_r1.fq.gz</td><td>PAXSBH</td><td>PAXSBH</td><td>PAXSBH-03A-01R</td><td>PAXSBH-03A-01R</td><td>Female</td><td>TAM</td><td>2</td><td>/sbgenomics/project-files/PAXSBH-03A-01R.kallisto_quant.abundance.h5</td></tr>\n",
       "\t<tr><th scope=row>3</th><td>PAXWGW-03A-01R_RBS_withJunctionsOnGenome_dupsFlagged_r2.fq.gz</td><td>PAXWGW</td><td>PAXWGW</td><td>PAXWGW-03A-01R</td><td>PAXWGW-03A-01R</td><td>Female</td><td>TAM</td><td>1</td><td>/sbgenomics/project-files/PAXWGW-03A-01R.kallisto_quant.abundance.h5</td></tr>\n",
       "\t<tr><th scope=row>4</th><td>PAXWGW-03A-01R_RBS_withJunctionsOnGenome_dupsFlagged_r1.fq.gz</td><td>PAXWGW</td><td>PAXWGW</td><td>PAXWGW-03A-01R</td><td>PAXWGW-03A-01R</td><td>Female</td><td>TAM</td><td>2</td><td>/sbgenomics/project-files/PAXWGW-03A-01R.kallisto_quant.abundance.h5</td></tr>\n",
       "\t<tr><th scope=row>5</th><td>PASNSP-03A-01R_RBS_withJunctionsOnGenome_dupsFlagged_r1.fq.gz</td><td>PASNSP</td><td>PASNSP</td><td>PASNSP-03A-01R</td><td>PASNSP-03A-01R</td><td>Male  </td><td>TAM</td><td>1</td><td>/sbgenomics/project-files/PASNSP-03A-01R.kallisto_quant.abundance.h5</td></tr>\n",
       "\t<tr><th scope=row>6</th><td>PASNSP-03A-01R_RBS_withJunctionsOnGenome_dupsFlagged_r2.fq.gz</td><td>PASNSP</td><td>PASNSP</td><td>PASNSP-03A-01R</td><td>PASNSP-03A-01R</td><td>Male  </td><td>TAM</td><td>2</td><td>/sbgenomics/project-files/PASNSP-03A-01R.kallisto_quant.abundance.h5</td></tr>\n",
       "</tbody>\n",
       "</table>\n"
      ],
      "text/latex": [
       "A data.frame: 6 × 9\n",
       "\\begin{tabular}{r|lllllllll}\n",
       "  & File.name & Case.ID & subject & Sample.ID & sample & Gender & Disease.type & Paired.end & Abundance\\\\\n",
       "  & <chr> & <chr> & <chr> & <chr> & <chr> & <chr> & <chr> & <int> & <chr>\\\\\n",
       "\\hline\n",
       "\t1 & PAXSBH-03A-01R\\_RBS\\_withJunctionsOnGenome\\_dupsFlagged\\_r1.fq.gz & PAXSBH & PAXSBH & PAXSBH-03A-01R & PAXSBH-03A-01R & Female & TAM & 1 & /sbgenomics/project-files/PAXSBH-03A-01R.kallisto\\_quant.abundance.h5\\\\\n",
       "\t2 & PAXSBH-03A-01R\\_RBS\\_withJunctionsOnGenome\\_dupsFlagged\\_r1.fq.gz & PAXSBH & PAXSBH & PAXSBH-03A-01R & PAXSBH-03A-01R & Female & TAM & 2 & /sbgenomics/project-files/PAXSBH-03A-01R.kallisto\\_quant.abundance.h5\\\\\n",
       "\t3 & PAXWGW-03A-01R\\_RBS\\_withJunctionsOnGenome\\_dupsFlagged\\_r2.fq.gz & PAXWGW & PAXWGW & PAXWGW-03A-01R & PAXWGW-03A-01R & Female & TAM & 1 & /sbgenomics/project-files/PAXWGW-03A-01R.kallisto\\_quant.abundance.h5\\\\\n",
       "\t4 & PAXWGW-03A-01R\\_RBS\\_withJunctionsOnGenome\\_dupsFlagged\\_r1.fq.gz & PAXWGW & PAXWGW & PAXWGW-03A-01R & PAXWGW-03A-01R & Female & TAM & 2 & /sbgenomics/project-files/PAXWGW-03A-01R.kallisto\\_quant.abundance.h5\\\\\n",
       "\t5 & PASNSP-03A-01R\\_RBS\\_withJunctionsOnGenome\\_dupsFlagged\\_r1.fq.gz & PASNSP & PASNSP & PASNSP-03A-01R & PASNSP-03A-01R & Male   & TAM & 1 & /sbgenomics/project-files/PASNSP-03A-01R.kallisto\\_quant.abundance.h5\\\\\n",
       "\t6 & PASNSP-03A-01R\\_RBS\\_withJunctionsOnGenome\\_dupsFlagged\\_r2.fq.gz & PASNSP & PASNSP & PASNSP-03A-01R & PASNSP-03A-01R & Male   & TAM & 2 & /sbgenomics/project-files/PASNSP-03A-01R.kallisto\\_quant.abundance.h5\\\\\n",
       "\\end{tabular}\n"
      ],
      "text/markdown": [
       "\n",
       "A data.frame: 6 × 9\n",
       "\n",
       "| <!--/--> | File.name &lt;chr&gt; | Case.ID &lt;chr&gt; | subject &lt;chr&gt; | Sample.ID &lt;chr&gt; | sample &lt;chr&gt; | Gender &lt;chr&gt; | Disease.type &lt;chr&gt; | Paired.end &lt;int&gt; | Abundance &lt;chr&gt; |\n",
       "|---|---|---|---|---|---|---|---|---|---|\n",
       "| 1 | PAXSBH-03A-01R_RBS_withJunctionsOnGenome_dupsFlagged_r1.fq.gz | PAXSBH | PAXSBH | PAXSBH-03A-01R | PAXSBH-03A-01R | Female | TAM | 1 | /sbgenomics/project-files/PAXSBH-03A-01R.kallisto_quant.abundance.h5 |\n",
       "| 2 | PAXSBH-03A-01R_RBS_withJunctionsOnGenome_dupsFlagged_r1.fq.gz | PAXSBH | PAXSBH | PAXSBH-03A-01R | PAXSBH-03A-01R | Female | TAM | 2 | /sbgenomics/project-files/PAXSBH-03A-01R.kallisto_quant.abundance.h5 |\n",
       "| 3 | PAXWGW-03A-01R_RBS_withJunctionsOnGenome_dupsFlagged_r2.fq.gz | PAXWGW | PAXWGW | PAXWGW-03A-01R | PAXWGW-03A-01R | Female | TAM | 1 | /sbgenomics/project-files/PAXWGW-03A-01R.kallisto_quant.abundance.h5 |\n",
       "| 4 | PAXWGW-03A-01R_RBS_withJunctionsOnGenome_dupsFlagged_r1.fq.gz | PAXWGW | PAXWGW | PAXWGW-03A-01R | PAXWGW-03A-01R | Female | TAM | 2 | /sbgenomics/project-files/PAXWGW-03A-01R.kallisto_quant.abundance.h5 |\n",
       "| 5 | PASNSP-03A-01R_RBS_withJunctionsOnGenome_dupsFlagged_r1.fq.gz | PASNSP | PASNSP | PASNSP-03A-01R | PASNSP-03A-01R | Male   | TAM | 1 | /sbgenomics/project-files/PASNSP-03A-01R.kallisto_quant.abundance.h5 |\n",
       "| 6 | PASNSP-03A-01R_RBS_withJunctionsOnGenome_dupsFlagged_r2.fq.gz | PASNSP | PASNSP | PASNSP-03A-01R | PASNSP-03A-01R | Male   | TAM | 2 | /sbgenomics/project-files/PASNSP-03A-01R.kallisto_quant.abundance.h5 |\n",
       "\n"
      ],
      "text/plain": [
       "  File.name                                                     Case.ID subject\n",
       "1 PAXSBH-03A-01R_RBS_withJunctionsOnGenome_dupsFlagged_r1.fq.gz PAXSBH  PAXSBH \n",
       "2 PAXSBH-03A-01R_RBS_withJunctionsOnGenome_dupsFlagged_r1.fq.gz PAXSBH  PAXSBH \n",
       "3 PAXWGW-03A-01R_RBS_withJunctionsOnGenome_dupsFlagged_r2.fq.gz PAXWGW  PAXWGW \n",
       "4 PAXWGW-03A-01R_RBS_withJunctionsOnGenome_dupsFlagged_r1.fq.gz PAXWGW  PAXWGW \n",
       "5 PASNSP-03A-01R_RBS_withJunctionsOnGenome_dupsFlagged_r1.fq.gz PASNSP  PASNSP \n",
       "6 PASNSP-03A-01R_RBS_withJunctionsOnGenome_dupsFlagged_r2.fq.gz PASNSP  PASNSP \n",
       "  Sample.ID      sample         Gender Disease.type Paired.end\n",
       "1 PAXSBH-03A-01R PAXSBH-03A-01R Female TAM          1         \n",
       "2 PAXSBH-03A-01R PAXSBH-03A-01R Female TAM          2         \n",
       "3 PAXWGW-03A-01R PAXWGW-03A-01R Female TAM          1         \n",
       "4 PAXWGW-03A-01R PAXWGW-03A-01R Female TAM          2         \n",
       "5 PASNSP-03A-01R PASNSP-03A-01R Male   TAM          1         \n",
       "6 PASNSP-03A-01R PASNSP-03A-01R Male   TAM          2         \n",
       "  Abundance                                                           \n",
       "1 /sbgenomics/project-files/PAXSBH-03A-01R.kallisto_quant.abundance.h5\n",
       "2 /sbgenomics/project-files/PAXSBH-03A-01R.kallisto_quant.abundance.h5\n",
       "3 /sbgenomics/project-files/PAXWGW-03A-01R.kallisto_quant.abundance.h5\n",
       "4 /sbgenomics/project-files/PAXWGW-03A-01R.kallisto_quant.abundance.h5\n",
       "5 /sbgenomics/project-files/PASNSP-03A-01R.kallisto_quant.abundance.h5\n",
       "6 /sbgenomics/project-files/PASNSP-03A-01R.kallisto_quant.abundance.h5"
      ]
     },
     "metadata": {},
     "output_type": "display_data"
    }
   ],
   "source": [
    "head(metadata)"
   ]
  },
  {
   "cell_type": "code",
   "execution_count": 59,
   "id": "9209ebbd-dcfa-49b7-bb8e-413004406e8e",
   "metadata": {},
   "outputs": [
    {
     "data": {
      "text/html": [
       "<style>\n",
       ".list-inline {list-style: none; margin:0; padding: 0}\n",
       ".list-inline>li {display: inline-block}\n",
       ".list-inline>li:not(:last-child)::after {content: \"\\00b7\"; padding: 0 .5ex}\n",
       "</style>\n",
       "<ol class=list-inline><li>20</li><li>9</li></ol>\n"
      ],
      "text/latex": [
       "\\begin{enumerate*}\n",
       "\\item 20\n",
       "\\item 9\n",
       "\\end{enumerate*}\n"
      ],
      "text/markdown": [
       "1. 20\n",
       "2. 9\n",
       "\n",
       "\n"
      ],
      "text/plain": [
       "[1] 20  9"
      ]
     },
     "metadata": {},
     "output_type": "display_data"
    }
   ],
   "source": [
    "dim(metadata)"
   ]
  },
  {
   "cell_type": "code",
   "execution_count": 60,
   "id": "f907e43b-7a13-47bf-8aad-dc88eb09f022",
   "metadata": {},
   "outputs": [],
   "source": [
    "metadata <- dplyr::select(metadata, c('Case.ID', 'Sample.ID', 'Gender', 'Disease.type', 'Abundance'))"
   ]
  },
  {
   "cell_type": "code",
   "execution_count": 61,
   "id": "fea7756a-b5e7-4707-909c-10de1fefc960",
   "metadata": {},
   "outputs": [
    {
     "data": {
      "text/html": [
       "<table class=\"dataframe\">\n",
       "<caption>A data.frame: 6 × 5</caption>\n",
       "<thead>\n",
       "\t<tr><th></th><th scope=col>Case.ID</th><th scope=col>Sample.ID</th><th scope=col>Gender</th><th scope=col>Disease.type</th><th scope=col>Abundance</th></tr>\n",
       "\t<tr><th></th><th scope=col>&lt;chr&gt;</th><th scope=col>&lt;chr&gt;</th><th scope=col>&lt;chr&gt;</th><th scope=col>&lt;chr&gt;</th><th scope=col>&lt;chr&gt;</th></tr>\n",
       "</thead>\n",
       "<tbody>\n",
       "\t<tr><th scope=row>1</th><td>PAXSBH</td><td>PAXSBH-03A-01R</td><td>Female</td><td>TAM</td><td>/sbgenomics/project-files/PAXSBH-03A-01R.kallisto_quant.abundance.h5</td></tr>\n",
       "\t<tr><th scope=row>2</th><td>PAXSBH</td><td>PAXSBH-03A-01R</td><td>Female</td><td>TAM</td><td>/sbgenomics/project-files/PAXSBH-03A-01R.kallisto_quant.abundance.h5</td></tr>\n",
       "\t<tr><th scope=row>3</th><td>PAXWGW</td><td>PAXWGW-03A-01R</td><td>Female</td><td>TAM</td><td>/sbgenomics/project-files/PAXWGW-03A-01R.kallisto_quant.abundance.h5</td></tr>\n",
       "\t<tr><th scope=row>4</th><td>PAXWGW</td><td>PAXWGW-03A-01R</td><td>Female</td><td>TAM</td><td>/sbgenomics/project-files/PAXWGW-03A-01R.kallisto_quant.abundance.h5</td></tr>\n",
       "\t<tr><th scope=row>5</th><td>PASNSP</td><td>PASNSP-03A-01R</td><td>Male  </td><td>TAM</td><td>/sbgenomics/project-files/PASNSP-03A-01R.kallisto_quant.abundance.h5</td></tr>\n",
       "\t<tr><th scope=row>6</th><td>PASNSP</td><td>PASNSP-03A-01R</td><td>Male  </td><td>TAM</td><td>/sbgenomics/project-files/PASNSP-03A-01R.kallisto_quant.abundance.h5</td></tr>\n",
       "</tbody>\n",
       "</table>\n"
      ],
      "text/latex": [
       "A data.frame: 6 × 5\n",
       "\\begin{tabular}{r|lllll}\n",
       "  & Case.ID & Sample.ID & Gender & Disease.type & Abundance\\\\\n",
       "  & <chr> & <chr> & <chr> & <chr> & <chr>\\\\\n",
       "\\hline\n",
       "\t1 & PAXSBH & PAXSBH-03A-01R & Female & TAM & /sbgenomics/project-files/PAXSBH-03A-01R.kallisto\\_quant.abundance.h5\\\\\n",
       "\t2 & PAXSBH & PAXSBH-03A-01R & Female & TAM & /sbgenomics/project-files/PAXSBH-03A-01R.kallisto\\_quant.abundance.h5\\\\\n",
       "\t3 & PAXWGW & PAXWGW-03A-01R & Female & TAM & /sbgenomics/project-files/PAXWGW-03A-01R.kallisto\\_quant.abundance.h5\\\\\n",
       "\t4 & PAXWGW & PAXWGW-03A-01R & Female & TAM & /sbgenomics/project-files/PAXWGW-03A-01R.kallisto\\_quant.abundance.h5\\\\\n",
       "\t5 & PASNSP & PASNSP-03A-01R & Male   & TAM & /sbgenomics/project-files/PASNSP-03A-01R.kallisto\\_quant.abundance.h5\\\\\n",
       "\t6 & PASNSP & PASNSP-03A-01R & Male   & TAM & /sbgenomics/project-files/PASNSP-03A-01R.kallisto\\_quant.abundance.h5\\\\\n",
       "\\end{tabular}\n"
      ],
      "text/markdown": [
       "\n",
       "A data.frame: 6 × 5\n",
       "\n",
       "| <!--/--> | Case.ID &lt;chr&gt; | Sample.ID &lt;chr&gt; | Gender &lt;chr&gt; | Disease.type &lt;chr&gt; | Abundance &lt;chr&gt; |\n",
       "|---|---|---|---|---|---|\n",
       "| 1 | PAXSBH | PAXSBH-03A-01R | Female | TAM | /sbgenomics/project-files/PAXSBH-03A-01R.kallisto_quant.abundance.h5 |\n",
       "| 2 | PAXSBH | PAXSBH-03A-01R | Female | TAM | /sbgenomics/project-files/PAXSBH-03A-01R.kallisto_quant.abundance.h5 |\n",
       "| 3 | PAXWGW | PAXWGW-03A-01R | Female | TAM | /sbgenomics/project-files/PAXWGW-03A-01R.kallisto_quant.abundance.h5 |\n",
       "| 4 | PAXWGW | PAXWGW-03A-01R | Female | TAM | /sbgenomics/project-files/PAXWGW-03A-01R.kallisto_quant.abundance.h5 |\n",
       "| 5 | PASNSP | PASNSP-03A-01R | Male   | TAM | /sbgenomics/project-files/PASNSP-03A-01R.kallisto_quant.abundance.h5 |\n",
       "| 6 | PASNSP | PASNSP-03A-01R | Male   | TAM | /sbgenomics/project-files/PASNSP-03A-01R.kallisto_quant.abundance.h5 |\n",
       "\n"
      ],
      "text/plain": [
       "  Case.ID Sample.ID      Gender Disease.type\n",
       "1 PAXSBH  PAXSBH-03A-01R Female TAM         \n",
       "2 PAXSBH  PAXSBH-03A-01R Female TAM         \n",
       "3 PAXWGW  PAXWGW-03A-01R Female TAM         \n",
       "4 PAXWGW  PAXWGW-03A-01R Female TAM         \n",
       "5 PASNSP  PASNSP-03A-01R Male   TAM         \n",
       "6 PASNSP  PASNSP-03A-01R Male   TAM         \n",
       "  Abundance                                                           \n",
       "1 /sbgenomics/project-files/PAXSBH-03A-01R.kallisto_quant.abundance.h5\n",
       "2 /sbgenomics/project-files/PAXSBH-03A-01R.kallisto_quant.abundance.h5\n",
       "3 /sbgenomics/project-files/PAXWGW-03A-01R.kallisto_quant.abundance.h5\n",
       "4 /sbgenomics/project-files/PAXWGW-03A-01R.kallisto_quant.abundance.h5\n",
       "5 /sbgenomics/project-files/PASNSP-03A-01R.kallisto_quant.abundance.h5\n",
       "6 /sbgenomics/project-files/PASNSP-03A-01R.kallisto_quant.abundance.h5"
      ]
     },
     "metadata": {},
     "output_type": "display_data"
    }
   ],
   "source": [
    "head(metadata)"
   ]
  },
  {
   "cell_type": "code",
   "execution_count": 62,
   "id": "9be16242-cd08-413b-a17e-8958d431c4f1",
   "metadata": {},
   "outputs": [],
   "source": [
    "metadata <- dplyr::distinct(metadata)"
   ]
  },
  {
   "cell_type": "code",
   "execution_count": 63,
   "id": "3b4a9c46-262d-4daa-9c61-7c43ecde421d",
   "metadata": {},
   "outputs": [
    {
     "data": {
      "text/html": [
       "<table class=\"dataframe\">\n",
       "<caption>A data.frame: 6 × 5</caption>\n",
       "<thead>\n",
       "\t<tr><th></th><th scope=col>Case.ID</th><th scope=col>Sample.ID</th><th scope=col>Gender</th><th scope=col>Disease.type</th><th scope=col>Abundance</th></tr>\n",
       "\t<tr><th></th><th scope=col>&lt;chr&gt;</th><th scope=col>&lt;chr&gt;</th><th scope=col>&lt;chr&gt;</th><th scope=col>&lt;chr&gt;</th><th scope=col>&lt;chr&gt;</th></tr>\n",
       "</thead>\n",
       "<tbody>\n",
       "\t<tr><th scope=row>1</th><td>PAXSBH</td><td>PAXSBH-03A-01R</td><td>Female</td><td>TAM   </td><td>/sbgenomics/project-files/PAXSBH-03A-01R.kallisto_quant.abundance.h5</td></tr>\n",
       "\t<tr><th scope=row>2</th><td>PAXWGW</td><td>PAXWGW-03A-01R</td><td>Female</td><td>TAM   </td><td>/sbgenomics/project-files/PAXWGW-03A-01R.kallisto_quant.abundance.h5</td></tr>\n",
       "\t<tr><th scope=row>3</th><td>PASNSP</td><td>PASNSP-03A-01R</td><td>Male  </td><td>TAM   </td><td>/sbgenomics/project-files/PASNSP-03A-01R.kallisto_quant.abundance.h5</td></tr>\n",
       "\t<tr><th scope=row>4</th><td>PASWXF</td><td>PASWXF-03A-01R</td><td>Male  </td><td>TAM   </td><td>/sbgenomics/project-files/PASWXF-03A-01R.kallisto_quant.abundance.h5</td></tr>\n",
       "\t<tr><th scope=row>5</th><td>PASXCL</td><td>PASXCL-03A-01R</td><td>Male  </td><td>TAM   </td><td>/sbgenomics/project-files/PASXCL-03A-01R.kallisto_quant.abundance.h5</td></tr>\n",
       "\t<tr><th scope=row>6</th><td>PAVZTK</td><td>PAVZTK-09A-01R</td><td>Female</td><td>DS-AML</td><td>/sbgenomics/project-files/PAVZTK-09A-01R.kallisto_quant.abundance.h5</td></tr>\n",
       "</tbody>\n",
       "</table>\n"
      ],
      "text/latex": [
       "A data.frame: 6 × 5\n",
       "\\begin{tabular}{r|lllll}\n",
       "  & Case.ID & Sample.ID & Gender & Disease.type & Abundance\\\\\n",
       "  & <chr> & <chr> & <chr> & <chr> & <chr>\\\\\n",
       "\\hline\n",
       "\t1 & PAXSBH & PAXSBH-03A-01R & Female & TAM    & /sbgenomics/project-files/PAXSBH-03A-01R.kallisto\\_quant.abundance.h5\\\\\n",
       "\t2 & PAXWGW & PAXWGW-03A-01R & Female & TAM    & /sbgenomics/project-files/PAXWGW-03A-01R.kallisto\\_quant.abundance.h5\\\\\n",
       "\t3 & PASNSP & PASNSP-03A-01R & Male   & TAM    & /sbgenomics/project-files/PASNSP-03A-01R.kallisto\\_quant.abundance.h5\\\\\n",
       "\t4 & PASWXF & PASWXF-03A-01R & Male   & TAM    & /sbgenomics/project-files/PASWXF-03A-01R.kallisto\\_quant.abundance.h5\\\\\n",
       "\t5 & PASXCL & PASXCL-03A-01R & Male   & TAM    & /sbgenomics/project-files/PASXCL-03A-01R.kallisto\\_quant.abundance.h5\\\\\n",
       "\t6 & PAVZTK & PAVZTK-09A-01R & Female & DS-AML & /sbgenomics/project-files/PAVZTK-09A-01R.kallisto\\_quant.abundance.h5\\\\\n",
       "\\end{tabular}\n"
      ],
      "text/markdown": [
       "\n",
       "A data.frame: 6 × 5\n",
       "\n",
       "| <!--/--> | Case.ID &lt;chr&gt; | Sample.ID &lt;chr&gt; | Gender &lt;chr&gt; | Disease.type &lt;chr&gt; | Abundance &lt;chr&gt; |\n",
       "|---|---|---|---|---|---|\n",
       "| 1 | PAXSBH | PAXSBH-03A-01R | Female | TAM    | /sbgenomics/project-files/PAXSBH-03A-01R.kallisto_quant.abundance.h5 |\n",
       "| 2 | PAXWGW | PAXWGW-03A-01R | Female | TAM    | /sbgenomics/project-files/PAXWGW-03A-01R.kallisto_quant.abundance.h5 |\n",
       "| 3 | PASNSP | PASNSP-03A-01R | Male   | TAM    | /sbgenomics/project-files/PASNSP-03A-01R.kallisto_quant.abundance.h5 |\n",
       "| 4 | PASWXF | PASWXF-03A-01R | Male   | TAM    | /sbgenomics/project-files/PASWXF-03A-01R.kallisto_quant.abundance.h5 |\n",
       "| 5 | PASXCL | PASXCL-03A-01R | Male   | TAM    | /sbgenomics/project-files/PASXCL-03A-01R.kallisto_quant.abundance.h5 |\n",
       "| 6 | PAVZTK | PAVZTK-09A-01R | Female | DS-AML | /sbgenomics/project-files/PAVZTK-09A-01R.kallisto_quant.abundance.h5 |\n",
       "\n"
      ],
      "text/plain": [
       "  Case.ID Sample.ID      Gender Disease.type\n",
       "1 PAXSBH  PAXSBH-03A-01R Female TAM         \n",
       "2 PAXWGW  PAXWGW-03A-01R Female TAM         \n",
       "3 PASNSP  PASNSP-03A-01R Male   TAM         \n",
       "4 PASWXF  PASWXF-03A-01R Male   TAM         \n",
       "5 PASXCL  PASXCL-03A-01R Male   TAM         \n",
       "6 PAVZTK  PAVZTK-09A-01R Female DS-AML      \n",
       "  Abundance                                                           \n",
       "1 /sbgenomics/project-files/PAXSBH-03A-01R.kallisto_quant.abundance.h5\n",
       "2 /sbgenomics/project-files/PAXWGW-03A-01R.kallisto_quant.abundance.h5\n",
       "3 /sbgenomics/project-files/PASNSP-03A-01R.kallisto_quant.abundance.h5\n",
       "4 /sbgenomics/project-files/PASWXF-03A-01R.kallisto_quant.abundance.h5\n",
       "5 /sbgenomics/project-files/PASXCL-03A-01R.kallisto_quant.abundance.h5\n",
       "6 /sbgenomics/project-files/PAVZTK-09A-01R.kallisto_quant.abundance.h5"
      ]
     },
     "metadata": {},
     "output_type": "display_data"
    }
   ],
   "source": [
    "head(metadata)"
   ]
  },
  {
   "cell_type": "code",
   "execution_count": 64,
   "id": "679e4004-878f-4937-b888-ef9fd43f01fa",
   "metadata": {},
   "outputs": [
    {
     "data": {
      "text/html": [
       "<style>\n",
       ".list-inline {list-style: none; margin:0; padding: 0}\n",
       ".list-inline>li {display: inline-block}\n",
       ".list-inline>li:not(:last-child)::after {content: \"\\00b7\"; padding: 0 .5ex}\n",
       "</style>\n",
       "<ol class=list-inline><li>10</li><li>5</li></ol>\n"
      ],
      "text/latex": [
       "\\begin{enumerate*}\n",
       "\\item 10\n",
       "\\item 5\n",
       "\\end{enumerate*}\n"
      ],
      "text/markdown": [
       "1. 10\n",
       "2. 5\n",
       "\n",
       "\n"
      ],
      "text/plain": [
       "[1] 10  5"
      ]
     },
     "metadata": {},
     "output_type": "display_data"
    }
   ],
   "source": [
    "dim(metadata)"
   ]
  },
  {
   "cell_type": "code",
   "execution_count": 65,
   "id": "0656197e-93f0-4008-b3bd-35c14adf1522",
   "metadata": {},
   "outputs": [],
   "source": [
    "metadata <- dplyr::rename(metadata, sample = Sample.ID)"
   ]
  },
  {
   "cell_type": "markdown",
   "id": "0617541a-0664-46bf-896e-4838af463e9a",
   "metadata": {},
   "source": [
    "Need to rename a colump as well to `path` where we have `Abundance`"
   ]
  },
  {
   "cell_type": "code",
   "execution_count": 79,
   "id": "11e98d5a-534a-4021-bfed-ffa7768cd8a4",
   "metadata": {},
   "outputs": [],
   "source": [
    "metadata <- dplyr::rename(metadata, path = Abundance)"
   ]
  },
  {
   "cell_type": "code",
   "execution_count": 80,
   "id": "edc62a33-02e1-4fbb-9b80-6a53a66a41e6",
   "metadata": {},
   "outputs": [
    {
     "data": {
      "text/html": [
       "<table class=\"dataframe\">\n",
       "<caption>A data.frame: 6 × 5</caption>\n",
       "<thead>\n",
       "\t<tr><th></th><th scope=col>Case.ID</th><th scope=col>sample</th><th scope=col>Gender</th><th scope=col>Disease.type</th><th scope=col>path</th></tr>\n",
       "\t<tr><th></th><th scope=col>&lt;chr&gt;</th><th scope=col>&lt;chr&gt;</th><th scope=col>&lt;chr&gt;</th><th scope=col>&lt;chr&gt;</th><th scope=col>&lt;chr&gt;</th></tr>\n",
       "</thead>\n",
       "<tbody>\n",
       "\t<tr><th scope=row>1</th><td>PAXSBH</td><td>PAXSBH-03A-01R</td><td>Female</td><td>TAM   </td><td>/sbgenomics/project-files/PAXSBH-03A-01R.kallisto_quant.abundance.h5</td></tr>\n",
       "\t<tr><th scope=row>2</th><td>PAXWGW</td><td>PAXWGW-03A-01R</td><td>Female</td><td>TAM   </td><td>/sbgenomics/project-files/PAXWGW-03A-01R.kallisto_quant.abundance.h5</td></tr>\n",
       "\t<tr><th scope=row>3</th><td>PASNSP</td><td>PASNSP-03A-01R</td><td>Male  </td><td>TAM   </td><td>/sbgenomics/project-files/PASNSP-03A-01R.kallisto_quant.abundance.h5</td></tr>\n",
       "\t<tr><th scope=row>4</th><td>PASWXF</td><td>PASWXF-03A-01R</td><td>Male  </td><td>TAM   </td><td>/sbgenomics/project-files/PASWXF-03A-01R.kallisto_quant.abundance.h5</td></tr>\n",
       "\t<tr><th scope=row>5</th><td>PASXCL</td><td>PASXCL-03A-01R</td><td>Male  </td><td>TAM   </td><td>/sbgenomics/project-files/PASXCL-03A-01R.kallisto_quant.abundance.h5</td></tr>\n",
       "\t<tr><th scope=row>6</th><td>PAVZTK</td><td>PAVZTK-09A-01R</td><td>Female</td><td>DS-AML</td><td>/sbgenomics/project-files/PAVZTK-09A-01R.kallisto_quant.abundance.h5</td></tr>\n",
       "</tbody>\n",
       "</table>\n"
      ],
      "text/latex": [
       "A data.frame: 6 × 5\n",
       "\\begin{tabular}{r|lllll}\n",
       "  & Case.ID & sample & Gender & Disease.type & path\\\\\n",
       "  & <chr> & <chr> & <chr> & <chr> & <chr>\\\\\n",
       "\\hline\n",
       "\t1 & PAXSBH & PAXSBH-03A-01R & Female & TAM    & /sbgenomics/project-files/PAXSBH-03A-01R.kallisto\\_quant.abundance.h5\\\\\n",
       "\t2 & PAXWGW & PAXWGW-03A-01R & Female & TAM    & /sbgenomics/project-files/PAXWGW-03A-01R.kallisto\\_quant.abundance.h5\\\\\n",
       "\t3 & PASNSP & PASNSP-03A-01R & Male   & TAM    & /sbgenomics/project-files/PASNSP-03A-01R.kallisto\\_quant.abundance.h5\\\\\n",
       "\t4 & PASWXF & PASWXF-03A-01R & Male   & TAM    & /sbgenomics/project-files/PASWXF-03A-01R.kallisto\\_quant.abundance.h5\\\\\n",
       "\t5 & PASXCL & PASXCL-03A-01R & Male   & TAM    & /sbgenomics/project-files/PASXCL-03A-01R.kallisto\\_quant.abundance.h5\\\\\n",
       "\t6 & PAVZTK & PAVZTK-09A-01R & Female & DS-AML & /sbgenomics/project-files/PAVZTK-09A-01R.kallisto\\_quant.abundance.h5\\\\\n",
       "\\end{tabular}\n"
      ],
      "text/markdown": [
       "\n",
       "A data.frame: 6 × 5\n",
       "\n",
       "| <!--/--> | Case.ID &lt;chr&gt; | sample &lt;chr&gt; | Gender &lt;chr&gt; | Disease.type &lt;chr&gt; | path &lt;chr&gt; |\n",
       "|---|---|---|---|---|---|\n",
       "| 1 | PAXSBH | PAXSBH-03A-01R | Female | TAM    | /sbgenomics/project-files/PAXSBH-03A-01R.kallisto_quant.abundance.h5 |\n",
       "| 2 | PAXWGW | PAXWGW-03A-01R | Female | TAM    | /sbgenomics/project-files/PAXWGW-03A-01R.kallisto_quant.abundance.h5 |\n",
       "| 3 | PASNSP | PASNSP-03A-01R | Male   | TAM    | /sbgenomics/project-files/PASNSP-03A-01R.kallisto_quant.abundance.h5 |\n",
       "| 4 | PASWXF | PASWXF-03A-01R | Male   | TAM    | /sbgenomics/project-files/PASWXF-03A-01R.kallisto_quant.abundance.h5 |\n",
       "| 5 | PASXCL | PASXCL-03A-01R | Male   | TAM    | /sbgenomics/project-files/PASXCL-03A-01R.kallisto_quant.abundance.h5 |\n",
       "| 6 | PAVZTK | PAVZTK-09A-01R | Female | DS-AML | /sbgenomics/project-files/PAVZTK-09A-01R.kallisto_quant.abundance.h5 |\n",
       "\n"
      ],
      "text/plain": [
       "  Case.ID sample         Gender Disease.type\n",
       "1 PAXSBH  PAXSBH-03A-01R Female TAM         \n",
       "2 PAXWGW  PAXWGW-03A-01R Female TAM         \n",
       "3 PASNSP  PASNSP-03A-01R Male   TAM         \n",
       "4 PASWXF  PASWXF-03A-01R Male   TAM         \n",
       "5 PASXCL  PASXCL-03A-01R Male   TAM         \n",
       "6 PAVZTK  PAVZTK-09A-01R Female DS-AML      \n",
       "  path                                                                \n",
       "1 /sbgenomics/project-files/PAXSBH-03A-01R.kallisto_quant.abundance.h5\n",
       "2 /sbgenomics/project-files/PAXWGW-03A-01R.kallisto_quant.abundance.h5\n",
       "3 /sbgenomics/project-files/PASNSP-03A-01R.kallisto_quant.abundance.h5\n",
       "4 /sbgenomics/project-files/PASWXF-03A-01R.kallisto_quant.abundance.h5\n",
       "5 /sbgenomics/project-files/PASXCL-03A-01R.kallisto_quant.abundance.h5\n",
       "6 /sbgenomics/project-files/PAVZTK-09A-01R.kallisto_quant.abundance.h5"
      ]
     },
     "metadata": {},
     "output_type": "display_data"
    }
   ],
   "source": [
    "head(metadata)"
   ]
  },
  {
   "cell_type": "markdown",
   "id": "5f8ecb14-d688-47ec-bbee-c84bdc5bdb4d",
   "metadata": {},
   "source": [
    "#### biomaRt - how to use\n",
    "\n",
    "Following instructions from the [ensembl site](https://grch37.ensembl.org/info/data/biomart/biomart_r_package.html)"
   ]
  },
  {
   "cell_type": "code",
   "execution_count": 67,
   "id": "b315a983-b7eb-47c5-a618-3558f1988f21",
   "metadata": {},
   "outputs": [],
   "source": [
    "library(biomaRt)"
   ]
  },
  {
   "cell_type": "code",
   "execution_count": 68,
   "id": "9a527c62-5125-4471-be1c-eaf43f2a0d29",
   "metadata": {},
   "outputs": [
    {
     "data": {
      "text/html": [
       "<table class=\"dataframe\">\n",
       "<caption>A data.frame: 4 × 2</caption>\n",
       "<thead>\n",
       "\t<tr><th scope=col>biomart</th><th scope=col>version</th></tr>\n",
       "\t<tr><th scope=col>&lt;chr&gt;</th><th scope=col>&lt;chr&gt;</th></tr>\n",
       "</thead>\n",
       "<tbody>\n",
       "\t<tr><td>genes        </td><td>Ensembl Genes 107     </td></tr>\n",
       "\t<tr><td>mouse_strains</td><td>Mouse strains 107     </td></tr>\n",
       "\t<tr><td>snps         </td><td>Ensembl Variation 107 </td></tr>\n",
       "\t<tr><td>regulation   </td><td>Ensembl Regulation 107</td></tr>\n",
       "</tbody>\n",
       "</table>\n"
      ],
      "text/latex": [
       "A data.frame: 4 × 2\n",
       "\\begin{tabular}{ll}\n",
       " biomart & version\\\\\n",
       " <chr> & <chr>\\\\\n",
       "\\hline\n",
       "\t genes         & Ensembl Genes 107     \\\\\n",
       "\t mouse\\_strains & Mouse strains 107     \\\\\n",
       "\t snps          & Ensembl Variation 107 \\\\\n",
       "\t regulation    & Ensembl Regulation 107\\\\\n",
       "\\end{tabular}\n"
      ],
      "text/markdown": [
       "\n",
       "A data.frame: 4 × 2\n",
       "\n",
       "| biomart &lt;chr&gt; | version &lt;chr&gt; |\n",
       "|---|---|\n",
       "| genes         | Ensembl Genes 107      |\n",
       "| mouse_strains | Mouse strains 107      |\n",
       "| snps          | Ensembl Variation 107  |\n",
       "| regulation    | Ensembl Regulation 107 |\n",
       "\n"
      ],
      "text/plain": [
       "  biomart       version               \n",
       "1 genes         Ensembl Genes 107     \n",
       "2 mouse_strains Mouse strains 107     \n",
       "3 snps          Ensembl Variation 107 \n",
       "4 regulation    Ensembl Regulation 107"
      ]
     },
     "metadata": {},
     "output_type": "display_data"
    }
   ],
   "source": [
    "listEnsembl()"
   ]
  },
  {
   "cell_type": "code",
   "execution_count": 70,
   "id": "5cc90831-6a69-48d6-8d1d-f452ac4dacae",
   "metadata": {},
   "outputs": [],
   "source": [
    "grch37 = useEnsembl(biomart=\"ensembl\",GRCh=37)"
   ]
  },
  {
   "cell_type": "code",
   "execution_count": 76,
   "id": "cf6b61ce-eaf9-4ede-b84f-a498ab0e16eb",
   "metadata": {},
   "outputs": [],
   "source": [
    "mart <- biomaRt::useMart(biomart=\"ensembl\", \n",
    "                     dataset = \"hsapiens_gene_ensembl\",\n",
    "                        host = \"https://useast.ensembl.org\")"
   ]
  },
  {
   "cell_type": "code",
   "execution_count": 77,
   "id": "09a5d947-397f-46de-a8e6-88658fb08d32",
   "metadata": {},
   "outputs": [
    {
     "data": {
      "text/html": [
       "<table class=\"dataframe\">\n",
       "<caption>A data.frame: 6 × 3</caption>\n",
       "<thead>\n",
       "\t<tr><th></th><th scope=col>target_id</th><th scope=col>ens_gene</th><th scope=col>ext_gene</th></tr>\n",
       "\t<tr><th></th><th scope=col>&lt;chr&gt;</th><th scope=col>&lt;chr&gt;</th><th scope=col>&lt;chr&gt;</th></tr>\n",
       "</thead>\n",
       "<tbody>\n",
       "\t<tr><th scope=row>1</th><td>ENST00000387314</td><td>ENSG00000210049</td><td>MT-TF  </td></tr>\n",
       "\t<tr><th scope=row>2</th><td>ENST00000389680</td><td>ENSG00000211459</td><td>MT-RNR1</td></tr>\n",
       "\t<tr><th scope=row>3</th><td>ENST00000387342</td><td>ENSG00000210077</td><td>MT-TV  </td></tr>\n",
       "\t<tr><th scope=row>4</th><td>ENST00000387347</td><td>ENSG00000210082</td><td>MT-RNR2</td></tr>\n",
       "\t<tr><th scope=row>5</th><td>ENST00000386347</td><td>ENSG00000209082</td><td>MT-TL1 </td></tr>\n",
       "\t<tr><th scope=row>6</th><td>ENST00000361390</td><td>ENSG00000198888</td><td>MT-ND1 </td></tr>\n",
       "</tbody>\n",
       "</table>\n"
      ],
      "text/latex": [
       "A data.frame: 6 × 3\n",
       "\\begin{tabular}{r|lll}\n",
       "  & target\\_id & ens\\_gene & ext\\_gene\\\\\n",
       "  & <chr> & <chr> & <chr>\\\\\n",
       "\\hline\n",
       "\t1 & ENST00000387314 & ENSG00000210049 & MT-TF  \\\\\n",
       "\t2 & ENST00000389680 & ENSG00000211459 & MT-RNR1\\\\\n",
       "\t3 & ENST00000387342 & ENSG00000210077 & MT-TV  \\\\\n",
       "\t4 & ENST00000387347 & ENSG00000210082 & MT-RNR2\\\\\n",
       "\t5 & ENST00000386347 & ENSG00000209082 & MT-TL1 \\\\\n",
       "\t6 & ENST00000361390 & ENSG00000198888 & MT-ND1 \\\\\n",
       "\\end{tabular}\n"
      ],
      "text/markdown": [
       "\n",
       "A data.frame: 6 × 3\n",
       "\n",
       "| <!--/--> | target_id &lt;chr&gt; | ens_gene &lt;chr&gt; | ext_gene &lt;chr&gt; |\n",
       "|---|---|---|---|\n",
       "| 1 | ENST00000387314 | ENSG00000210049 | MT-TF   |\n",
       "| 2 | ENST00000389680 | ENSG00000211459 | MT-RNR1 |\n",
       "| 3 | ENST00000387342 | ENSG00000210077 | MT-TV   |\n",
       "| 4 | ENST00000387347 | ENSG00000210082 | MT-RNR2 |\n",
       "| 5 | ENST00000386347 | ENSG00000209082 | MT-TL1  |\n",
       "| 6 | ENST00000361390 | ENSG00000198888 | MT-ND1  |\n",
       "\n"
      ],
      "text/plain": [
       "  target_id       ens_gene        ext_gene\n",
       "1 ENST00000387314 ENSG00000210049 MT-TF   \n",
       "2 ENST00000389680 ENSG00000211459 MT-RNR1 \n",
       "3 ENST00000387342 ENSG00000210077 MT-TV   \n",
       "4 ENST00000387347 ENSG00000210082 MT-RNR2 \n",
       "5 ENST00000386347 ENSG00000209082 MT-TL1  \n",
       "6 ENST00000361390 ENSG00000198888 MT-ND1  "
      ]
     },
     "metadata": {},
     "output_type": "display_data"
    }
   ],
   "source": [
    "ttg <- biomaRt::getBM(\n",
    "  attributes = c(\"ensembl_transcript_id\", \"transcript_version\",\n",
    "  \"ensembl_gene_id\", \"external_gene_name\", \"description\",\n",
    "  \"transcript_biotype\"),\n",
    "  mart = mart)\n",
    "ttg <- dplyr::rename(ttg, target_id = ensembl_transcript_id,\n",
    "  ens_gene = ensembl_gene_id, ext_gene = external_gene_name)\n",
    "ttg <- dplyr::select(ttg, c('target_id', 'ens_gene', 'ext_gene'))\n",
    "head(ttg)\n"
   ]
  },
  {
   "cell_type": "markdown",
   "id": "6ad386e6-6c48-4e78-94f2-dc2b76581643",
   "metadata": {},
   "source": [
    "The resulting table contains Ensembl gene names (‘ens_gene’) and the associated transcripts (‘target_id’). Note that the gene-transcript mapping must be compatible with the transcriptome used with kallisto. In other words, to use Ensembl transcript-gene associations kallisto was run using the Ensembl transcriptome.\n",
    "\n",
    "#### Preparing the analysis\n",
    "\n",
    "The next step is to build a sleuth object. The sleuth object contains specification of the experimental design, a map describing grouping of transcripts into genes (or other groups), and a number of user specific parameters. In the example that follows, metadata is the experimental design and target_mapping describes the transcript groupings into genes previously constructed. Furthermore, we provide an aggregation_column, the column name of in ‘target_mapping’ table that is used to aggregate the transcripts. When both ‘target_mapping’ and ‘aggregation_column’ are provided, sleuth will automatically run in gene mode, returning gene differential expression results that came from the aggregation of transcript p-values.\n"
   ]
  },
  {
   "cell_type": "code",
   "execution_count": null,
   "id": "2f090924-7335-4626-9bd0-a9e3d46db878",
   "metadata": {},
   "outputs": [
    {
     "name": "stderr",
     "output_type": "stream",
     "text": [
      "reading in kallisto results\n",
      "\n",
      "dropping unused factor levels\n",
      "\n",
      ".\n",
      ".\n",
      ".\n",
      ".\n",
      ".\n",
      ".\n",
      ".\n",
      ".\n",
      ".\n",
      ".\n",
      "\n",
      "\n"
     ]
    }
   ],
   "source": [
    "so <- sleuth_prep(metadata, \n",
    "                  target_mapping = ttg, \n",
    "                  aggregation_column = 'ens_gene',\n",
    "                  extra_bootstrap_summary = TRUE)"
   ]
  },
  {
   "cell_type": "code",
   "execution_count": null,
   "id": "344c22b5-cb9b-4ee3-9a04-fdb522635298",
   "metadata": {},
   "outputs": [],
   "source": []
  }
 ],
 "metadata": {
  "kernelspec": {
   "display_name": "R",
   "language": "R",
   "name": "ir"
  },
  "language_info": {
   "codemirror_mode": "r",
   "file_extension": ".r",
   "mimetype": "text/x-r-source",
   "name": "R",
   "pygments_lexer": "r",
   "version": "4.1.1"
  }
 },
 "nbformat": 4,
 "nbformat_minor": 5
}
