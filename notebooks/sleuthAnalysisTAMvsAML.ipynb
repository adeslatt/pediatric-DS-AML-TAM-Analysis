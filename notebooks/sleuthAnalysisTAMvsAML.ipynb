{
 "cells": [
  {
   "cell_type": "markdown",
   "id": "7ac92837-8970-4820-8557-342a4993df84",
   "metadata": {},
   "source": [
    "### Getting started with Sleuth\n",
    "\n",
    "**sleuth** is a tool for the analysis and comparison of multiple related RNA-Seq experiments. Key features include:\n",
    "\n",
    "* The ability to perform both transcript-level and gene-level analysis.\n",
    "* Compatibility with kallisto enabling a fast and accurate workflow from reads to results.\n",
    "* The use of boostraps to ascertain and correct for technical variation in experiments.\n",
    "* An interactive app for exploratory data analysis.\n",
    "\n",
    "To use sleuth, RNA-Seq data must first be quantified with kallisto ( which we did so with the CAVATICA workflow), which is a program for very fast RNA-Seq quantification based on pseudo-alignment. An important feature of kallisto is that it outputs bootstraps along with the estimates of transcript abundances. These can serve as proxies for technical replicates, allowing for an ascertainment of the variability in estimates due to the random processes underlying RNA-Seq as well as the statistical procedure of read assignment. kallisto can quantify 30 million human reads in less than 3 minutes on a Mac desktop computer using only the read sequences and a transcriptome index that itself takes less than 10 minutes to build. sleuth has been designed to work seamlessly and efficiently with kallisto, and therefore RNA-Seq analysis with kallisto and sleuth is tractable on a laptop computer in a matter of minutes. More details about kallisto and sleuth are provided the papers describing the methods:\n",
    "\n",
    "#### Citations\n",
    "\n",
    "* Nicolas L Bray, Harold Pimentel, Páll Melsted and Lior Pachter, Near-optimal probabilistic RNA-seq quantification, Nature Biotechnology 34, 525–527 (2016), doi:10.1038/nbt.3519\n",
    "\n",
    "* Harold Pimentel, Nicolas L Bray, Suzette Puente, Páll Melsted and Lior Pachter, Differential analysis of RNA-seq incorporating quantification uncertainty, in press.\n",
    "\n",
    "sleuth has been designed to facilitate the exploration of RNA-Seq data by utilizing the Shiny web application framework by RStudio. The worked example below illustrates how to load data into sleuth and how to open Shiny plots for exploratory data analysis. The code underlying all plots is available via the Shiny interface so that analyses can be fully “open source”.\n",
    "\n"
   ]
  },
  {
   "cell_type": "markdown",
   "id": "42a7cbed-f424-4492-b290-da466df30841",
   "metadata": {},
   "source": [
    "### Introduction\n",
    "\n",
    "Applying the same techniques used in the walk through - apply it to our own AML vs TAM\n",
    "\n",
    "We need to set up our working directory.\n",
    "And we need \n",
    "\n",
    "* `cowplot` - for making prettier plots and plots with grids.  and \n",
    "* `biomaRt` - for extracting the Ensembl transcript to gene mapping\n",
    "\n"
   ]
  },
  {
   "cell_type": "code",
   "execution_count": 1,
   "id": "d119c278-75b7-45e3-abb5-67a053799801",
   "metadata": {},
   "outputs": [
    {
     "name": "stderr",
     "output_type": "stream",
     "text": [
      "Updating HTML index of packages in '.Library'\n",
      "\n",
      "Making 'packages.html' ...\n",
      " done\n",
      "\n"
     ]
    }
   ],
   "source": [
    "install.packages(\"cowplot\")\n"
   ]
  },
  {
   "cell_type": "code",
   "execution_count": 2,
   "id": "9b8a8225-747e-491f-accd-d23f035028e1",
   "metadata": {},
   "outputs": [],
   "source": [
    "library(\"cowplot\")\n"
   ]
  },
  {
   "cell_type": "code",
   "execution_count": 3,
   "id": "3f11fb1c-4377-42a2-84ec-48029872462a",
   "metadata": {},
   "outputs": [
    {
     "name": "stderr",
     "output_type": "stream",
     "text": [
      "Updating HTML index of packages in '.Library'\n",
      "\n",
      "Making 'packages.html' ...\n",
      " done\n",
      "\n",
      "'getOption(\"repos\")' replaces Bioconductor standard repositories, see\n",
      "'?repositories' for details\n",
      "\n",
      "replacement repositories:\n",
      "    CRAN: https://cran.r-project.org\n",
      "\n",
      "\n",
      "Bioconductor version 3.14 (BiocManager 1.30.18), R 4.1.1 (2021-08-10)\n",
      "\n",
      "Installing package(s) 'BiocVersion'\n",
      "\n",
      "Updating HTML index of packages in '.Library'\n",
      "\n",
      "Making 'packages.html' ...\n",
      " done\n",
      "\n",
      "Old packages: 'backports', 'BiocGenerics', 'blob', 'brew', 'brio', 'broom',\n",
      "  'bslib', 'callr', 'caret', 'class', 'cli', 'clipr', 'colorspace',\n",
      "  'commonmark', 'conflicted', 'covr', 'cpp11', 'crayon', 'credentials',\n",
      "  'crosstalk', 'curl', 'data.table', 'DBI', 'dbplyr', 'desc', 'devtools',\n",
      "  'dials', 'diffobj', 'digest', 'dplyr', 'DT', 'dtplyr', 'e1071', 'evaluate',\n",
      "  'fansi', 'farver', 'forcats', 'foreach', 'forecast', 'fs', 'furrr', 'future',\n",
      "  'future.apply', 'gargle', 'generics', 'gert', 'ggplot2', 'gh', 'git2r',\n",
      "  'gitcreds', 'globals', 'glue', 'googlesheets4', 'gower', 'gtable', 'hardhat',\n",
      "  'haven', 'hms', 'htmltools', 'httpuv', 'httr', 'infer', 'ipred', 'IRdisplay',\n",
      "  'IRkernel', 'isoband', 'iterators', 'jsonlite', 'knitr', 'later', 'lattice',\n",
      "  'lhs', 'lifecycle', 'lmtest', 'lubridate', 'magrittr', 'MASS', 'Matrix',\n",
      "  'memoise', 'mgcv', 'mime', 'modeldata', 'modelr', 'nlme', 'nnet',\n",
      "  'objectProperties', 'objectSignals', 'openssl', 'parallelly', 'parsnip',\n",
      "  'patchwork', 'pbdZMQ', 'pillar', 'pkgbuild', 'pkgload', 'plyr', 'processx',\n",
      "  'progressr', 'proxy', 'ps', 'purrr', 'quantmod', 'randomForest', 'rcmdcheck',\n",
      "  'RColorBrewer', 'Rcpp', 'RcppArmadillo', 'RCurl', 'readr', 'readxl',\n",
      "  'recipes', 'remotes', 'repr', 'reprex', 'rex', 'rlang', 'rmarkdown', 'RODBC',\n",
      "  'roxygen2', 'rpart', 'rprojroot', 'rsample', 'RSQLite', 'rstudioapi',\n",
      "  'rversions', 'rvest', 'S4Vectors', 'sass', 'scales', 'sessioninfo',\n",
      "  'sevenbridges', 'shiny', 'stringi', 'stringr', 'survival', 'sys', 'testthat',\n",
      "  'tibble', 'tidymodels', 'tidyr', 'tidyselect', 'tidyverse', 'timeDate',\n",
      "  'tinytex', 'tseries', 'TTR', 'tune', 'tzdb', 'urca', 'usethis', 'uuid',\n",
      "  'vctrs', 'viridisLite', 'vroom', 'waldo', 'withr', 'workflows',\n",
      "  'workflowsets', 'xfun', 'xml2', 'xts', 'yaml', 'yardstick', 'zip', 'zoo'\n",
      "\n"
     ]
    }
   ],
   "source": [
    "if (!require(\"BiocManager\", quietly = TRUE))\n",
    "    install.packages(\"BiocManager\")\n",
    "BiocManager::install(version = \"3.14\")\n"
   ]
  },
  {
   "cell_type": "code",
   "execution_count": 4,
   "id": "4e3340e5-8b57-4eab-8191-d12240296a3b",
   "metadata": {},
   "outputs": [
    {
     "name": "stderr",
     "output_type": "stream",
     "text": [
      "'getOption(\"repos\")' replaces Bioconductor standard repositories, see\n",
      "'?repositories' for details\n",
      "\n",
      "replacement repositories:\n",
      "    CRAN: https://cran.r-project.org\n",
      "\n",
      "\n",
      "Bioconductor version 3.14 (BiocManager 1.30.18), R 4.1.1 (2021-08-10)\n",
      "\n",
      "Installing package(s) 'biomaRt'\n",
      "\n",
      "also installing the dependencies ‘zlibbioc’, ‘GenomeInfoDbData’, ‘XVector’, ‘GenomeInfoDb’, ‘BiocGenerics’, ‘png’, ‘Biostrings’, ‘Biobase’, ‘IRanges’, ‘KEGGREST’, ‘filelock’, ‘XML’, ‘AnnotationDbi’, ‘BiocFileCache’\n",
      "\n",
      "\n",
      "Updating HTML index of packages in '.Library'\n",
      "\n",
      "Making 'packages.html' ...\n",
      " done\n",
      "\n",
      "Old packages: 'backports', 'blob', 'brew', 'brio', 'broom', 'bslib', 'callr',\n",
      "  'caret', 'class', 'cli', 'clipr', 'colorspace', 'commonmark', 'conflicted',\n",
      "  'covr', 'cpp11', 'crayon', 'credentials', 'crosstalk', 'curl', 'data.table',\n",
      "  'DBI', 'dbplyr', 'desc', 'devtools', 'dials', 'diffobj', 'digest', 'dplyr',\n",
      "  'DT', 'dtplyr', 'e1071', 'evaluate', 'fansi', 'farver', 'forcats', 'foreach',\n",
      "  'forecast', 'fs', 'furrr', 'future', 'future.apply', 'gargle', 'generics',\n",
      "  'gert', 'ggplot2', 'gh', 'git2r', 'gitcreds', 'globals', 'glue',\n",
      "  'googlesheets4', 'gower', 'gtable', 'hardhat', 'haven', 'hms', 'htmltools',\n",
      "  'httpuv', 'httr', 'infer', 'ipred', 'IRdisplay', 'IRkernel', 'isoband',\n",
      "  'iterators', 'jsonlite', 'knitr', 'later', 'lattice', 'lhs', 'lifecycle',\n",
      "  'lmtest', 'lubridate', 'magrittr', 'MASS', 'Matrix', 'memoise', 'mgcv',\n",
      "  'mime', 'modeldata', 'modelr', 'nlme', 'nnet', 'objectProperties',\n",
      "  'objectSignals', 'openssl', 'parallelly', 'parsnip', 'patchwork', 'pbdZMQ',\n",
      "  'pillar', 'pkgbuild', 'pkgload', 'plyr', 'processx', 'progressr', 'proxy',\n",
      "  'ps', 'purrr', 'quantmod', 'randomForest', 'rcmdcheck', 'RColorBrewer',\n",
      "  'Rcpp', 'RcppArmadillo', 'RCurl', 'readr', 'readxl', 'recipes', 'remotes',\n",
      "  'repr', 'reprex', 'rex', 'rlang', 'rmarkdown', 'RODBC', 'roxygen2', 'rpart',\n",
      "  'rprojroot', 'rsample', 'RSQLite', 'rstudioapi', 'rversions', 'rvest',\n",
      "  'S4Vectors', 'sass', 'scales', 'sessioninfo', 'sevenbridges', 'shiny',\n",
      "  'stringi', 'stringr', 'survival', 'sys', 'testthat', 'tibble', 'tidymodels',\n",
      "  'tidyr', 'tidyselect', 'tidyverse', 'timeDate', 'tinytex', 'tseries', 'TTR',\n",
      "  'tune', 'tzdb', 'urca', 'usethis', 'uuid', 'vctrs', 'viridisLite', 'vroom',\n",
      "  'waldo', 'withr', 'workflows', 'workflowsets', 'xfun', 'xml2', 'xts', 'yaml',\n",
      "  'yardstick', 'zip', 'zoo'\n",
      "\n"
     ]
    }
   ],
   "source": [
    "BiocManager::install(\"biomaRt\")"
   ]
  },
  {
   "cell_type": "code",
   "execution_count": null,
   "id": "ae91c4a7-6dc4-4b7b-a0f3-445281753dda",
   "metadata": {},
   "outputs": [],
   "source": [
    "BiocManager::install(\"DESeq2\")"
   ]
  },
  {
   "cell_type": "code",
   "execution_count": null,
   "id": "48a60bc9-e583-4d3d-ad1c-0706740fe6ce",
   "metadata": {},
   "outputs": [],
   "source": [
    "library(DESeq2)"
   ]
  },
  {
   "cell_type": "code",
   "execution_count": null,
   "id": "e5d10168-4933-411c-98f7-289eb247447a",
   "metadata": {},
   "outputs": [],
   "source": [
    "library(\"devtools\")"
   ]
  },
  {
   "cell_type": "markdown",
   "id": "05532e3f-6097-4f15-816b-6571a5993a91",
   "metadata": {},
   "source": [
    "#### First time through - Received a Warning that rhdf5 not available for this version of R\n",
    "\n",
    "Looked up our version and google searched R 4.1.1 rhdf5\n",
    "    \n",
    "Can install using `BiocManager::install(\"rhdf5\")`\n",
    "\n",
    "Pactherlab says to install `*rhdf5*` first"
   ]
  },
  {
   "cell_type": "code",
   "execution_count": null,
   "id": "0a43a9e1-7ce6-4b68-860b-5e3e1876ab3a",
   "metadata": {},
   "outputs": [],
   "source": [
    "BiocManager::install(\"rhdf5\", force=TRUE)"
   ]
  },
  {
   "cell_type": "code",
   "execution_count": null,
   "id": "e7b03ce8-e5d8-4be8-be2b-e40c428d4541",
   "metadata": {},
   "outputs": [],
   "source": [
    "library (rhdf5)\n"
   ]
  },
  {
   "cell_type": "markdown",
   "id": "09f66a8d-241c-4f86-8b23-3fcf14859d4f",
   "metadata": {},
   "source": [
    "#### Issues\n",
    "\n",
    "Noted in issues https://github.com/pachterlab/sleuth/issues/259 -- follow the instructions from [Paast](https://github.com/pachterlab/sleuth/issues/259#issuecomment-966270599)\n",
    "\n",
    "Install rhdf5 as noted above.\n",
    "\n",
    "Load the library\n",
    "\n",
    "##### Clone sleuth and install after editing the file\n",
    "\n",
    "Change directory to the top working directory in this etheral machine.\n",
    "\n",
    "```bash\n",
    "cd /sbgenomics/workspace\n",
    "```\n",
    "\n",
    "now clone the library \n",
    "\n",
    "```bash\n",
    "git clone https://github.com/pachterlab/sleuth.git\n",
    "```\n",
    "\n",
    "edit NAMESPACE as the instructions note - to remove the dependency remove the last line to remove the reference to **rhdf5**\n",
    "\n",
    "And then run the install.\n"
   ]
  },
  {
   "cell_type": "code",
   "execution_count": null,
   "id": "cace19ad-5aea-475b-8fe2-d6cc962eeba3",
   "metadata": {},
   "outputs": [],
   "source": [
    "devtools::install('../../sleuth/')"
   ]
  },
  {
   "cell_type": "code",
   "execution_count": null,
   "id": "a69aba07-0138-427f-a8e8-a28bd30b8456",
   "metadata": {},
   "outputs": [],
   "source": [
    "library(sleuth)"
   ]
  },
  {
   "cell_type": "markdown",
   "id": "a5947268-42ff-49ef-903b-980d1427b68a",
   "metadata": {},
   "source": [
    "We have successfully run Kallisto with Kallisto Quantitation.\n",
    "\n",
    "Results may be found after running an application on Cavatica here:\n",
    "\n",
    "```bash\n",
    "/sbgenomics/project-files/\n",
    "```\n",
    "\n",
    "For this analysis we will use the results from the run using `metadata_ten_samples_only_txt`\n",
    "\n",
    "Results are in:\n",
    "\n",
    "```bash\n",
    "/sbgenomics/project-files/ten_samples_expression_matrix.tpm.txt\n",
    "```"
   ]
  },
  {
   "cell_type": "markdown",
   "id": "ea7bc5b5-9e72-4bb8-92bd-d24143bb2479",
   "metadata": {},
   "source": [
    "### Parsing metadata\n",
    "\n",
    "A sleuth analysis is dependent on a metadata file, which describes the experimental design, the sample names, conditions and covariates. The metadata file is external to sleuth, and must be prepared prior to analysis. A metadata file should have been downloaded along with the kallisto quantifications. The first step in a sleuth analysis is loading of the metadata file. You might need the path in read_table below to where you have downloaded the kallisto dataset, so that the path directs to the sample_table.txt. We then select the relevant columns of the metadata.\n",
    "\n",
    "In our case, I used:\n",
    "\n",
    "```bash\n",
    "/sbgenomics/project-files/metadata_ten_samples_only.csv\n",
    "```"
   ]
  },
  {
   "cell_type": "code",
   "execution_count": null,
   "id": "a430a324-b6b5-4255-81eb-b15734e115bd",
   "metadata": {},
   "outputs": [],
   "source": [
    "metadata <- read.table('/sbgenomics/project-files/metadata_ten_samples_only.csv', sep=\",\", header=TRUE, stringsAsFactors = FALSE)"
   ]
  },
  {
   "cell_type": "code",
   "execution_count": null,
   "id": "809234a4-57cf-441d-a2c4-e1fd97127e90",
   "metadata": {},
   "outputs": [],
   "source": [
    "head(metadata, n=20)"
   ]
  },
  {
   "cell_type": "markdown",
   "id": "83d55633-bf9e-4b00-90d0-ef75788cef3a",
   "metadata": {},
   "source": [
    "There is an error in the last sample detail - where the paired should read `2` and not NA.  So I copied the file to a local directory and corrected it -- it is corrected permanently now - but for this run through you can see:\n",
    "```bash\n",
    "cp /sbgenomics/project-files/metadata_ten_samples_only.csv /sbgenomics/workspace/pediatric-DS-AML-TAM-Analysis/data\n",
    "```\n",
    "\n",
    "where I edited the file and now will read this one in."
   ]
  },
  {
   "cell_type": "code",
   "execution_count": null,
   "id": "6d94ba4a-a191-494e-b2ed-d589c47843c1",
   "metadata": {},
   "outputs": [],
   "source": [
    "metadata <- read.table('/sbgenomics/workspace/pediatric-DS-AML-TAM-Analysis/data/metadata_ten_samples_only.csv', sep=\",\", header=TRUE, stringsAsFactors = FALSE)"
   ]
  },
  {
   "cell_type": "code",
   "execution_count": null,
   "id": "cf79d1bc-1a14-48c8-a57a-83f8116bd9ce",
   "metadata": {},
   "outputs": [],
   "source": [
    "head(metadata)"
   ]
  },
  {
   "cell_type": "code",
   "execution_count": null,
   "id": "9209ebbd-dcfa-49b7-bb8e-413004406e8e",
   "metadata": {},
   "outputs": [],
   "source": [
    "dim(metadata)"
   ]
  },
  {
   "cell_type": "code",
   "execution_count": null,
   "id": "f907e43b-7a13-47bf-8aad-dc88eb09f022",
   "metadata": {},
   "outputs": [],
   "source": [
    "metadata <- dplyr::select(metadata, c('Case.ID', 'Sample.ID', 'Gender', 'Disease.type', 'Abundance'))"
   ]
  },
  {
   "cell_type": "code",
   "execution_count": null,
   "id": "fea7756a-b5e7-4707-909c-10de1fefc960",
   "metadata": {},
   "outputs": [],
   "source": [
    "head(metadata)"
   ]
  },
  {
   "cell_type": "code",
   "execution_count": null,
   "id": "9be16242-cd08-413b-a17e-8958d431c4f1",
   "metadata": {},
   "outputs": [],
   "source": [
    "metadata <- dplyr::distinct(metadata)"
   ]
  },
  {
   "cell_type": "code",
   "execution_count": null,
   "id": "3b4a9c46-262d-4daa-9c61-7c43ecde421d",
   "metadata": {},
   "outputs": [],
   "source": [
    "head(metadata)"
   ]
  },
  {
   "cell_type": "code",
   "execution_count": null,
   "id": "679e4004-878f-4937-b888-ef9fd43f01fa",
   "metadata": {},
   "outputs": [],
   "source": [
    "dim(metadata)"
   ]
  },
  {
   "cell_type": "code",
   "execution_count": null,
   "id": "0656197e-93f0-4008-b3bd-35c14adf1522",
   "metadata": {},
   "outputs": [],
   "source": [
    "metadata <- dplyr::rename(metadata, sample = Sample.ID)"
   ]
  },
  {
   "cell_type": "markdown",
   "id": "0617541a-0664-46bf-896e-4838af463e9a",
   "metadata": {},
   "source": [
    "Need to rename a colump as well to `path` where we have `Abundance`"
   ]
  },
  {
   "cell_type": "code",
   "execution_count": null,
   "id": "11e98d5a-534a-4021-bfed-ffa7768cd8a4",
   "metadata": {},
   "outputs": [],
   "source": [
    "metadata <- dplyr::rename(metadata, path = Abundance)"
   ]
  },
  {
   "cell_type": "code",
   "execution_count": null,
   "id": "edc62a33-02e1-4fbb-9b80-6a53a66a41e6",
   "metadata": {},
   "outputs": [],
   "source": [
    "head(metadata)"
   ]
  },
  {
   "cell_type": "markdown",
   "id": "5f8ecb14-d688-47ec-bbee-c84bdc5bdb4d",
   "metadata": {},
   "source": [
    "#### biomaRt - how to use\n",
    "\n",
    "Following instructions from the [ensembl site](https://grch37.ensembl.org/info/data/biomart/biomart_r_package.html)"
   ]
  },
  {
   "cell_type": "code",
   "execution_count": null,
   "id": "b315a983-b7eb-47c5-a618-3558f1988f21",
   "metadata": {},
   "outputs": [],
   "source": [
    "library(biomaRt)"
   ]
  },
  {
   "cell_type": "code",
   "execution_count": null,
   "id": "cf6b61ce-eaf9-4ede-b84f-a498ab0e16eb",
   "metadata": {},
   "outputs": [],
   "source": [
    "mart <- biomaRt::useMart(biomart=\"ensembl\", \n",
    "                     dataset = \"hsapiens_gene_ensembl\",\n",
    "                        host = \"https://useast.ensembl.org\")"
   ]
  },
  {
   "cell_type": "code",
   "execution_count": null,
   "id": "09a5d947-397f-46de-a8e6-88658fb08d32",
   "metadata": {},
   "outputs": [],
   "source": [
    "ttg <- biomaRt::getBM(\n",
    "  attributes = c(\"ensembl_transcript_id\", \"transcript_version\",\n",
    "  \"ensembl_gene_id\", \"external_gene_name\", \"description\",\n",
    "  \"transcript_biotype\"),\n",
    "  mart = mart)\n"
   ]
  },
  {
   "cell_type": "code",
   "execution_count": null,
   "id": "7386de62-67da-4ca9-a0d4-d5d7ad831a05",
   "metadata": {},
   "outputs": [],
   "source": [
    "ttg <- dplyr::rename(ttg, target_id = ensembl_transcript_id,\n",
    "  ens_gene = ensembl_gene_id, ext_gene = external_gene_name)\n"
   ]
  },
  {
   "cell_type": "code",
   "execution_count": null,
   "id": "0521385a-1bd1-402f-a9b0-53b52a1a4aae",
   "metadata": {},
   "outputs": [],
   "source": [
    "ttg <- dplyr::select(ttg, c('target_id', 'ens_gene', 'ext_gene'))\n",
    "head(ttg)"
   ]
  },
  {
   "cell_type": "markdown",
   "id": "6ad386e6-6c48-4e78-94f2-dc2b76581643",
   "metadata": {},
   "source": [
    "The resulting table contains Ensembl gene names (‘ens_gene’) and the associated transcripts (‘target_id’). Note that the gene-transcript mapping must be compatible with the transcriptome used with kallisto. In other words, to use Ensembl transcript-gene associations kallisto was run using the Ensembl transcriptome.\n",
    "\n",
    "#### Preparing the analysis\n",
    "\n",
    "The next step is to build a sleuth object. The sleuth object contains specification of the experimental design, a map describing grouping of transcripts into genes (or other groups), and a number of user specific parameters. In the example that follows, metadata is the experimental design and target_mapping describes the transcript groupings into genes previously constructed. Furthermore, we provide an aggregation_column, the column name of in ‘target_mapping’ table that is used to aggregate the transcripts. When both ‘target_mapping’ and ‘aggregation_column’ are provided, sleuth will automatically run in gene mode, returning gene differential expression results that came from the aggregation of transcript p-values.\n"
   ]
  },
  {
   "cell_type": "markdown",
   "id": "11c20432-066b-4499-add6-71ea21f8fcf7",
   "metadata": {},
   "source": [
    "#### Model (Design) Matrix Required\n",
    "We need to supply a model matrix -- and Sleuth implicitly uses DESeq2\n",
    "\n",
    "[How to use DESeq2](https://www.bioconductor.org/packages/release/bioc/vignettes/DESeq2/inst/doc/DESeq2.html)\n",
    "\n",
    "We have the following to compare condition effects of gender (Male, Female) with Disease type(TAM, DS-AML) in our cases.\n",
    "\n",
    "We have two groups (Male, Female) and two conditions (TAM, DS-AML)"
   ]
  },
  {
   "cell_type": "code",
   "execution_count": null,
   "id": "0d5e229a-213b-4b33-93f7-f6339b5fbafb",
   "metadata": {},
   "outputs": [],
   "source": [
    "group <- factor(metadata$Gender)\n",
    "group"
   ]
  },
  {
   "cell_type": "code",
   "execution_count": null,
   "id": "31d9e6f1-af6d-47be-8b30-16a56c3cb5f6",
   "metadata": {},
   "outputs": [],
   "source": [
    "condition <- factor(metadata$Disease.type)\n",
    "condition"
   ]
  },
  {
   "cell_type": "code",
   "execution_count": null,
   "id": "31e11dd7-998d-46b0-aca7-16011214d33b",
   "metadata": {},
   "outputs": [],
   "source": [
    "full_model <- model.matrix(~group + condition + group:condition)\n",
    "full_model"
   ]
  },
  {
   "cell_type": "code",
   "execution_count": null,
   "id": "839a88a3-6c2f-457f-8b46-8a577f42de61",
   "metadata": {},
   "outputs": [],
   "source": [
    "sample_to_covariates = metadata\n",
    "target_mapping = ttg\n",
    "aggregation_column = \"ens_gene\"\n",
    "gene_mode = TRUE\n",
    "extra_bootstrap_summary = TRUE\n",
    "read_bootstrap_tpm = TRUE\n",
    "full_model = full_model\n",
    "normalize = TRUE"
   ]
  },
  {
   "cell_type": "code",
   "execution_count": null,
   "id": "c5946281-e3e5-4868-ba3f-7a06e83bd4f1",
   "metadata": {},
   "outputs": [],
   "source": [
    "extra_opts <- list(gene_mode, extra_bootstrap_summary, read_bootstrap_tpm, full_model, normalize)\n",
    "names(extra_opts) <- c(\"gene_mode\",\n",
    "                       \"extra_bootstrap_summary\", \n",
    "                       \"read_bootstrap_tpm\", \n",
    "                       \"full_model\",\n",
    "                       \"normalize\")\n",
    "  if (\"extra_bootstrap_summary\" %in% names(extra_opts)) {\n",
    "    extra_bootstrap_summary <- extra_opts$extra_bootstrap_summary\n",
    "  } else {\n",
    "    extra_bootstrap_summary <- FALSE\n",
    "  }\n",
    "  if (\"read_bootstrap_tpm\" %in% names(extra_opts)) {\n",
    "    read_bootstrap_tpm <- extra_opts$read_bootstrap_tpm\n",
    "  } else {\n",
    "    read_bootstrap_tpm <- FALSE\n",
    "  }\n",
    "  if (\"max_bootstrap\" %in% names(extra_opts)) {\n",
    "    max_bootstrap <- extra_opts$max_bootstrap\n",
    "  } else {\n",
    "    max_bootstrap <- NULL\n",
    "  }\n"
   ]
  },
  {
   "cell_type": "code",
   "execution_count": null,
   "id": "63eaaa55-a668-4ef6-911b-788472fd7e93",
   "metadata": {},
   "outputs": [],
   "source": [
    "extra_bootstrap_summary\n",
    "read_bootstrap_tpm\n",
    "max_bootstrap"
   ]
  },
  {
   "cell_type": "code",
   "execution_count": null,
   "id": "ae46d60c-45f5-4cd2-8e48-c561bcab177e",
   "metadata": {},
   "outputs": [],
   "source": [
    "names(extra_opts)"
   ]
  },
  {
   "cell_type": "code",
   "execution_count": null,
   "id": "2f090924-7335-4626-9bd0-a9e3d46db878",
   "metadata": {},
   "outputs": [],
   "source": [
    "so <- sleuth_prep(sample_to_covariates    = metadata, \n",
    "                  target_mapping          = ttg, \n",
    "                  aggregation_column      = 'ens_gene',\n",
    "                  gene_mode               = TRUE,\n",
    "                  extra_bootstrap_summary = TRUE,\n",
    "                  read_bootstrap_tpm      = TRUE,\n",
    "                  full_model              = full_model,\n",
    "                  normalize               = TRUE)\n"
   ]
  },
  {
   "cell_type": "markdown",
   "id": "936b2528-36a5-47da-a298-efab33f94241",
   "metadata": {},
   "source": [
    " \n",
    "\n"
   ]
  },
  {
   "cell_type": "code",
   "execution_count": null,
   "id": "4442bf52-6431-47e9-877f-7987ad4055b0",
   "metadata": {},
   "outputs": [],
   "source": [
    "ttg.df <- data.frame (ttg)"
   ]
  },
  {
   "cell_type": "code",
   "execution_count": null,
   "id": "dfc64998-e3ff-4295-9cd7-21121236ef12",
   "metadata": {},
   "outputs": [],
   "source": [
    "  sample_to_covariates <- as.data.frame(sample_to_covariates)\n",
    "  sample_to_covariates$sample <- as.character(sample_to_covariates$sample)\n"
   ]
  },
  {
   "cell_type": "code",
   "execution_count": null,
   "id": "d0bb6456-3a3c-4f4e-a29a-e9daddacf867",
   "metadata": {},
   "outputs": [],
   "source": [
    "nrow(sample_to_covariates)"
   ]
  }
 ],
 "metadata": {
  "kernelspec": {
   "display_name": "R",
   "language": "R",
   "name": "ir"
  },
  "language_info": {
   "codemirror_mode": "r",
   "file_extension": ".r",
   "mimetype": "text/x-r-source",
   "name": "R",
   "pygments_lexer": "r",
   "version": "4.1.1"
  }
 },
 "nbformat": 4,
 "nbformat_minor": 5
}
