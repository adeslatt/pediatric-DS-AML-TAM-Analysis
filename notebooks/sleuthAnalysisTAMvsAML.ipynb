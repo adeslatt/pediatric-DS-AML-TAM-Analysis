{
 "cells": [
  {
   "cell_type": "markdown",
   "id": "7d99a304-3ff3-4b4a-a09b-7fcaf6210cb4",
   "metadata": {},
   "source": [
    "# Pediatric DS AML vs TAM\n",
    "\n",
    "Sleuth Analysis with Kallisto Quantitation Input\n",
    "\n",
    "## Following the Pachterlab walkthrough\n",
    "[Using p-value aggregation to obtain gene differential expression in datasets with multiple experimental conditions](\n",
    "https://pachterlab.github.io/sleuth_walkthroughs/pval_agg/analysis.html)\n",
    "\n",
    "\n"
   ]
  },
  {
   "cell_type": "code",
   "execution_count": null,
   "id": "0a43a9e1-7ce6-4b68-860b-5e3e1876ab3a",
   "metadata": {},
   "outputs": [],
   "source": []
  },
  {
   "cell_type": "markdown",
   "id": "f2add618-2b11-4fea-b3a6-e4e95283214e",
   "metadata": {},
   "source": [
    "### Introduction\n",
    "\n",
    "Applying the same techniques used in the walk through - apply it to our own AML vs TAM\n",
    "\n",
    "We need to set up our working directory.\n",
    "And we need \n",
    "\n",
    "* `cowplot` - for making prettier plots and plots with grids.  and \n",
    "* `biomaRt` - for extracting the Ensembl transcript to gene mapping\n",
    "\n"
   ]
  },
  {
   "cell_type": "code",
   "execution_count": 2,
   "id": "372b4a8b-3399-4b1d-b2e5-e2ef2052c5d2",
   "metadata": {},
   "outputs": [
    {
     "name": "stderr",
     "output_type": "stream",
     "text": [
      "Updating HTML index of packages in '.Library'\n",
      "\n",
      "Making 'packages.html' ...\n",
      " done\n",
      "\n"
     ]
    }
   ],
   "source": [
    "install.packages(\"cowplot\")"
   ]
  },
  {
   "cell_type": "code",
   "execution_count": 3,
   "id": "bd5ec43c-d2ca-4c5d-ad4d-97b380371461",
   "metadata": {},
   "outputs": [],
   "source": [
    "library (cowplot)"
   ]
  },
  {
   "cell_type": "code",
   "execution_count": 6,
   "id": "ebb7aaff-ac4d-4698-b2ad-aba26e03419c",
   "metadata": {},
   "outputs": [
    {
     "name": "stderr",
     "output_type": "stream",
     "text": [
      "Bioconductor version '3.14' is out-of-date; the current release version '3.15'\n",
      "  is available with R version '4.2'; see https://bioconductor.org/install\n",
      "\n",
      "'getOption(\"repos\")' replaces Bioconductor standard repositories, see\n",
      "'?repositories' for details\n",
      "\n",
      "replacement repositories:\n",
      "    CRAN: https://cran.r-project.org\n",
      "\n",
      "\n",
      "Bioconductor version 3.14 (BiocManager 1.30.18), R 4.1.1 (2021-08-10)\n",
      "\n",
      "Installing package(s) 'BiocVersion'\n",
      "\n",
      "Updating HTML index of packages in '.Library'\n",
      "\n",
      "Making 'packages.html' ...\n",
      " done\n",
      "\n",
      "Old packages: 'backports', 'BiocGenerics', 'blob', 'brew', 'brio', 'broom',\n",
      "  'bslib', 'callr', 'caret', 'class', 'cli', 'clipr', 'colorspace',\n",
      "  'commonmark', 'conflicted', 'covr', 'cpp11', 'crayon', 'credentials',\n",
      "  'crosstalk', 'curl', 'data.table', 'DBI', 'dbplyr', 'desc', 'devtools',\n",
      "  'dials', 'diffobj', 'digest', 'dplyr', 'DT', 'dtplyr', 'e1071', 'evaluate',\n",
      "  'fansi', 'farver', 'forcats', 'foreach', 'forecast', 'fs', 'furrr', 'future',\n",
      "  'future.apply', 'gargle', 'generics', 'gert', 'ggplot2', 'gh', 'git2r',\n",
      "  'gitcreds', 'globals', 'glue', 'googlesheets4', 'gower', 'gtable', 'hardhat',\n",
      "  'haven', 'hms', 'htmltools', 'httpuv', 'httr', 'infer', 'ipred', 'IRdisplay',\n",
      "  'IRkernel', 'isoband', 'iterators', 'jsonlite', 'knitr', 'later', 'lattice',\n",
      "  'lhs', 'lifecycle', 'lmtest', 'lubridate', 'magrittr', 'MASS', 'Matrix',\n",
      "  'memoise', 'mgcv', 'mime', 'modeldata', 'modelr', 'nlme', 'nnet',\n",
      "  'objectProperties', 'objectSignals', 'openssl', 'parallelly', 'parsnip',\n",
      "  'patchwork', 'pbdZMQ', 'pillar', 'pkgbuild', 'pkgload', 'plyr', 'processx',\n",
      "  'progressr', 'proxy', 'ps', 'purrr', 'quantmod', 'randomForest', 'rcmdcheck',\n",
      "  'RColorBrewer', 'Rcpp', 'RcppArmadillo', 'RCurl', 'readr', 'readxl',\n",
      "  'recipes', 'remotes', 'repr', 'reprex', 'rex', 'rlang', 'rmarkdown', 'RODBC',\n",
      "  'roxygen2', 'rpart', 'rprojroot', 'rsample', 'RSQLite', 'rstudioapi',\n",
      "  'rversions', 'rvest', 'S4Vectors', 'sass', 'scales', 'sessioninfo',\n",
      "  'sevenbridges', 'shiny', 'stringi', 'stringr', 'survival', 'testthat',\n",
      "  'tibble', 'tidymodels', 'tidyr', 'tidyselect', 'tidyverse', 'timeDate',\n",
      "  'tinytex', 'tseries', 'TTR', 'tune', 'tzdb', 'urca', 'usethis', 'uuid',\n",
      "  'vctrs', 'viridisLite', 'vroom', 'waldo', 'withr', 'workflows',\n",
      "  'workflowsets', 'xfun', 'xml2', 'xts', 'yaml', 'yardstick', 'zip', 'zoo'\n",
      "\n"
     ]
    }
   ],
   "source": [
    "if (!require(\"BiocManager\", quietly = TRUE))\n",
    "    install.packages(\"BiocManager\")\n",
    "BiocManager::install(version = \"3.14\")"
   ]
  },
  {
   "cell_type": "code",
   "execution_count": 7,
   "id": "a430a324-b6b5-4255-81eb-b15734e115bd",
   "metadata": {},
   "outputs": [
    {
     "name": "stderr",
     "output_type": "stream",
     "text": [
      "'getOption(\"repos\")' replaces Bioconductor standard repositories, see\n",
      "'?repositories' for details\n",
      "\n",
      "replacement repositories:\n",
      "    CRAN: https://cran.r-project.org\n",
      "\n",
      "\n",
      "Bioconductor version 3.14 (BiocManager 1.30.18), R 4.1.1 (2021-08-10)\n",
      "\n",
      "Installing package(s) 'biomaRt'\n",
      "\n",
      "also installing the dependencies ‘zlibbioc’, ‘GenomeInfoDbData’, ‘XVector’, ‘GenomeInfoDb’, ‘BiocGenerics’, ‘png’, ‘Biostrings’, ‘Biobase’, ‘IRanges’, ‘KEGGREST’, ‘filelock’, ‘XML’, ‘AnnotationDbi’, ‘BiocFileCache’\n",
      "\n",
      "\n",
      "Updating HTML index of packages in '.Library'\n",
      "\n",
      "Making 'packages.html' ...\n",
      " done\n",
      "\n",
      "Old packages: 'backports', 'blob', 'brew', 'brio', 'broom', 'bslib', 'callr',\n",
      "  'caret', 'class', 'cli', 'clipr', 'colorspace', 'commonmark', 'conflicted',\n",
      "  'covr', 'cpp11', 'crayon', 'credentials', 'crosstalk', 'curl', 'data.table',\n",
      "  'DBI', 'dbplyr', 'desc', 'devtools', 'dials', 'diffobj', 'digest', 'dplyr',\n",
      "  'DT', 'dtplyr', 'e1071', 'evaluate', 'fansi', 'farver', 'forcats', 'foreach',\n",
      "  'forecast', 'fs', 'furrr', 'future', 'future.apply', 'gargle', 'generics',\n",
      "  'gert', 'ggplot2', 'gh', 'git2r', 'gitcreds', 'globals', 'glue',\n",
      "  'googlesheets4', 'gower', 'gtable', 'hardhat', 'haven', 'hms', 'htmltools',\n",
      "  'httpuv', 'httr', 'infer', 'ipred', 'IRdisplay', 'IRkernel', 'isoband',\n",
      "  'iterators', 'jsonlite', 'knitr', 'later', 'lattice', 'lhs', 'lifecycle',\n",
      "  'lmtest', 'lubridate', 'magrittr', 'MASS', 'Matrix', 'memoise', 'mgcv',\n",
      "  'mime', 'modeldata', 'modelr', 'nlme', 'nnet', 'objectProperties',\n",
      "  'objectSignals', 'openssl', 'parallelly', 'parsnip', 'patchwork', 'pbdZMQ',\n",
      "  'pillar', 'pkgbuild', 'pkgload', 'plyr', 'processx', 'progressr', 'proxy',\n",
      "  'ps', 'purrr', 'quantmod', 'randomForest', 'rcmdcheck', 'RColorBrewer',\n",
      "  'Rcpp', 'RcppArmadillo', 'RCurl', 'readr', 'readxl', 'recipes', 'remotes',\n",
      "  'repr', 'reprex', 'rex', 'rlang', 'rmarkdown', 'RODBC', 'roxygen2', 'rpart',\n",
      "  'rprojroot', 'rsample', 'RSQLite', 'rstudioapi', 'rversions', 'rvest',\n",
      "  'S4Vectors', 'sass', 'scales', 'sessioninfo', 'sevenbridges', 'shiny',\n",
      "  'stringi', 'stringr', 'survival', 'testthat', 'tibble', 'tidymodels',\n",
      "  'tidyr', 'tidyselect', 'tidyverse', 'timeDate', 'tinytex', 'tseries', 'TTR',\n",
      "  'tune', 'tzdb', 'urca', 'usethis', 'uuid', 'vctrs', 'viridisLite', 'vroom',\n",
      "  'waldo', 'withr', 'workflows', 'workflowsets', 'xfun', 'xml2', 'xts', 'yaml',\n",
      "  'yardstick', 'zip', 'zoo'\n",
      "\n"
     ]
    }
   ],
   "source": [
    "BiocManager::install(\"biomaRt\")"
   ]
  }
 ],
 "metadata": {
  "kernelspec": {
   "display_name": "R",
   "language": "R",
   "name": "ir"
  },
  "language_info": {
   "codemirror_mode": "r",
   "file_extension": ".r",
   "mimetype": "text/x-r-source",
   "name": "R",
   "pygments_lexer": "r",
   "version": "4.1.1"
  }
 },
 "nbformat": 4,
 "nbformat_minor": 5
}
