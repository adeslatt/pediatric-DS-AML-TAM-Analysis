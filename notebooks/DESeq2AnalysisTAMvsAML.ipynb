{
 "cells": [
  {
   "cell_type": "markdown",
   "id": "97f9ac63-1c15-481c-af9a-ba032429149d",
   "metadata": {},
   "source": [
    "# Pediatric DS AML vs TAM\n",
    "\n",
    "DESeq2 Analysis with Kallisto Quantitation Input\n",
    "\n",
    "## Following the Instructions from BioConductor DESeq2 \n",
    "[Transcript abundance to DESeq2 Analysis](https://bioconductor.org/packages/release/bioc/vignettes/DESeq2/inst/doc/DESeq2.html#quick-start)\n",
    "\n"
   ]
  },
  {
   "cell_type": "markdown",
   "id": "7ac92837-8970-4820-8557-342a4993df84",
   "metadata": {
    "tags": []
   },
   "source": [
    "### Transcript abundance files and tximport / tximeta\n",
    "\n",
    "Our recommended pipeline for DESeq2 is to use fast transcript abundance quantifiers upstream of DESeq2, and then to create gene-level count matrices for use with DESeq2 by importing the quantification data using tximport (Soneson, Love, and Robinson 2015). This workflow allows users to import transcript abundance estimates from a variety of external software, including the following methods:\n",
    "\n",
    "* [Salmon](http://combine-lab.github.io/salmon/) (Patro et al. 2017)\n",
    "* [Sailfish](http://www.cs.cmu.edu/~ckingsf/software/sailfish/) (Patro, Mount, and Kingsford 2014)\n",
    "* [kallisto](https://pachterlab.github.io/kallisto/about.html) (Bray et al. 2016)\n",
    "* [RSEM](http://deweylab.github.io/RSEM/) (Li and Dewey 2011)\n",
    "\n",
    "Some advantages of using the above methods for transcript abundance estimation are: \n",
    "* (i) this approach corrects for potential changes in gene length across samples (e.g. from differential isoform usage) (Trapnell et al. 2013), \n",
    "* (ii) some of these methods (Salmon, Sailfish, kallisto) are substantially faster and require less memory and disk usage compared to alignment-based methods that require creation and storage of BAM files, and \n",
    "* (iii) it is possible to avoid discarding those fragments that can align to multiple genes with homologous sequence, thus increasing sensitivity (Robert and Watson 2015).\n",
    "\n",
    "Full details on the motivation and methods for importing transcript level abundance and count estimates, summarizing to gene-level count matrices and producing an offset which corrects for potential changes in average transcript length across samples are described in (Soneson, Love, and Robinson 2015). Note that the tximport-to-DESeq2 approach uses estimated gene counts from the transcript abundance quantifiers, but not normalized counts."
   ]
  },
  {
   "cell_type": "code",
   "execution_count": 1,
   "id": "f50203a6-0b7e-4e70-8bd1-39ca8cad55c5",
   "metadata": {},
   "outputs": [
    {
     "name": "stderr",
     "output_type": "stream",
     "text": [
      "also installing the dependencies ‘cli’, ‘vroom’\n",
      "\n",
      "\n",
      "Updating HTML index of packages in '.Library'\n",
      "\n",
      "Making 'packages.html' ...\n",
      " done\n",
      "\n"
     ]
    }
   ],
   "source": [
    "install.packages(\"readr\")\n",
    "library(\"readr\")"
   ]
  },
  {
   "cell_type": "code",
   "execution_count": 2,
   "id": "6a8330eb-745a-41f7-8924-843fb9bf8ec2",
   "metadata": {},
   "outputs": [
    {
     "name": "stderr",
     "output_type": "stream",
     "text": [
      "Updating HTML index of packages in '.Library'\n",
      "\n",
      "Making 'packages.html' ...\n",
      " done\n",
      "\n",
      "'getOption(\"repos\")' replaces Bioconductor standard repositories, see\n",
      "'?repositories' for details\n",
      "\n",
      "replacement repositories:\n",
      "    CRAN: https://cran.r-project.org\n",
      "\n",
      "\n",
      "Bioconductor version 3.14 (BiocManager 1.30.18), R 4.1.1 (2021-08-10)\n",
      "\n",
      "Installing package(s) 'BiocVersion'\n",
      "\n",
      "Updating HTML index of packages in '.Library'\n",
      "\n",
      "Making 'packages.html' ...\n",
      " done\n",
      "\n",
      "Old packages: 'backports', 'BiocGenerics', 'blob', 'brew', 'brio', 'broom',\n",
      "  'bslib', 'callr', 'caret', 'class', 'clipr', 'colorspace', 'commonmark',\n",
      "  'conflicted', 'covr', 'cpp11', 'crayon', 'credentials', 'crosstalk', 'curl',\n",
      "  'data.table', 'DBI', 'dbplyr', 'desc', 'devtools', 'dials', 'diffobj',\n",
      "  'digest', 'dplyr', 'DT', 'dtplyr', 'e1071', 'evaluate', 'fansi', 'farver',\n",
      "  'forcats', 'foreach', 'forecast', 'fs', 'furrr', 'future', 'future.apply',\n",
      "  'gargle', 'generics', 'gert', 'ggplot2', 'gh', 'git2r', 'gitcreds',\n",
      "  'globals', 'glue', 'googlesheets4', 'gower', 'gtable', 'hardhat', 'haven',\n",
      "  'hms', 'htmltools', 'httpuv', 'httr', 'infer', 'ipred', 'IRdisplay',\n",
      "  'IRkernel', 'isoband', 'iterators', 'jsonlite', 'knitr', 'later', 'lattice',\n",
      "  'lhs', 'lifecycle', 'lmtest', 'lubridate', 'magrittr', 'markdown', 'MASS',\n",
      "  'Matrix', 'memoise', 'mgcv', 'mime', 'modeldata', 'modelr', 'nlme', 'nnet',\n",
      "  'objectProperties', 'objectSignals', 'openssl', 'parallelly', 'parsnip',\n",
      "  'patchwork', 'pbdZMQ', 'pillar', 'pkgbuild', 'pkgload', 'plyr', 'processx',\n",
      "  'progressr', 'proxy', 'ps', 'purrr', 'quantmod', 'randomForest', 'rcmdcheck',\n",
      "  'RColorBrewer', 'Rcpp', 'RcppArmadillo', 'RCurl', 'readxl', 'recipes',\n",
      "  'remotes', 'repr', 'reprex', 'rex', 'rlang', 'rmarkdown', 'RODBC',\n",
      "  'roxygen2', 'rpart', 'rprojroot', 'rsample', 'RSQLite', 'rstudioapi',\n",
      "  'rversions', 'rvest', 'S4Vectors', 'sass', 'scales', 'sessioninfo',\n",
      "  'sevenbridges', 'shiny', 'stringi', 'stringr', 'survival', 'sys', 'testthat',\n",
      "  'tibble', 'tidymodels', 'tidyr', 'tidyselect', 'tidyverse', 'timeDate',\n",
      "  'tinytex', 'tseries', 'TTR', 'tune', 'tzdb', 'urca', 'usethis', 'uuid',\n",
      "  'vctrs', 'viridisLite', 'waldo', 'withr', 'workflows', 'workflowsets',\n",
      "  'xfun', 'xml2', 'xts', 'yaml', 'yardstick', 'zip', 'zoo'\n",
      "\n"
     ]
    }
   ],
   "source": [
    "if (!require(\"BiocManager\", quietly = TRUE))\n",
    "    install.packages(\"BiocManager\")\n",
    "BiocManager::install(version = \"3.14\")"
   ]
  },
  {
   "cell_type": "code",
   "execution_count": 3,
   "id": "5d288d00-c591-4fab-8261-37fe14b883c6",
   "metadata": {},
   "outputs": [
    {
     "name": "stderr",
     "output_type": "stream",
     "text": [
      "'getOption(\"repos\")' replaces Bioconductor standard repositories, see\n",
      "'?repositories' for details\n",
      "\n",
      "replacement repositories:\n",
      "    CRAN: https://cran.r-project.org\n",
      "\n",
      "\n",
      "Bioconductor version 3.14 (BiocManager 1.30.18), R 4.1.1 (2021-08-10)\n",
      "\n",
      "Installing package(s) 'tximport'\n",
      "\n",
      "Updating HTML index of packages in '.Library'\n",
      "\n",
      "Making 'packages.html' ...\n",
      " done\n",
      "\n",
      "Old packages: 'backports', 'BiocGenerics', 'blob', 'brew', 'brio', 'broom',\n",
      "  'bslib', 'callr', 'caret', 'class', 'clipr', 'colorspace', 'commonmark',\n",
      "  'conflicted', 'covr', 'cpp11', 'crayon', 'credentials', 'crosstalk', 'curl',\n",
      "  'data.table', 'DBI', 'dbplyr', 'desc', 'devtools', 'dials', 'diffobj',\n",
      "  'digest', 'dplyr', 'DT', 'dtplyr', 'e1071', 'evaluate', 'fansi', 'farver',\n",
      "  'forcats', 'foreach', 'forecast', 'fs', 'furrr', 'future', 'future.apply',\n",
      "  'gargle', 'generics', 'gert', 'ggplot2', 'gh', 'git2r', 'gitcreds',\n",
      "  'globals', 'glue', 'googlesheets4', 'gower', 'gtable', 'hardhat', 'haven',\n",
      "  'hms', 'htmltools', 'httpuv', 'httr', 'infer', 'ipred', 'IRdisplay',\n",
      "  'IRkernel', 'isoband', 'iterators', 'jsonlite', 'knitr', 'later', 'lattice',\n",
      "  'lhs', 'lifecycle', 'lmtest', 'lubridate', 'magrittr', 'markdown', 'MASS',\n",
      "  'Matrix', 'memoise', 'mgcv', 'mime', 'modeldata', 'modelr', 'nlme', 'nnet',\n",
      "  'objectProperties', 'objectSignals', 'openssl', 'parallelly', 'parsnip',\n",
      "  'patchwork', 'pbdZMQ', 'pillar', 'pkgbuild', 'pkgload', 'plyr', 'processx',\n",
      "  'progressr', 'proxy', 'ps', 'purrr', 'quantmod', 'randomForest', 'rcmdcheck',\n",
      "  'RColorBrewer', 'Rcpp', 'RcppArmadillo', 'RCurl', 'readxl', 'recipes',\n",
      "  'remotes', 'repr', 'reprex', 'rex', 'rlang', 'rmarkdown', 'RODBC',\n",
      "  'roxygen2', 'rpart', 'rprojroot', 'rsample', 'RSQLite', 'rstudioapi',\n",
      "  'rversions', 'rvest', 'S4Vectors', 'sass', 'scales', 'sessioninfo',\n",
      "  'sevenbridges', 'shiny', 'stringi', 'stringr', 'survival', 'sys', 'testthat',\n",
      "  'tibble', 'tidymodels', 'tidyr', 'tidyselect', 'tidyverse', 'timeDate',\n",
      "  'tinytex', 'tseries', 'TTR', 'tune', 'tzdb', 'urca', 'usethis', 'uuid',\n",
      "  'vctrs', 'viridisLite', 'waldo', 'withr', 'workflows', 'workflowsets',\n",
      "  'xfun', 'xml2', 'xts', 'yaml', 'yardstick', 'zip', 'zoo'\n",
      "\n"
     ]
    }
   ],
   "source": [
    "BiocManager::install(\"tximport\")\n",
    "library(tximport)"
   ]
  },
  {
   "cell_type": "code",
   "execution_count": 4,
   "id": "558b915a-1a77-450b-ac5c-f607a3c31dd2",
   "metadata": {},
   "outputs": [
    {
     "name": "stderr",
     "output_type": "stream",
     "text": [
      "'getOption(\"repos\")' replaces Bioconductor standard repositories, see\n",
      "'?repositories' for details\n",
      "\n",
      "replacement repositories:\n",
      "    CRAN: https://cran.r-project.org\n",
      "\n",
      "\n",
      "Bioconductor version 3.14 (BiocManager 1.30.18), R 4.1.1 (2021-08-10)\n",
      "\n",
      "Installing package(s) 'biomaRt'\n",
      "\n",
      "also installing the dependencies ‘zlibbioc’, ‘GenomeInfoDbData’, ‘XVector’, ‘GenomeInfoDb’, ‘BiocGenerics’, ‘png’, ‘Biostrings’, ‘Biobase’, ‘IRanges’, ‘KEGGREST’, ‘filelock’, ‘XML’, ‘AnnotationDbi’, ‘BiocFileCache’\n",
      "\n",
      "\n",
      "Updating HTML index of packages in '.Library'\n",
      "\n",
      "Making 'packages.html' ...\n",
      " done\n",
      "\n",
      "Old packages: 'backports', 'blob', 'brew', 'brio', 'broom', 'bslib', 'callr',\n",
      "  'caret', 'class', 'clipr', 'colorspace', 'commonmark', 'conflicted', 'covr',\n",
      "  'cpp11', 'crayon', 'credentials', 'crosstalk', 'curl', 'data.table', 'DBI',\n",
      "  'dbplyr', 'desc', 'devtools', 'dials', 'diffobj', 'digest', 'dplyr', 'DT',\n",
      "  'dtplyr', 'e1071', 'evaluate', 'fansi', 'farver', 'forcats', 'foreach',\n",
      "  'forecast', 'fs', 'furrr', 'future', 'future.apply', 'gargle', 'generics',\n",
      "  'gert', 'ggplot2', 'gh', 'git2r', 'gitcreds', 'globals', 'glue',\n",
      "  'googlesheets4', 'gower', 'gtable', 'hardhat', 'haven', 'hms', 'htmltools',\n",
      "  'httpuv', 'httr', 'infer', 'ipred', 'IRdisplay', 'IRkernel', 'isoband',\n",
      "  'iterators', 'jsonlite', 'knitr', 'later', 'lattice', 'lhs', 'lifecycle',\n",
      "  'lmtest', 'lubridate', 'magrittr', 'markdown', 'MASS', 'Matrix', 'memoise',\n",
      "  'mgcv', 'mime', 'modeldata', 'modelr', 'nlme', 'nnet', 'objectProperties',\n",
      "  'objectSignals', 'openssl', 'parallelly', 'parsnip', 'patchwork', 'pbdZMQ',\n",
      "  'pillar', 'pkgbuild', 'pkgload', 'plyr', 'processx', 'progressr', 'proxy',\n",
      "  'ps', 'purrr', 'quantmod', 'randomForest', 'rcmdcheck', 'RColorBrewer',\n",
      "  'Rcpp', 'RcppArmadillo', 'RCurl', 'readxl', 'recipes', 'remotes', 'repr',\n",
      "  'reprex', 'rex', 'rlang', 'rmarkdown', 'RODBC', 'roxygen2', 'rpart',\n",
      "  'rprojroot', 'rsample', 'RSQLite', 'rstudioapi', 'rversions', 'rvest',\n",
      "  'S4Vectors', 'sass', 'scales', 'sessioninfo', 'sevenbridges', 'shiny',\n",
      "  'stringi', 'stringr', 'survival', 'sys', 'testthat', 'tibble', 'tidymodels',\n",
      "  'tidyr', 'tidyselect', 'tidyverse', 'timeDate', 'tinytex', 'tseries', 'TTR',\n",
      "  'tune', 'tzdb', 'urca', 'usethis', 'uuid', 'vctrs', 'viridisLite', 'waldo',\n",
      "  'withr', 'workflows', 'workflowsets', 'xfun', 'xml2', 'xts', 'yaml',\n",
      "  'yardstick', 'zip', 'zoo'\n",
      "\n"
     ]
    }
   ],
   "source": [
    "BiocManager::install(\"biomaRt\")\n",
    "library(biomaRt)"
   ]
  },
  {
   "cell_type": "code",
   "execution_count": 5,
   "id": "3fac76df-e9c5-44d8-a1d0-21e2223ead65",
   "metadata": {},
   "outputs": [
    {
     "name": "stderr",
     "output_type": "stream",
     "text": [
      "'getOption(\"repos\")' replaces Bioconductor standard repositories, see\n",
      "'?repositories' for details\n",
      "\n",
      "replacement repositories:\n",
      "    CRAN: https://cran.r-project.org\n",
      "\n",
      "\n",
      "Bioconductor version 3.14 (BiocManager 1.30.18), R 4.1.1 (2021-08-10)\n",
      "\n",
      "Warning message:\n",
      "“package(s) not installed when version(s) same as current; use `force = TRUE` to\n",
      "  re-install: 'tximport'”\n",
      "Old packages: 'backports', 'blob', 'brew', 'brio', 'broom', 'bslib', 'callr',\n",
      "  'caret', 'class', 'clipr', 'colorspace', 'commonmark', 'conflicted', 'covr',\n",
      "  'cpp11', 'crayon', 'credentials', 'crosstalk', 'curl', 'data.table', 'DBI',\n",
      "  'dbplyr', 'desc', 'devtools', 'dials', 'diffobj', 'digest', 'dplyr', 'DT',\n",
      "  'dtplyr', 'e1071', 'evaluate', 'fansi', 'farver', 'forcats', 'foreach',\n",
      "  'forecast', 'fs', 'furrr', 'future', 'future.apply', 'gargle', 'generics',\n",
      "  'gert', 'ggplot2', 'gh', 'git2r', 'gitcreds', 'globals', 'glue',\n",
      "  'googlesheets4', 'gower', 'gtable', 'hardhat', 'haven', 'hms', 'htmltools',\n",
      "  'httpuv', 'httr', 'infer', 'ipred', 'IRdisplay', 'IRkernel', 'isoband',\n",
      "  'iterators', 'jsonlite', 'knitr', 'later', 'lattice', 'lhs', 'lifecycle',\n",
      "  'lmtest', 'lubridate', 'magrittr', 'markdown', 'MASS', 'Matrix', 'memoise',\n",
      "  'mgcv', 'mime', 'modeldata', 'modelr', 'nlme', 'nnet', 'objectProperties',\n",
      "  'objectSignals', 'openssl', 'parallelly', 'parsnip', 'patchwork', 'pbdZMQ',\n",
      "  'pillar', 'pkgbuild', 'pkgload', 'plyr', 'processx', 'progressr', 'proxy',\n",
      "  'ps', 'purrr', 'quantmod', 'randomForest', 'rcmdcheck', 'RColorBrewer',\n",
      "  'Rcpp', 'RcppArmadillo', 'RCurl', 'readxl', 'recipes', 'remotes', 'repr',\n",
      "  'reprex', 'rex', 'rlang', 'rmarkdown', 'RODBC', 'roxygen2', 'rpart',\n",
      "  'rprojroot', 'rsample', 'RSQLite', 'rstudioapi', 'rversions', 'rvest',\n",
      "  'S4Vectors', 'sass', 'scales', 'sessioninfo', 'sevenbridges', 'shiny',\n",
      "  'stringi', 'stringr', 'survival', 'sys', 'testthat', 'tibble', 'tidymodels',\n",
      "  'tidyr', 'tidyselect', 'tidyverse', 'timeDate', 'tinytex', 'tseries', 'TTR',\n",
      "  'tune', 'tzdb', 'urca', 'usethis', 'uuid', 'vctrs', 'viridisLite', 'waldo',\n",
      "  'withr', 'workflows', 'workflowsets', 'xfun', 'xml2', 'xts', 'yaml',\n",
      "  'yardstick', 'zip', 'zoo'\n",
      "\n"
     ]
    }
   ],
   "source": [
    "BiocManager::install(\"tximport\")\n",
    "library(tximport)"
   ]
  },
  {
   "cell_type": "code",
   "execution_count": 6,
   "id": "cbdc5edf-719c-4c6a-b832-e03d6bb0ea4a",
   "metadata": {},
   "outputs": [
    {
     "name": "stderr",
     "output_type": "stream",
     "text": [
      "'getOption(\"repos\")' replaces Bioconductor standard repositories, see\n",
      "'?repositories' for details\n",
      "\n",
      "replacement repositories:\n",
      "    CRAN: https://cran.r-project.org\n",
      "\n",
      "\n",
      "Bioconductor version 3.14 (BiocManager 1.30.18), R 4.1.1 (2021-08-10)\n",
      "\n",
      "Installing package(s) 'rhdf5'\n",
      "\n",
      "also installing the dependencies ‘Rhdf5lib’, ‘rhdf5filters’\n",
      "\n",
      "\n",
      "Updating HTML index of packages in '.Library'\n",
      "\n",
      "Making 'packages.html' ...\n",
      " done\n",
      "\n",
      "Old packages: 'backports', 'blob', 'brew', 'brio', 'broom', 'bslib', 'callr',\n",
      "  'caret', 'class', 'clipr', 'colorspace', 'commonmark', 'conflicted', 'covr',\n",
      "  'cpp11', 'crayon', 'credentials', 'crosstalk', 'curl', 'data.table', 'DBI',\n",
      "  'dbplyr', 'desc', 'devtools', 'dials', 'diffobj', 'digest', 'dplyr', 'DT',\n",
      "  'dtplyr', 'e1071', 'evaluate', 'fansi', 'farver', 'forcats', 'foreach',\n",
      "  'forecast', 'fs', 'furrr', 'future', 'future.apply', 'gargle', 'generics',\n",
      "  'gert', 'ggplot2', 'gh', 'git2r', 'gitcreds', 'globals', 'glue',\n",
      "  'googlesheets4', 'gower', 'gtable', 'hardhat', 'haven', 'hms', 'htmltools',\n",
      "  'httpuv', 'httr', 'infer', 'ipred', 'IRdisplay', 'IRkernel', 'isoband',\n",
      "  'iterators', 'jsonlite', 'knitr', 'later', 'lattice', 'lhs', 'lifecycle',\n",
      "  'lmtest', 'lubridate', 'magrittr', 'markdown', 'MASS', 'Matrix', 'memoise',\n",
      "  'mgcv', 'mime', 'modeldata', 'modelr', 'nlme', 'nnet', 'objectProperties',\n",
      "  'objectSignals', 'openssl', 'parallelly', 'parsnip', 'patchwork', 'pbdZMQ',\n",
      "  'pillar', 'pkgbuild', 'pkgload', 'plyr', 'processx', 'progressr', 'proxy',\n",
      "  'ps', 'purrr', 'quantmod', 'randomForest', 'rcmdcheck', 'RColorBrewer',\n",
      "  'Rcpp', 'RcppArmadillo', 'RCurl', 'readxl', 'recipes', 'remotes', 'repr',\n",
      "  'reprex', 'rex', 'rlang', 'rmarkdown', 'RODBC', 'roxygen2', 'rpart',\n",
      "  'rprojroot', 'rsample', 'RSQLite', 'rstudioapi', 'rversions', 'rvest',\n",
      "  'S4Vectors', 'sass', 'scales', 'sessioninfo', 'sevenbridges', 'shiny',\n",
      "  'stringi', 'stringr', 'survival', 'sys', 'testthat', 'tibble', 'tidymodels',\n",
      "  'tidyr', 'tidyselect', 'tidyverse', 'timeDate', 'tinytex', 'tseries', 'TTR',\n",
      "  'tune', 'tzdb', 'urca', 'usethis', 'uuid', 'vctrs', 'viridisLite', 'waldo',\n",
      "  'withr', 'workflows', 'workflowsets', 'xfun', 'xml2', 'xts', 'yaml',\n",
      "  'yardstick', 'zip', 'zoo'\n",
      "\n"
     ]
    }
   ],
   "source": [
    "BiocManager::install(\"rhdf5\")\n",
    "library(rhdf5)"
   ]
  },
  {
   "cell_type": "code",
   "execution_count": 7,
   "id": "29aad1f8-fc8e-41ca-b0be-13eeb8e96865",
   "metadata": {},
   "outputs": [],
   "source": [
    "mart <- biomaRt::useMart(biomart=\"ensembl\", \n",
    "                     dataset = \"hsapiens_gene_ensembl\",\n",
    "                        host = \"https://useast.ensembl.org\")"
   ]
  },
  {
   "cell_type": "code",
   "execution_count": 8,
   "id": "e546c36b-55e7-4a88-bf71-8eca88b0d25e",
   "metadata": {},
   "outputs": [],
   "source": [
    "ttg <- biomaRt::getBM(\n",
    "  attributes = c(\"ensembl_transcript_id\", \"transcript_version\",\n",
    "  \"ensembl_gene_id\", \"external_gene_name\", \"description\",\n",
    "  \"transcript_biotype\"),\n",
    "  mart = mart)\n"
   ]
  },
  {
   "cell_type": "code",
   "execution_count": 9,
   "id": "6f6cef45-9fac-4c8d-849a-7a969742de11",
   "metadata": {},
   "outputs": [],
   "source": [
    "ttg <- dplyr::rename(ttg, target_id = ensembl_transcript_id,\n",
    "  ens_gene = ensembl_gene_id, ext_gene = external_gene_name)\n"
   ]
  },
  {
   "cell_type": "code",
   "execution_count": 10,
   "id": "b024adbd-6e9a-4aeb-9f14-295402818f25",
   "metadata": {},
   "outputs": [
    {
     "data": {
      "text/html": [
       "<table class=\"dataframe\">\n",
       "<caption>A data.frame: 6 × 3</caption>\n",
       "<thead>\n",
       "\t<tr><th></th><th scope=col>target_id</th><th scope=col>ens_gene</th><th scope=col>ext_gene</th></tr>\n",
       "\t<tr><th></th><th scope=col>&lt;chr&gt;</th><th scope=col>&lt;chr&gt;</th><th scope=col>&lt;chr&gt;</th></tr>\n",
       "</thead>\n",
       "<tbody>\n",
       "\t<tr><th scope=row>1</th><td>ENST00000387314</td><td>ENSG00000210049</td><td>MT-TF  </td></tr>\n",
       "\t<tr><th scope=row>2</th><td>ENST00000389680</td><td>ENSG00000211459</td><td>MT-RNR1</td></tr>\n",
       "\t<tr><th scope=row>3</th><td>ENST00000387342</td><td>ENSG00000210077</td><td>MT-TV  </td></tr>\n",
       "\t<tr><th scope=row>4</th><td>ENST00000387347</td><td>ENSG00000210082</td><td>MT-RNR2</td></tr>\n",
       "\t<tr><th scope=row>5</th><td>ENST00000386347</td><td>ENSG00000209082</td><td>MT-TL1 </td></tr>\n",
       "\t<tr><th scope=row>6</th><td>ENST00000361390</td><td>ENSG00000198888</td><td>MT-ND1 </td></tr>\n",
       "</tbody>\n",
       "</table>\n"
      ],
      "text/latex": [
       "A data.frame: 6 × 3\n",
       "\\begin{tabular}{r|lll}\n",
       "  & target\\_id & ens\\_gene & ext\\_gene\\\\\n",
       "  & <chr> & <chr> & <chr>\\\\\n",
       "\\hline\n",
       "\t1 & ENST00000387314 & ENSG00000210049 & MT-TF  \\\\\n",
       "\t2 & ENST00000389680 & ENSG00000211459 & MT-RNR1\\\\\n",
       "\t3 & ENST00000387342 & ENSG00000210077 & MT-TV  \\\\\n",
       "\t4 & ENST00000387347 & ENSG00000210082 & MT-RNR2\\\\\n",
       "\t5 & ENST00000386347 & ENSG00000209082 & MT-TL1 \\\\\n",
       "\t6 & ENST00000361390 & ENSG00000198888 & MT-ND1 \\\\\n",
       "\\end{tabular}\n"
      ],
      "text/markdown": [
       "\n",
       "A data.frame: 6 × 3\n",
       "\n",
       "| <!--/--> | target_id &lt;chr&gt; | ens_gene &lt;chr&gt; | ext_gene &lt;chr&gt; |\n",
       "|---|---|---|---|\n",
       "| 1 | ENST00000387314 | ENSG00000210049 | MT-TF   |\n",
       "| 2 | ENST00000389680 | ENSG00000211459 | MT-RNR1 |\n",
       "| 3 | ENST00000387342 | ENSG00000210077 | MT-TV   |\n",
       "| 4 | ENST00000387347 | ENSG00000210082 | MT-RNR2 |\n",
       "| 5 | ENST00000386347 | ENSG00000209082 | MT-TL1  |\n",
       "| 6 | ENST00000361390 | ENSG00000198888 | MT-ND1  |\n",
       "\n"
      ],
      "text/plain": [
       "  target_id       ens_gene        ext_gene\n",
       "1 ENST00000387314 ENSG00000210049 MT-TF   \n",
       "2 ENST00000389680 ENSG00000211459 MT-RNR1 \n",
       "3 ENST00000387342 ENSG00000210077 MT-TV   \n",
       "4 ENST00000387347 ENSG00000210082 MT-RNR2 \n",
       "5 ENST00000386347 ENSG00000209082 MT-TL1  \n",
       "6 ENST00000361390 ENSG00000198888 MT-ND1  "
      ]
     },
     "metadata": {},
     "output_type": "display_data"
    },
    {
     "data": {
      "text/html": [
       "<table class=\"dataframe\">\n",
       "<caption>A data.frame: 6 × 2</caption>\n",
       "<thead>\n",
       "\t<tr><th></th><th scope=col>target_id</th><th scope=col>ext_gene</th></tr>\n",
       "\t<tr><th></th><th scope=col>&lt;chr&gt;</th><th scope=col>&lt;chr&gt;</th></tr>\n",
       "</thead>\n",
       "<tbody>\n",
       "\t<tr><th scope=row>1</th><td>ENST00000387314</td><td>MT-TF  </td></tr>\n",
       "\t<tr><th scope=row>2</th><td>ENST00000389680</td><td>MT-RNR1</td></tr>\n",
       "\t<tr><th scope=row>3</th><td>ENST00000387342</td><td>MT-TV  </td></tr>\n",
       "\t<tr><th scope=row>4</th><td>ENST00000387347</td><td>MT-RNR2</td></tr>\n",
       "\t<tr><th scope=row>5</th><td>ENST00000386347</td><td>MT-TL1 </td></tr>\n",
       "\t<tr><th scope=row>6</th><td>ENST00000361390</td><td>MT-ND1 </td></tr>\n",
       "</tbody>\n",
       "</table>\n"
      ],
      "text/latex": [
       "A data.frame: 6 × 2\n",
       "\\begin{tabular}{r|ll}\n",
       "  & target\\_id & ext\\_gene\\\\\n",
       "  & <chr> & <chr>\\\\\n",
       "\\hline\n",
       "\t1 & ENST00000387314 & MT-TF  \\\\\n",
       "\t2 & ENST00000389680 & MT-RNR1\\\\\n",
       "\t3 & ENST00000387342 & MT-TV  \\\\\n",
       "\t4 & ENST00000387347 & MT-RNR2\\\\\n",
       "\t5 & ENST00000386347 & MT-TL1 \\\\\n",
       "\t6 & ENST00000361390 & MT-ND1 \\\\\n",
       "\\end{tabular}\n"
      ],
      "text/markdown": [
       "\n",
       "A data.frame: 6 × 2\n",
       "\n",
       "| <!--/--> | target_id &lt;chr&gt; | ext_gene &lt;chr&gt; |\n",
       "|---|---|---|\n",
       "| 1 | ENST00000387314 | MT-TF   |\n",
       "| 2 | ENST00000389680 | MT-RNR1 |\n",
       "| 3 | ENST00000387342 | MT-TV   |\n",
       "| 4 | ENST00000387347 | MT-RNR2 |\n",
       "| 5 | ENST00000386347 | MT-TL1  |\n",
       "| 6 | ENST00000361390 | MT-ND1  |\n",
       "\n"
      ],
      "text/plain": [
       "  target_id       ext_gene\n",
       "1 ENST00000387314 MT-TF   \n",
       "2 ENST00000389680 MT-RNR1 \n",
       "3 ENST00000387342 MT-TV   \n",
       "4 ENST00000387347 MT-RNR2 \n",
       "5 ENST00000386347 MT-TL1  \n",
       "6 ENST00000361390 MT-ND1  "
      ]
     },
     "metadata": {},
     "output_type": "display_data"
    }
   ],
   "source": [
    "ttg <- dplyr::select(ttg, c('target_id', 'ens_gene', 'ext_gene'))\n",
    "head(ttg)\n",
    "tx2gene <- dplyr::select(ttg, c('target_id','ext_gene'))\n",
    "head(tx2gene)"
   ]
  },
  {
   "cell_type": "markdown",
   "id": "1e61cba9-f4c4-494e-9135-f3833af79e6c",
   "metadata": {},
   "source": [
    "### Read in Metadata\n",
    "Copied from the project-files directory a custom `metadata_ten_samples_only.csv` file was created"
   ]
  },
  {
   "cell_type": "code",
   "execution_count": 11,
   "id": "3099f471-55ff-45a9-9c1c-a06e156bda28",
   "metadata": {},
   "outputs": [],
   "source": [
    "metadata <- read.table('/sbgenomics/workspace/pediatric-DS-AML-TAM-Analysis/data/metadata_ten_samples_only.csv', sep=\",\", header=TRUE, stringsAsFactors = FALSE)"
   ]
  },
  {
   "cell_type": "code",
   "execution_count": 12,
   "id": "963f85b5-0a83-4b01-b680-b99b5062a5ce",
   "metadata": {},
   "outputs": [
    {
     "data": {
      "text/html": [
       "<table class=\"dataframe\">\n",
       "<caption>A data.frame: 6 × 9</caption>\n",
       "<thead>\n",
       "\t<tr><th></th><th scope=col>File.name</th><th scope=col>Case.ID</th><th scope=col>subject</th><th scope=col>Sample.ID</th><th scope=col>sample</th><th scope=col>Gender</th><th scope=col>Disease.type</th><th scope=col>Paired.end</th><th scope=col>Abundance</th></tr>\n",
       "\t<tr><th></th><th scope=col>&lt;chr&gt;</th><th scope=col>&lt;chr&gt;</th><th scope=col>&lt;chr&gt;</th><th scope=col>&lt;chr&gt;</th><th scope=col>&lt;chr&gt;</th><th scope=col>&lt;chr&gt;</th><th scope=col>&lt;chr&gt;</th><th scope=col>&lt;int&gt;</th><th scope=col>&lt;chr&gt;</th></tr>\n",
       "</thead>\n",
       "<tbody>\n",
       "\t<tr><th scope=row>1</th><td>PAXSBH-03A-01R_RBS_withJunctionsOnGenome_dupsFlagged_r1.fq.gz</td><td>PAXSBH</td><td>PAXSBH</td><td>PAXSBH-03A-01R</td><td>PAXSBH-03A-01R</td><td>Female</td><td>TAM</td><td>1</td><td>PAXSBH-03A-01R.kallisto_quant.abundance.tsv</td></tr>\n",
       "\t<tr><th scope=row>2</th><td>PAXSBH-03A-01R_RBS_withJunctionsOnGenome_dupsFlagged_r1.fq.gz</td><td>PAXSBH</td><td>PAXSBH</td><td>PAXSBH-03A-01R</td><td>PAXSBH-03A-01R</td><td>Female</td><td>TAM</td><td>2</td><td>PAXSBH-03A-01R.kallisto_quant.abundance.tsv</td></tr>\n",
       "\t<tr><th scope=row>3</th><td>PAXWGW-03A-01R_RBS_withJunctionsOnGenome_dupsFlagged_r2.fq.gz</td><td>PAXWGW</td><td>PAXWGW</td><td>PAXWGW-03A-01R</td><td>PAXWGW-03A-01R</td><td>Female</td><td>TAM</td><td>1</td><td>PAXWGW-03A-01R.kallisto_quant.abundance.tsv</td></tr>\n",
       "\t<tr><th scope=row>4</th><td>PAXWGW-03A-01R_RBS_withJunctionsOnGenome_dupsFlagged_r1.fq.gz</td><td>PAXWGW</td><td>PAXWGW</td><td>PAXWGW-03A-01R</td><td>PAXWGW-03A-01R</td><td>Female</td><td>TAM</td><td>2</td><td>PAXWGW-03A-01R.kallisto_quant.abundance.tsv</td></tr>\n",
       "\t<tr><th scope=row>5</th><td>PASNSP-03A-01R_RBS_withJunctionsOnGenome_dupsFlagged_r1.fq.gz</td><td>PASNSP</td><td>PASNSP</td><td>PASNSP-03A-01R</td><td>PASNSP-03A-01R</td><td>Male  </td><td>TAM</td><td>1</td><td>PASNSP-03A-01R.kallisto_quant.abundance.tsv</td></tr>\n",
       "\t<tr><th scope=row>6</th><td>PASNSP-03A-01R_RBS_withJunctionsOnGenome_dupsFlagged_r2.fq.gz</td><td>PASNSP</td><td>PASNSP</td><td>PASNSP-03A-01R</td><td>PASNSP-03A-01R</td><td>Male  </td><td>TAM</td><td>2</td><td>PASNSP-03A-01R.kallisto_quant.abundance.tsv</td></tr>\n",
       "</tbody>\n",
       "</table>\n"
      ],
      "text/latex": [
       "A data.frame: 6 × 9\n",
       "\\begin{tabular}{r|lllllllll}\n",
       "  & File.name & Case.ID & subject & Sample.ID & sample & Gender & Disease.type & Paired.end & Abundance\\\\\n",
       "  & <chr> & <chr> & <chr> & <chr> & <chr> & <chr> & <chr> & <int> & <chr>\\\\\n",
       "\\hline\n",
       "\t1 & PAXSBH-03A-01R\\_RBS\\_withJunctionsOnGenome\\_dupsFlagged\\_r1.fq.gz & PAXSBH & PAXSBH & PAXSBH-03A-01R & PAXSBH-03A-01R & Female & TAM & 1 & PAXSBH-03A-01R.kallisto\\_quant.abundance.tsv\\\\\n",
       "\t2 & PAXSBH-03A-01R\\_RBS\\_withJunctionsOnGenome\\_dupsFlagged\\_r1.fq.gz & PAXSBH & PAXSBH & PAXSBH-03A-01R & PAXSBH-03A-01R & Female & TAM & 2 & PAXSBH-03A-01R.kallisto\\_quant.abundance.tsv\\\\\n",
       "\t3 & PAXWGW-03A-01R\\_RBS\\_withJunctionsOnGenome\\_dupsFlagged\\_r2.fq.gz & PAXWGW & PAXWGW & PAXWGW-03A-01R & PAXWGW-03A-01R & Female & TAM & 1 & PAXWGW-03A-01R.kallisto\\_quant.abundance.tsv\\\\\n",
       "\t4 & PAXWGW-03A-01R\\_RBS\\_withJunctionsOnGenome\\_dupsFlagged\\_r1.fq.gz & PAXWGW & PAXWGW & PAXWGW-03A-01R & PAXWGW-03A-01R & Female & TAM & 2 & PAXWGW-03A-01R.kallisto\\_quant.abundance.tsv\\\\\n",
       "\t5 & PASNSP-03A-01R\\_RBS\\_withJunctionsOnGenome\\_dupsFlagged\\_r1.fq.gz & PASNSP & PASNSP & PASNSP-03A-01R & PASNSP-03A-01R & Male   & TAM & 1 & PASNSP-03A-01R.kallisto\\_quant.abundance.tsv\\\\\n",
       "\t6 & PASNSP-03A-01R\\_RBS\\_withJunctionsOnGenome\\_dupsFlagged\\_r2.fq.gz & PASNSP & PASNSP & PASNSP-03A-01R & PASNSP-03A-01R & Male   & TAM & 2 & PASNSP-03A-01R.kallisto\\_quant.abundance.tsv\\\\\n",
       "\\end{tabular}\n"
      ],
      "text/markdown": [
       "\n",
       "A data.frame: 6 × 9\n",
       "\n",
       "| <!--/--> | File.name &lt;chr&gt; | Case.ID &lt;chr&gt; | subject &lt;chr&gt; | Sample.ID &lt;chr&gt; | sample &lt;chr&gt; | Gender &lt;chr&gt; | Disease.type &lt;chr&gt; | Paired.end &lt;int&gt; | Abundance &lt;chr&gt; |\n",
       "|---|---|---|---|---|---|---|---|---|---|\n",
       "| 1 | PAXSBH-03A-01R_RBS_withJunctionsOnGenome_dupsFlagged_r1.fq.gz | PAXSBH | PAXSBH | PAXSBH-03A-01R | PAXSBH-03A-01R | Female | TAM | 1 | PAXSBH-03A-01R.kallisto_quant.abundance.tsv |\n",
       "| 2 | PAXSBH-03A-01R_RBS_withJunctionsOnGenome_dupsFlagged_r1.fq.gz | PAXSBH | PAXSBH | PAXSBH-03A-01R | PAXSBH-03A-01R | Female | TAM | 2 | PAXSBH-03A-01R.kallisto_quant.abundance.tsv |\n",
       "| 3 | PAXWGW-03A-01R_RBS_withJunctionsOnGenome_dupsFlagged_r2.fq.gz | PAXWGW | PAXWGW | PAXWGW-03A-01R | PAXWGW-03A-01R | Female | TAM | 1 | PAXWGW-03A-01R.kallisto_quant.abundance.tsv |\n",
       "| 4 | PAXWGW-03A-01R_RBS_withJunctionsOnGenome_dupsFlagged_r1.fq.gz | PAXWGW | PAXWGW | PAXWGW-03A-01R | PAXWGW-03A-01R | Female | TAM | 2 | PAXWGW-03A-01R.kallisto_quant.abundance.tsv |\n",
       "| 5 | PASNSP-03A-01R_RBS_withJunctionsOnGenome_dupsFlagged_r1.fq.gz | PASNSP | PASNSP | PASNSP-03A-01R | PASNSP-03A-01R | Male   | TAM | 1 | PASNSP-03A-01R.kallisto_quant.abundance.tsv |\n",
       "| 6 | PASNSP-03A-01R_RBS_withJunctionsOnGenome_dupsFlagged_r2.fq.gz | PASNSP | PASNSP | PASNSP-03A-01R | PASNSP-03A-01R | Male   | TAM | 2 | PASNSP-03A-01R.kallisto_quant.abundance.tsv |\n",
       "\n"
      ],
      "text/plain": [
       "  File.name                                                     Case.ID subject\n",
       "1 PAXSBH-03A-01R_RBS_withJunctionsOnGenome_dupsFlagged_r1.fq.gz PAXSBH  PAXSBH \n",
       "2 PAXSBH-03A-01R_RBS_withJunctionsOnGenome_dupsFlagged_r1.fq.gz PAXSBH  PAXSBH \n",
       "3 PAXWGW-03A-01R_RBS_withJunctionsOnGenome_dupsFlagged_r2.fq.gz PAXWGW  PAXWGW \n",
       "4 PAXWGW-03A-01R_RBS_withJunctionsOnGenome_dupsFlagged_r1.fq.gz PAXWGW  PAXWGW \n",
       "5 PASNSP-03A-01R_RBS_withJunctionsOnGenome_dupsFlagged_r1.fq.gz PASNSP  PASNSP \n",
       "6 PASNSP-03A-01R_RBS_withJunctionsOnGenome_dupsFlagged_r2.fq.gz PASNSP  PASNSP \n",
       "  Sample.ID      sample         Gender Disease.type Paired.end\n",
       "1 PAXSBH-03A-01R PAXSBH-03A-01R Female TAM          1         \n",
       "2 PAXSBH-03A-01R PAXSBH-03A-01R Female TAM          2         \n",
       "3 PAXWGW-03A-01R PAXWGW-03A-01R Female TAM          1         \n",
       "4 PAXWGW-03A-01R PAXWGW-03A-01R Female TAM          2         \n",
       "5 PASNSP-03A-01R PASNSP-03A-01R Male   TAM          1         \n",
       "6 PASNSP-03A-01R PASNSP-03A-01R Male   TAM          2         \n",
       "  Abundance                                  \n",
       "1 PAXSBH-03A-01R.kallisto_quant.abundance.tsv\n",
       "2 PAXSBH-03A-01R.kallisto_quant.abundance.tsv\n",
       "3 PAXWGW-03A-01R.kallisto_quant.abundance.tsv\n",
       "4 PAXWGW-03A-01R.kallisto_quant.abundance.tsv\n",
       "5 PASNSP-03A-01R.kallisto_quant.abundance.tsv\n",
       "6 PASNSP-03A-01R.kallisto_quant.abundance.tsv"
      ]
     },
     "metadata": {},
     "output_type": "display_data"
    }
   ],
   "source": [
    "head(metadata)"
   ]
  },
  {
   "cell_type": "code",
   "execution_count": 13,
   "id": "9349a2c7-26b0-4d03-a8a5-fe52502f9820",
   "metadata": {},
   "outputs": [],
   "source": [
    "metadata <- dplyr::select(metadata, c('Case.ID', 'Sample.ID', 'Gender', 'Disease.type', 'Abundance'))"
   ]
  },
  {
   "cell_type": "code",
   "execution_count": 14,
   "id": "8b9d1daa-2123-4c95-a932-ce75c0b6b9d5",
   "metadata": {},
   "outputs": [],
   "source": [
    "metadata <- dplyr::distinct(metadata)"
   ]
  },
  {
   "cell_type": "code",
   "execution_count": 15,
   "id": "906c6185-9147-4a16-b483-1da766627a52",
   "metadata": {},
   "outputs": [
    {
     "data": {
      "text/html": [
       "<table class=\"dataframe\">\n",
       "<caption>A data.frame: 6 × 5</caption>\n",
       "<thead>\n",
       "\t<tr><th></th><th scope=col>Case.ID</th><th scope=col>Sample.ID</th><th scope=col>Gender</th><th scope=col>Disease.type</th><th scope=col>Abundance</th></tr>\n",
       "\t<tr><th></th><th scope=col>&lt;chr&gt;</th><th scope=col>&lt;chr&gt;</th><th scope=col>&lt;chr&gt;</th><th scope=col>&lt;chr&gt;</th><th scope=col>&lt;chr&gt;</th></tr>\n",
       "</thead>\n",
       "<tbody>\n",
       "\t<tr><th scope=row>1</th><td>PAXSBH</td><td>PAXSBH-03A-01R</td><td>Female</td><td>TAM   </td><td>PAXSBH-03A-01R.kallisto_quant.abundance.tsv</td></tr>\n",
       "\t<tr><th scope=row>2</th><td>PAXWGW</td><td>PAXWGW-03A-01R</td><td>Female</td><td>TAM   </td><td>PAXWGW-03A-01R.kallisto_quant.abundance.tsv</td></tr>\n",
       "\t<tr><th scope=row>3</th><td>PASNSP</td><td>PASNSP-03A-01R</td><td>Male  </td><td>TAM   </td><td>PASNSP-03A-01R.kallisto_quant.abundance.tsv</td></tr>\n",
       "\t<tr><th scope=row>4</th><td>PASWXF</td><td>PASWXF-03A-01R</td><td>Male  </td><td>TAM   </td><td>PASWXF-03A-01R.kallisto_quant.abundance.tsv</td></tr>\n",
       "\t<tr><th scope=row>5</th><td>PASXCL</td><td>PASXCL-03A-01R</td><td>Male  </td><td>TAM   </td><td>PASXCL-03A-01R.kallisto_quant.abundance.tsv</td></tr>\n",
       "\t<tr><th scope=row>6</th><td>PAVZTK</td><td>PAVZTK-09A-01R</td><td>Female</td><td>DS-AML</td><td>PAVZTK-09A-01R.kallisto_quant.abundance.tsv</td></tr>\n",
       "</tbody>\n",
       "</table>\n"
      ],
      "text/latex": [
       "A data.frame: 6 × 5\n",
       "\\begin{tabular}{r|lllll}\n",
       "  & Case.ID & Sample.ID & Gender & Disease.type & Abundance\\\\\n",
       "  & <chr> & <chr> & <chr> & <chr> & <chr>\\\\\n",
       "\\hline\n",
       "\t1 & PAXSBH & PAXSBH-03A-01R & Female & TAM    & PAXSBH-03A-01R.kallisto\\_quant.abundance.tsv\\\\\n",
       "\t2 & PAXWGW & PAXWGW-03A-01R & Female & TAM    & PAXWGW-03A-01R.kallisto\\_quant.abundance.tsv\\\\\n",
       "\t3 & PASNSP & PASNSP-03A-01R & Male   & TAM    & PASNSP-03A-01R.kallisto\\_quant.abundance.tsv\\\\\n",
       "\t4 & PASWXF & PASWXF-03A-01R & Male   & TAM    & PASWXF-03A-01R.kallisto\\_quant.abundance.tsv\\\\\n",
       "\t5 & PASXCL & PASXCL-03A-01R & Male   & TAM    & PASXCL-03A-01R.kallisto\\_quant.abundance.tsv\\\\\n",
       "\t6 & PAVZTK & PAVZTK-09A-01R & Female & DS-AML & PAVZTK-09A-01R.kallisto\\_quant.abundance.tsv\\\\\n",
       "\\end{tabular}\n"
      ],
      "text/markdown": [
       "\n",
       "A data.frame: 6 × 5\n",
       "\n",
       "| <!--/--> | Case.ID &lt;chr&gt; | Sample.ID &lt;chr&gt; | Gender &lt;chr&gt; | Disease.type &lt;chr&gt; | Abundance &lt;chr&gt; |\n",
       "|---|---|---|---|---|---|\n",
       "| 1 | PAXSBH | PAXSBH-03A-01R | Female | TAM    | PAXSBH-03A-01R.kallisto_quant.abundance.tsv |\n",
       "| 2 | PAXWGW | PAXWGW-03A-01R | Female | TAM    | PAXWGW-03A-01R.kallisto_quant.abundance.tsv |\n",
       "| 3 | PASNSP | PASNSP-03A-01R | Male   | TAM    | PASNSP-03A-01R.kallisto_quant.abundance.tsv |\n",
       "| 4 | PASWXF | PASWXF-03A-01R | Male   | TAM    | PASWXF-03A-01R.kallisto_quant.abundance.tsv |\n",
       "| 5 | PASXCL | PASXCL-03A-01R | Male   | TAM    | PASXCL-03A-01R.kallisto_quant.abundance.tsv |\n",
       "| 6 | PAVZTK | PAVZTK-09A-01R | Female | DS-AML | PAVZTK-09A-01R.kallisto_quant.abundance.tsv |\n",
       "\n"
      ],
      "text/plain": [
       "  Case.ID Sample.ID      Gender Disease.type\n",
       "1 PAXSBH  PAXSBH-03A-01R Female TAM         \n",
       "2 PAXWGW  PAXWGW-03A-01R Female TAM         \n",
       "3 PASNSP  PASNSP-03A-01R Male   TAM         \n",
       "4 PASWXF  PASWXF-03A-01R Male   TAM         \n",
       "5 PASXCL  PASXCL-03A-01R Male   TAM         \n",
       "6 PAVZTK  PAVZTK-09A-01R Female DS-AML      \n",
       "  Abundance                                  \n",
       "1 PAXSBH-03A-01R.kallisto_quant.abundance.tsv\n",
       "2 PAXWGW-03A-01R.kallisto_quant.abundance.tsv\n",
       "3 PASNSP-03A-01R.kallisto_quant.abundance.tsv\n",
       "4 PASWXF-03A-01R.kallisto_quant.abundance.tsv\n",
       "5 PASXCL-03A-01R.kallisto_quant.abundance.tsv\n",
       "6 PAVZTK-09A-01R.kallisto_quant.abundance.tsv"
      ]
     },
     "metadata": {},
     "output_type": "display_data"
    }
   ],
   "source": [
    "head(metadata)"
   ]
  },
  {
   "cell_type": "code",
   "execution_count": 16,
   "id": "8c35aecf-4ef3-4a3d-a075-64b1ec513292",
   "metadata": {},
   "outputs": [],
   "source": [
    "metadata <- dplyr::rename(metadata, sample = Sample.ID)"
   ]
  },
  {
   "cell_type": "code",
   "execution_count": 17,
   "id": "1e0f9eca-0467-4500-be6e-b397da13f469",
   "metadata": {},
   "outputs": [],
   "source": [
    "metadata <- dplyr::rename(metadata, path = Abundance)"
   ]
  },
  {
   "cell_type": "code",
   "execution_count": 18,
   "id": "0070eea0-f641-496c-badb-33aa6d72a34a",
   "metadata": {},
   "outputs": [
    {
     "data": {
      "text/html": [
       "<table class=\"dataframe\">\n",
       "<caption>A data.frame: 6 × 5</caption>\n",
       "<thead>\n",
       "\t<tr><th></th><th scope=col>Case.ID</th><th scope=col>sample</th><th scope=col>Gender</th><th scope=col>Disease.type</th><th scope=col>path</th></tr>\n",
       "\t<tr><th></th><th scope=col>&lt;chr&gt;</th><th scope=col>&lt;chr&gt;</th><th scope=col>&lt;chr&gt;</th><th scope=col>&lt;chr&gt;</th><th scope=col>&lt;chr&gt;</th></tr>\n",
       "</thead>\n",
       "<tbody>\n",
       "\t<tr><th scope=row>1</th><td>PAXSBH</td><td>PAXSBH-03A-01R</td><td>Female</td><td>TAM   </td><td>PAXSBH-03A-01R.kallisto_quant.abundance.tsv</td></tr>\n",
       "\t<tr><th scope=row>2</th><td>PAXWGW</td><td>PAXWGW-03A-01R</td><td>Female</td><td>TAM   </td><td>PAXWGW-03A-01R.kallisto_quant.abundance.tsv</td></tr>\n",
       "\t<tr><th scope=row>3</th><td>PASNSP</td><td>PASNSP-03A-01R</td><td>Male  </td><td>TAM   </td><td>PASNSP-03A-01R.kallisto_quant.abundance.tsv</td></tr>\n",
       "\t<tr><th scope=row>4</th><td>PASWXF</td><td>PASWXF-03A-01R</td><td>Male  </td><td>TAM   </td><td>PASWXF-03A-01R.kallisto_quant.abundance.tsv</td></tr>\n",
       "\t<tr><th scope=row>5</th><td>PASXCL</td><td>PASXCL-03A-01R</td><td>Male  </td><td>TAM   </td><td>PASXCL-03A-01R.kallisto_quant.abundance.tsv</td></tr>\n",
       "\t<tr><th scope=row>6</th><td>PAVZTK</td><td>PAVZTK-09A-01R</td><td>Female</td><td>DS-AML</td><td>PAVZTK-09A-01R.kallisto_quant.abundance.tsv</td></tr>\n",
       "</tbody>\n",
       "</table>\n"
      ],
      "text/latex": [
       "A data.frame: 6 × 5\n",
       "\\begin{tabular}{r|lllll}\n",
       "  & Case.ID & sample & Gender & Disease.type & path\\\\\n",
       "  & <chr> & <chr> & <chr> & <chr> & <chr>\\\\\n",
       "\\hline\n",
       "\t1 & PAXSBH & PAXSBH-03A-01R & Female & TAM    & PAXSBH-03A-01R.kallisto\\_quant.abundance.tsv\\\\\n",
       "\t2 & PAXWGW & PAXWGW-03A-01R & Female & TAM    & PAXWGW-03A-01R.kallisto\\_quant.abundance.tsv\\\\\n",
       "\t3 & PASNSP & PASNSP-03A-01R & Male   & TAM    & PASNSP-03A-01R.kallisto\\_quant.abundance.tsv\\\\\n",
       "\t4 & PASWXF & PASWXF-03A-01R & Male   & TAM    & PASWXF-03A-01R.kallisto\\_quant.abundance.tsv\\\\\n",
       "\t5 & PASXCL & PASXCL-03A-01R & Male   & TAM    & PASXCL-03A-01R.kallisto\\_quant.abundance.tsv\\\\\n",
       "\t6 & PAVZTK & PAVZTK-09A-01R & Female & DS-AML & PAVZTK-09A-01R.kallisto\\_quant.abundance.tsv\\\\\n",
       "\\end{tabular}\n"
      ],
      "text/markdown": [
       "\n",
       "A data.frame: 6 × 5\n",
       "\n",
       "| <!--/--> | Case.ID &lt;chr&gt; | sample &lt;chr&gt; | Gender &lt;chr&gt; | Disease.type &lt;chr&gt; | path &lt;chr&gt; |\n",
       "|---|---|---|---|---|---|\n",
       "| 1 | PAXSBH | PAXSBH-03A-01R | Female | TAM    | PAXSBH-03A-01R.kallisto_quant.abundance.tsv |\n",
       "| 2 | PAXWGW | PAXWGW-03A-01R | Female | TAM    | PAXWGW-03A-01R.kallisto_quant.abundance.tsv |\n",
       "| 3 | PASNSP | PASNSP-03A-01R | Male   | TAM    | PASNSP-03A-01R.kallisto_quant.abundance.tsv |\n",
       "| 4 | PASWXF | PASWXF-03A-01R | Male   | TAM    | PASWXF-03A-01R.kallisto_quant.abundance.tsv |\n",
       "| 5 | PASXCL | PASXCL-03A-01R | Male   | TAM    | PASXCL-03A-01R.kallisto_quant.abundance.tsv |\n",
       "| 6 | PAVZTK | PAVZTK-09A-01R | Female | DS-AML | PAVZTK-09A-01R.kallisto_quant.abundance.tsv |\n",
       "\n"
      ],
      "text/plain": [
       "  Case.ID sample         Gender Disease.type\n",
       "1 PAXSBH  PAXSBH-03A-01R Female TAM         \n",
       "2 PAXWGW  PAXWGW-03A-01R Female TAM         \n",
       "3 PASNSP  PASNSP-03A-01R Male   TAM         \n",
       "4 PASWXF  PASWXF-03A-01R Male   TAM         \n",
       "5 PASXCL  PASXCL-03A-01R Male   TAM         \n",
       "6 PAVZTK  PAVZTK-09A-01R Female DS-AML      \n",
       "  path                                       \n",
       "1 PAXSBH-03A-01R.kallisto_quant.abundance.tsv\n",
       "2 PAXWGW-03A-01R.kallisto_quant.abundance.tsv\n",
       "3 PASNSP-03A-01R.kallisto_quant.abundance.tsv\n",
       "4 PASWXF-03A-01R.kallisto_quant.abundance.tsv\n",
       "5 PASXCL-03A-01R.kallisto_quant.abundance.tsv\n",
       "6 PAVZTK-09A-01R.kallisto_quant.abundance.tsv"
      ]
     },
     "metadata": {},
     "output_type": "display_data"
    }
   ],
   "source": [
    "head(metadata)"
   ]
  },
  {
   "cell_type": "markdown",
   "id": "a62d5619-006f-4cc0-a39d-e76dbaf81803",
   "metadata": {},
   "source": [
    "Made a local copy of the file in the projects file directory for that moment"
   ]
  },
  {
   "cell_type": "markdown",
   "id": "14e5ad7a-00a4-4b51-9220-bbede42c8b55",
   "metadata": {},
   "source": [
    "### Prepping abundance data from Kallisto using the BioConductor tximport Manual options\n",
    "\n",
    "Build for our manual was on October 16, 2022\n",
    "\n",
    "From the manual on tximport we see the following options:\n",
    "\n",
    "* **files**:  a character vector of filenames for the transcript-level abundances\n",
    "* **type**:   character string, the type of software used to generate the abundances. Options are \"salmon\", \"sailfish\", \"alevin\", \"kallisto\", \"rsem\", \"stringtie\", or \"none\". This argument is used to autofill the arguments below (geneIdCol, etc.) \"none\" means that the user will specify these columns. Be aware that specifying type other than \"none\" will ignore the arguments below (geneIdCol, etc.)\n",
    "* **txIn**:  a logical (TRUE/FALSE), whether the incoming files are transcript level (default TRUE)\n",
    "* **txOut**: a logical (TRUE/FALSE), whether the function should just output transcript-level (default FALSE) \n",
    "* **countsFromAbundance** a character, either \"no\" (default), \"scaledTPM\", \"lengthScaledTPM\", or \"dtuS- caledTPM\". Whether to generate estimated counts using abundance estimates:\n",
    "* • scaled up to library size (scaledTPM),\n",
    "* • scaled using the average transcript length over samples and then the library size (lengthScaledTPM), or\n",
    "* • scaled using the median transcript length among isoforms of a gene, and then the library size (dtuScaledTPM).\n",
    "dtuScaledTPM is designed for DTU analysis in combination with txOut=TRUE, and it requires specifing a tx2gene data.frame. dtuScaledTPM works such that within a gene, values from all samples and all transcripts get scaled by the same fixed median transcript length. If using scaledTPM, lengthScaledTPM, or gene- LengthScaledTPM, the counts are no longer correlated across samples with tran- script length, and so the length offset matrix should not be used.\n",
    "* **tx2gene** a two-column data.frame linking transcript id (column 1) to gene id (column 2). the column names are not relevant, but this column order must be used. this argument is required for gene-level summarization, and the tximport vignette describes how to construct this data.frame (see Details below). An automated solution to avoid having to create tx2gene if one has quantified with Salmon or alevin with human or mouse transcriptomes is to use the tximeta function from the tximeta Bioconductor package.\n",
    "* **ignoreTxVersion** a logical (TRUE/FALSE), whether to split the tx id on the ’.’ character to remove version informa- tion to facilitate matching with the tx id in tx2gene (default FALSE)\n",
    "* **ignoreAfterBar** a logical (TRUE/FALSE), whether to split the tx id on the ’|’ character to facilitate matching with the tx id in tx2gene (default FALSE). if txOut=TRUE it will strip the text after ’|’ on the rownames of the matrices\n",
    "* **geneIdCol** name of column with gene id. if missing, the tx2gene argument can be used. Note that this argument and the other four \"...Col\" arguments below are ignored unless type=\"none\"\n",
    "* **txIdCol** name of column with tx id\n",
    "* **abundanceCol** name of column with abundances (e.g. TPM or FPKM) name of column with estimated counts\n",
    "* **countsCol** name of column with feature length information\n",
    "* **lengthCol** name of column with feature length information\n",
    "* **importer** a function used to read in the files\n",
    "\n",
    "We are going to use the following:\n",
    "\n",
    "* files           - will be specified from the metadata file - column renamed to `path`\n",
    "* type            - \"kallisto\"\n",
    "* txIn            - TRUE\n",
    "* txOut           - FALSE\n",
    "* tx2gene         - \"tx2gene\" (we used biomaRt to create the tx2gene file)\n",
    "* ignoreTxVersion - TRUE (we are going to ignore the version info after the \".\"\n",
    "* ignoreAfterBar  - TRUE (we will ignore the other info after the \"|\"\n",
    "* geneIdCol       - \"target_id\" (from the ttg)\n",
    "* txIdCol         - \"ext_gene\"\n",
    "* abundanceCol    - \"tpm\"\n",
    "* countsCol       - \"est_counts\"\n",
    "* lengthCol       - \"eff_length\"\n",
    "* importer        - \"readr\"\n",
    "\n"
   ]
  },
  {
   "cell_type": "code",
   "execution_count": 19,
   "id": "449985d1-5f33-48e3-98bb-735a23c9b1ae",
   "metadata": {},
   "outputs": [],
   "source": [
    "library(readr)"
   ]
  },
  {
   "cell_type": "code",
   "execution_count": 20,
   "id": "135089e7-8ec4-4866-b013-202bdb579adf",
   "metadata": {},
   "outputs": [
    {
     "data": {
      "text/html": [
       "TRUE"
      ],
      "text/latex": [
       "TRUE"
      ],
      "text/markdown": [
       "TRUE"
      ],
      "text/plain": [
       "[1] TRUE"
      ]
     },
     "metadata": {},
     "output_type": "display_data"
    },
    {
     "data": {
      "text/html": [
       "TRUE"
      ],
      "text/latex": [
       "TRUE"
      ],
      "text/markdown": [
       "TRUE"
      ],
      "text/plain": [
       "[1] TRUE"
      ]
     },
     "metadata": {},
     "output_type": "display_data"
    }
   ],
   "source": [
    "setwd(\"/sbgenomics/workspace/pediatric-DS-AML-TAM-Analysis/data/\")\n",
    "all(file.exists(metadata$path))\n",
    "files <- metadata$path\n",
    "all(file.exists(files))"
   ]
  },
  {
   "cell_type": "code",
   "execution_count": null,
   "id": "dfd371e1-6d53-4119-9f51-9686463f2f87",
   "metadata": {},
   "outputs": [
    {
     "name": "stderr",
     "output_type": "stream",
     "text": [
      "Note: importing `abundance.h5` is typically faster than `abundance.tsv`\n",
      "\n",
      "1 \n"
     ]
    }
   ],
   "source": [
    "# note do not quote the files !!! -- I'm an idiot and did so!\n",
    "# now this should work.\n",
    "txi.kallisto <- tximport(files           = metadata$path, \n",
    "                         type            = \"kallisto\",\n",
    "                         tx2gene         = \"tx2gene\",\n",
    "                         ignoreTxVersion = TRUE,\n",
    "                         ignoreAfterBar  = TRUE,\n",
    "                         geneIdCol       = \"ext_gene\",\n",
    "                         txIdCol         = \"target_id\",\n",
    "                         importer        = read_tsv)\n"
   ]
  },
  {
   "cell_type": "code",
   "execution_count": null,
   "id": "d119c278-75b7-45e3-abb5-67a053799801",
   "metadata": {},
   "outputs": [],
   "source": [
    "install.packages(\"cowplot\")\n"
   ]
  },
  {
   "cell_type": "code",
   "execution_count": null,
   "id": "4dd174a9-c0bd-4f55-afcf-ee4a03a8434c",
   "metadata": {},
   "outputs": [],
   "source": [
    "BiocManager::install(\"TxDb.Hsapiens.UCSC.hg38.knownGene\")\n",
    "library (TxDb.Hsapiens.UCSC.hg38.knownGene)\n",
    "txdb <- TxDb.Hsapiens.UCSC.hg38.knownGene\n",
    "k <- keys(txdb, keytype = \"TXNAME\")\n",
    "tx2gene <- select(txdb, k, \"GENEID\", \"TXNAME\")"
   ]
  },
  {
   "cell_type": "code",
   "execution_count": null,
   "id": "9b8a8225-747e-491f-accd-d23f035028e1",
   "metadata": {},
   "outputs": [],
   "source": [
    "library(\"cowplot\")\n"
   ]
  },
  {
   "cell_type": "code",
   "execution_count": null,
   "id": "3f11fb1c-4377-42a2-84ec-48029872462a",
   "metadata": {},
   "outputs": [],
   "source": [
    "if (!require(\"BiocManager\", quietly = TRUE))\n",
    "    install.packages(\"BiocManager\")\n",
    "BiocManager::install(version = \"3.14\")\n"
   ]
  },
  {
   "cell_type": "code",
   "execution_count": null,
   "id": "4e3340e5-8b57-4eab-8191-d12240296a3b",
   "metadata": {},
   "outputs": [],
   "source": [
    "BiocManager::install(\"biomaRt\")"
   ]
  },
  {
   "cell_type": "code",
   "execution_count": null,
   "id": "ae91c4a7-6dc4-4b7b-a0f3-445281753dda",
   "metadata": {},
   "outputs": [],
   "source": [
    "BiocManager::install(\"DESeq2\")"
   ]
  },
  {
   "cell_type": "code",
   "execution_count": null,
   "id": "48a60bc9-e583-4d3d-ad1c-0706740fe6ce",
   "metadata": {},
   "outputs": [],
   "source": [
    "library(DESeq2)"
   ]
  },
  {
   "cell_type": "code",
   "execution_count": null,
   "id": "e5d10168-4933-411c-98f7-289eb247447a",
   "metadata": {},
   "outputs": [],
   "source": [
    "library(\"devtools\")"
   ]
  },
  {
   "cell_type": "markdown",
   "id": "05532e3f-6097-4f15-816b-6571a5993a91",
   "metadata": {},
   "source": [
    "#### First time through - Received a Warning that rhdf5 not available for this version of R\n",
    "\n",
    "Looked up our version and google searched R 4.1.1 rhdf5\n",
    "    \n",
    "Can install using `BiocManager::install(\"rhdf5\")`\n",
    "\n",
    "Pactherlab says to install `*rhdf5*` first"
   ]
  },
  {
   "cell_type": "code",
   "execution_count": null,
   "id": "0a43a9e1-7ce6-4b68-860b-5e3e1876ab3a",
   "metadata": {},
   "outputs": [],
   "source": [
    "BiocManager::install(\"rhdf5\", force=TRUE)"
   ]
  },
  {
   "cell_type": "code",
   "execution_count": null,
   "id": "e7b03ce8-e5d8-4be8-be2b-e40c428d4541",
   "metadata": {},
   "outputs": [],
   "source": [
    "library (rhdf5)\n"
   ]
  },
  {
   "cell_type": "markdown",
   "id": "09f66a8d-241c-4f86-8b23-3fcf14859d4f",
   "metadata": {},
   "source": [
    "#### Issues\n",
    "\n",
    "Noted in issues https://github.com/pachterlab/sleuth/issues/259 -- follow the instructions from [Paast](https://github.com/pachterlab/sleuth/issues/259#issuecomment-966270599)\n",
    "\n",
    "Install rhdf5 as noted above.\n",
    "\n",
    "Load the library\n",
    "\n",
    "##### Clone sleuth and install after editing the file\n",
    "\n",
    "Change directory to the top working directory in this etheral machine.\n",
    "\n",
    "```bash\n",
    "cd /sbgenomics/workspace\n",
    "```\n",
    "\n",
    "now clone the library \n",
    "\n",
    "```bash\n",
    "git clone https://github.com/pachterlab/sleuth.git\n",
    "```\n",
    "\n",
    "edit NAMESPACE as the instructions note - to remove the dependency remove the last line to remove the reference to **rhdf5**\n",
    "\n",
    "And then run the install.\n"
   ]
  },
  {
   "cell_type": "code",
   "execution_count": null,
   "id": "cace19ad-5aea-475b-8fe2-d6cc962eeba3",
   "metadata": {},
   "outputs": [],
   "source": [
    "devtools::install('../../sleuth/')"
   ]
  },
  {
   "cell_type": "code",
   "execution_count": null,
   "id": "a69aba07-0138-427f-a8e8-a28bd30b8456",
   "metadata": {},
   "outputs": [],
   "source": [
    "library(sleuth)"
   ]
  },
  {
   "cell_type": "markdown",
   "id": "a5947268-42ff-49ef-903b-980d1427b68a",
   "metadata": {},
   "source": [
    "We have successfully run Kallisto with Kallisto Quantitation.\n",
    "\n",
    "Results may be found after running an application on Cavatica here:\n",
    "\n",
    "```bash\n",
    "/sbgenomics/project-files/\n",
    "```\n",
    "\n",
    "For this analysis we will use the results from the run using `metadata_ten_samples_only_txt`\n",
    "\n",
    "Results are in:\n",
    "\n",
    "```bash\n",
    "/sbgenomics/project-files/ten_samples_expression_matrix.tpm.txt\n",
    "```"
   ]
  },
  {
   "cell_type": "markdown",
   "id": "ea7bc5b5-9e72-4bb8-92bd-d24143bb2479",
   "metadata": {},
   "source": [
    "### Parsing metadata\n",
    "\n",
    "A sleuth analysis is dependent on a metadata file, which describes the experimental design, the sample names, conditions and covariates. The metadata file is external to sleuth, and must be prepared prior to analysis. A metadata file should have been downloaded along with the kallisto quantifications. The first step in a sleuth analysis is loading of the metadata file. You might need the path in read_table below to where you have downloaded the kallisto dataset, so that the path directs to the sample_table.txt. We then select the relevant columns of the metadata.\n",
    "\n",
    "In our case, I used:\n",
    "\n",
    "```bash\n",
    "/sbgenomics/project-files/metadata_ten_samples_only.csv\n",
    "```"
   ]
  },
  {
   "cell_type": "code",
   "execution_count": null,
   "id": "a430a324-b6b5-4255-81eb-b15734e115bd",
   "metadata": {},
   "outputs": [],
   "source": [
    "metadata <- read.table('/sbgenomics/project-files/metadata_ten_samples_only.csv', sep=\",\", header=TRUE, stringsAsFactors = FALSE)"
   ]
  },
  {
   "cell_type": "code",
   "execution_count": null,
   "id": "809234a4-57cf-441d-a2c4-e1fd97127e90",
   "metadata": {},
   "outputs": [],
   "source": [
    "head(metadata, n=20)"
   ]
  },
  {
   "cell_type": "markdown",
   "id": "83d55633-bf9e-4b00-90d0-ef75788cef3a",
   "metadata": {},
   "source": [
    "There is an error in the last sample detail - where the paired should read `2` and not NA.  So I copied the file to a local directory and corrected it -- it is corrected permanently now - but for this run through you can see:\n",
    "```bash\n",
    "cp /sbgenomics/project-files/metadata_ten_samples_only.csv /sbgenomics/workspace/pediatric-DS-AML-TAM-Analysis/data\n",
    "```\n",
    "\n",
    "where I edited the file and now will read this one in."
   ]
  },
  {
   "cell_type": "code",
   "execution_count": null,
   "id": "6d94ba4a-a191-494e-b2ed-d589c47843c1",
   "metadata": {},
   "outputs": [],
   "source": [
    "metadata <- read.table('/sbgenomics/workspace/pediatric-DS-AML-TAM-Analysis/data/metadata_ten_samples_only.csv', sep=\",\", header=TRUE, stringsAsFactors = FALSE)"
   ]
  },
  {
   "cell_type": "code",
   "execution_count": null,
   "id": "cf79d1bc-1a14-48c8-a57a-83f8116bd9ce",
   "metadata": {},
   "outputs": [],
   "source": [
    "head(metadata)"
   ]
  },
  {
   "cell_type": "code",
   "execution_count": null,
   "id": "9209ebbd-dcfa-49b7-bb8e-413004406e8e",
   "metadata": {},
   "outputs": [],
   "source": [
    "dim(metadata)"
   ]
  },
  {
   "cell_type": "code",
   "execution_count": null,
   "id": "f907e43b-7a13-47bf-8aad-dc88eb09f022",
   "metadata": {},
   "outputs": [],
   "source": [
    "metadata <- dplyr::select(metadata, c('Case.ID', 'Sample.ID', 'Gender', 'Disease.type', 'Abundance'))"
   ]
  },
  {
   "cell_type": "code",
   "execution_count": null,
   "id": "fea7756a-b5e7-4707-909c-10de1fefc960",
   "metadata": {},
   "outputs": [],
   "source": [
    "head(metadata)"
   ]
  },
  {
   "cell_type": "code",
   "execution_count": null,
   "id": "9be16242-cd08-413b-a17e-8958d431c4f1",
   "metadata": {},
   "outputs": [],
   "source": [
    "metadata <- dplyr::distinct(metadata)"
   ]
  },
  {
   "cell_type": "code",
   "execution_count": null,
   "id": "3b4a9c46-262d-4daa-9c61-7c43ecde421d",
   "metadata": {},
   "outputs": [],
   "source": [
    "head(metadata)"
   ]
  },
  {
   "cell_type": "code",
   "execution_count": null,
   "id": "679e4004-878f-4937-b888-ef9fd43f01fa",
   "metadata": {},
   "outputs": [],
   "source": [
    "dim(metadata)"
   ]
  },
  {
   "cell_type": "code",
   "execution_count": null,
   "id": "0656197e-93f0-4008-b3bd-35c14adf1522",
   "metadata": {},
   "outputs": [],
   "source": [
    "metadata <- dplyr::rename(metadata, sample = Sample.ID)"
   ]
  },
  {
   "cell_type": "markdown",
   "id": "0617541a-0664-46bf-896e-4838af463e9a",
   "metadata": {},
   "source": [
    "Need to rename a colump as well to `path` where we have `Abundance`"
   ]
  },
  {
   "cell_type": "code",
   "execution_count": null,
   "id": "11e98d5a-534a-4021-bfed-ffa7768cd8a4",
   "metadata": {},
   "outputs": [],
   "source": [
    "metadata <- dplyr::rename(metadata, path = Abundance)"
   ]
  },
  {
   "cell_type": "code",
   "execution_count": null,
   "id": "edc62a33-02e1-4fbb-9b80-6a53a66a41e6",
   "metadata": {},
   "outputs": [],
   "source": [
    "head(metadata)"
   ]
  },
  {
   "cell_type": "markdown",
   "id": "5f8ecb14-d688-47ec-bbee-c84bdc5bdb4d",
   "metadata": {},
   "source": [
    "#### biomaRt - how to use\n",
    "\n",
    "Following instructions from the [ensembl site](https://grch37.ensembl.org/info/data/biomart/biomart_r_package.html)"
   ]
  },
  {
   "cell_type": "code",
   "execution_count": null,
   "id": "b315a983-b7eb-47c5-a618-3558f1988f21",
   "metadata": {},
   "outputs": [],
   "source": [
    "library(biomaRt)"
   ]
  },
  {
   "cell_type": "code",
   "execution_count": null,
   "id": "cf6b61ce-eaf9-4ede-b84f-a498ab0e16eb",
   "metadata": {},
   "outputs": [],
   "source": [
    "mart <- biomaRt::useMart(biomart=\"ensembl\", \n",
    "                     dataset = \"hsapiens_gene_ensembl\",\n",
    "                        host = \"https://useast.ensembl.org\")"
   ]
  },
  {
   "cell_type": "code",
   "execution_count": null,
   "id": "09a5d947-397f-46de-a8e6-88658fb08d32",
   "metadata": {},
   "outputs": [],
   "source": [
    "ttg <- biomaRt::getBM(\n",
    "  attributes = c(\"ensembl_transcript_id\", \"transcript_version\",\n",
    "  \"ensembl_gene_id\", \"external_gene_name\", \"description\",\n",
    "  \"transcript_biotype\"),\n",
    "  mart = mart)\n"
   ]
  },
  {
   "cell_type": "code",
   "execution_count": null,
   "id": "7386de62-67da-4ca9-a0d4-d5d7ad831a05",
   "metadata": {},
   "outputs": [],
   "source": [
    "ttg <- dplyr::rename(ttg, target_id = ensembl_transcript_id,\n",
    "  ens_gene = ensembl_gene_id, ext_gene = external_gene_name)\n"
   ]
  },
  {
   "cell_type": "code",
   "execution_count": null,
   "id": "0521385a-1bd1-402f-a9b0-53b52a1a4aae",
   "metadata": {},
   "outputs": [],
   "source": [
    "ttg <- dplyr::select(ttg, c('target_id', 'ens_gene', 'ext_gene'))\n",
    "head(ttg)"
   ]
  },
  {
   "cell_type": "code",
   "execution_count": null,
   "id": "7d913a41-9424-440e-8f8d-218c8001fd8a",
   "metadata": {},
   "outputs": [],
   "source": [
    "ttg <- read.table('/sbgenomics/workspace/pediatric-DS-AML-TAM-Analysis/data/ttg.csv', sep=\",\", header=TRUE, stringsAsFactors = FALSE)"
   ]
  },
  {
   "cell_type": "code",
   "execution_count": null,
   "id": "8b09c920-8118-4f34-a303-68e07003a868",
   "metadata": {},
   "outputs": [],
   "source": [
    "head(ttg)"
   ]
  },
  {
   "cell_type": "markdown",
   "id": "6ad386e6-6c48-4e78-94f2-dc2b76581643",
   "metadata": {},
   "source": [
    "The resulting table contains Ensembl gene names (‘ens_gene’) and the associated transcripts (‘target_id’). Note that the gene-transcript mapping must be compatible with the transcriptome used with kallisto. In other words, to use Ensembl transcript-gene associations kallisto was run using the Ensembl transcriptome.\n",
    "\n",
    "#### Preparing the analysis\n",
    "\n",
    "The next step is to build a sleuth object. The sleuth object contains specification of the experimental design, a map describing grouping of transcripts into genes (or other groups), and a number of user specific parameters. In the example that follows, metadata is the experimental design and target_mapping describes the transcript groupings into genes previously constructed. Furthermore, we provide an aggregation_column, the column name of in ‘target_mapping’ table that is used to aggregate the transcripts. When both ‘target_mapping’ and ‘aggregation_column’ are provided, sleuth will automatically run in gene mode, returning gene differential expression results that came from the aggregation of transcript p-values.\n"
   ]
  },
  {
   "cell_type": "code",
   "execution_count": null,
   "id": "d32d1dce-7746-4fee-a4ab-7af9d5a84aca",
   "metadata": {},
   "outputs": [],
   "source": [
    "ttg      <- data.frame(ttg)\n",
    "metadata <- data.frame(metadata)"
   ]
  },
  {
   "cell_type": "code",
   "execution_count": null,
   "id": "92622045-2bc5-4756-bf26-218a3244c69b",
   "metadata": {},
   "outputs": [],
   "source": [
    "head(ttg)"
   ]
  },
  {
   "cell_type": "code",
   "execution_count": null,
   "id": "127a5e33-2837-4687-ab45-8786e87e4bf7",
   "metadata": {},
   "outputs": [],
   "source": [
    "head(metadata)"
   ]
  },
  {
   "cell_type": "markdown",
   "id": "11c20432-066b-4499-add6-71ea21f8fcf7",
   "metadata": {},
   "source": [
    "#### Model (Design) Matrix Required\n",
    "We need to supply a model matrix -- and Sleuth implicitly uses DESeq2\n",
    "\n",
    "[How to use DESeq2](https://www.bioconductor.org/packages/release/bioc/vignettes/DESeq2/inst/doc/DESeq2.html)\n",
    "\n",
    "We have the following to compare condition effects of gender (Male, Female) with Disease type(TAM, DS-AML) in our cases.\n",
    "\n",
    "We have two groups (Male, Female) and two conditions (TAM, DS-AML)"
   ]
  },
  {
   "cell_type": "code",
   "execution_count": null,
   "id": "0d5e229a-213b-4b33-93f7-f6339b5fbafb",
   "metadata": {},
   "outputs": [],
   "source": [
    "group <- factor(metadata$Gender)\n",
    "group"
   ]
  },
  {
   "cell_type": "code",
   "execution_count": null,
   "id": "31d9e6f1-af6d-47be-8b30-16a56c3cb5f6",
   "metadata": {},
   "outputs": [],
   "source": [
    "condition <- factor(metadata$Disease.type)\n",
    "condition"
   ]
  },
  {
   "cell_type": "code",
   "execution_count": null,
   "id": "31e11dd7-998d-46b0-aca7-16011214d33b",
   "metadata": {},
   "outputs": [],
   "source": [
    "full_model <- model.matrix(~group + condition + group:condition)\n",
    "full_model"
   ]
  },
  {
   "cell_type": "code",
   "execution_count": null,
   "id": "839a88a3-6c2f-457f-8b46-8a577f42de61",
   "metadata": {},
   "outputs": [],
   "source": [
    "sample_to_covariates = metadata\n",
    "target_mapping = ttg\n",
    "aggregation_column = \"ens_gene\"\n",
    "gene_mode = TRUE\n",
    "extra_bootstrap_summary = TRUE\n",
    "read_bootstrap_tpm = TRUE\n",
    "full_model = full_model\n",
    "normalize = TRUE"
   ]
  },
  {
   "cell_type": "code",
   "execution_count": null,
   "id": "c5946281-e3e5-4868-ba3f-7a06e83bd4f1",
   "metadata": {},
   "outputs": [],
   "source": [
    "extra_opts <- list(gene_mode, extra_bootstrap_summary, read_bootstrap_tpm, full_model, normalize)\n",
    "names(extra_opts) <- c(\"gene_mode\",\n",
    "                       \"extra_bootstrap_summary\", \n",
    "                       \"read_bootstrap_tpm\", \n",
    "                       \"full_model\",\n",
    "                       \"normalize\")\n",
    "  if (\"extra_bootstrap_summary\" %in% names(extra_opts)) {\n",
    "    extra_bootstrap_summary <- extra_opts$extra_bootstrap_summary\n",
    "  } else {\n",
    "    extra_bootstrap_summary <- FALSE\n",
    "  }\n",
    "  if (\"read_bootstrap_tpm\" %in% names(extra_opts)) {\n",
    "    read_bootstrap_tpm <- extra_opts$read_bootstrap_tpm\n",
    "  } else {\n",
    "    read_bootstrap_tpm <- FALSE\n",
    "  }\n",
    "  if (\"max_bootstrap\" %in% names(extra_opts)) {\n",
    "    max_bootstrap <- extra_opts$max_bootstrap\n",
    "  } else {\n",
    "    max_bootstrap <- NULL\n",
    "  }\n"
   ]
  },
  {
   "cell_type": "code",
   "execution_count": null,
   "id": "63eaaa55-a668-4ef6-911b-788472fd7e93",
   "metadata": {},
   "outputs": [],
   "source": [
    "extra_bootstrap_summary\n",
    "read_bootstrap_tpm\n",
    "max_bootstrap"
   ]
  },
  {
   "cell_type": "code",
   "execution_count": null,
   "id": "ae46d60c-45f5-4cd2-8e48-c561bcab177e",
   "metadata": {},
   "outputs": [],
   "source": [
    "names(extra_opts)"
   ]
  },
  {
   "cell_type": "code",
   "execution_count": null,
   "id": "2f090924-7335-4626-9bd0-a9e3d46db878",
   "metadata": {},
   "outputs": [],
   "source": [
    "so <- sleuth_prep(sample_to_covariates    = metadata, \n",
    "                  target_mapping          = ttg, \n",
    "                  aggregation_column      = 'ens_gene',\n",
    "                  gene_mode               = TRUE,\n",
    "                  extra_bootstrap_summary = TRUE,\n",
    "                  read_bootstrap_tpm      = TRUE,\n",
    "                  full_model              = full_model,\n",
    "                  normalize               = TRUE)\n"
   ]
  },
  {
   "cell_type": "markdown",
   "id": "936b2528-36a5-47da-a298-efab33f94241",
   "metadata": {},
   "source": [
    " \n",
    "\n"
   ]
  },
  {
   "cell_type": "code",
   "execution_count": null,
   "id": "4442bf52-6431-47e9-877f-7987ad4055b0",
   "metadata": {},
   "outputs": [],
   "source": [
    "ttg.df <- data.frame (ttg)"
   ]
  },
  {
   "cell_type": "code",
   "execution_count": null,
   "id": "dfc64998-e3ff-4295-9cd7-21121236ef12",
   "metadata": {},
   "outputs": [],
   "source": [
    "  sample_to_covariates <- as.data.frame(sample_to_covariates)\n",
    "  sample_to_covariates$sample <- as.character(sample_to_covariates$sample)\n"
   ]
  },
  {
   "cell_type": "code",
   "execution_count": null,
   "id": "d0bb6456-3a3c-4f4e-a29a-e9daddacf867",
   "metadata": {},
   "outputs": [],
   "source": [
    "nrow(sample_to_covariates)"
   ]
  }
 ],
 "metadata": {
  "kernelspec": {
   "display_name": "R",
   "language": "R",
   "name": "ir"
  },
  "language_info": {
   "codemirror_mode": "r",
   "file_extension": ".r",
   "mimetype": "text/x-r-source",
   "name": "R",
   "pygments_lexer": "r",
   "version": "4.1.1"
  }
 },
 "nbformat": 4,
 "nbformat_minor": 5
}
